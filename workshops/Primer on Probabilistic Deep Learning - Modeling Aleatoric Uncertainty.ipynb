{
 "cells": [
  {
   "cell_type": "code",
   "execution_count": 172,
   "id": "portable-impact",
   "metadata": {},
   "outputs": [],
   "source": [
    "import tensorflow as tf\n",
    "import tensorflow_probability as tfp\n",
    "import os\n",
    "import numpy as np\n",
    "import matplotlib.pyplot as plt\n",
    "import seaborn as sns\n",
    "import pandas as pd\n",
    "\n",
    "from tensorflow.keras.models import Sequential\n",
    "from tensorflow.keras.layers import Dense, Flatten, Conv2D, MaxPooling2D\n",
    "from tensorflow.keras.losses import SparseCategoricalCrossentropy, MeanSquaredError\n",
    "from tensorflow.keras.optimizers import RMSprop\n",
    "\n",
    "import tensorflow_datasets as tfds\n",
    "\n",
    "tfd = tfp.distributions\n",
    "tfpl = tfp.layers"
   ]
  },
  {
   "cell_type": "markdown",
   "id": "naval-rocket",
   "metadata": {},
   "source": [
    "# 1. Introductory Concepts"
   ]
  },
  {
   "cell_type": "markdown",
   "id": "another-success",
   "metadata": {},
   "source": [
    "<b>Distribution objects</b> capture the essencial operations on probability distributions."
   ]
  },
  {
   "cell_type": "markdown",
   "id": "floppy-illustration",
   "metadata": {},
   "source": [
    "## 1.1 Univariate Distributions\n",
    "\n",
    "Univariate distributions are distribution of a single random variable.\n",
    "\n",
    "$$\\begin{align}\n",
    "\\mathcal{N} &= (\\mu,\\sigma) \\\\\n",
    "\\mu &= 0 \\\\\n",
    "\\sigma &= 1 \\\\\n",
    "\\end{align}$$"
   ]
  },
  {
   "cell_type": "code",
   "execution_count": 173,
   "id": "industrial-visitor",
   "metadata": {},
   "outputs": [
    {
     "data": {
      "text/plain": [
       "<tfp.distributions.Normal 'Normal' batch_shape=[] event_shape=[] dtype=float32>"
      ]
     },
     "execution_count": 173,
     "metadata": {},
     "output_type": "execute_result"
    }
   ],
   "source": [
    "# Create a univariate normal distribution with μ=0 and σ=1\n",
    "\n",
    "normal = tfd.Normal(loc=0, scale=1)\n",
    "normal"
   ]
  },
  {
   "cell_type": "markdown",
   "id": "greek-scholarship",
   "metadata": {},
   "source": [
    "Notice the properties `batch_shape` and `event_shape`. The `event_shape` property is what captures the dimensionality of the random variable. In this case we are using a univariate distribution, that is why the `event_shape` is empty. \n",
    "\n",
    "What can we do with this distribution object. We can, for instance, sample from it."
   ]
  },
  {
   "cell_type": "code",
   "execution_count": 174,
   "id": "purple-graph",
   "metadata": {},
   "outputs": [
    {
     "data": {
      "text/plain": [
       "<tf.Tensor: shape=(), dtype=float32, numpy=0.058266275>"
      ]
     },
     "execution_count": 174,
     "metadata": {},
     "output_type": "execute_result"
    }
   ],
   "source": [
    "# Draw one sample from the normal distribution\n",
    "\n",
    "normal.sample()"
   ]
  },
  {
   "cell_type": "code",
   "execution_count": 175,
   "id": "assumed-neighbor",
   "metadata": {},
   "outputs": [
    {
     "data": {
      "text/plain": [
       "<tf.Tensor: shape=(3,), dtype=float32, numpy=array([-0.30202267,  1.2635828 ,  1.2478709 ], dtype=float32)>"
      ]
     },
     "execution_count": 175,
     "metadata": {},
     "output_type": "execute_result"
    }
   ],
   "source": [
    "# Draw 3 samples from the normal distribution\n",
    "\n",
    "normal.sample(3)"
   ]
  },
  {
   "cell_type": "markdown",
   "id": "presidential-setting",
   "metadata": {},
   "source": [
    "We can also evaluate the Probability Density Function (PDF), in the case of continuous random variables, on a given input."
   ]
  },
  {
   "cell_type": "code",
   "execution_count": 176,
   "id": "fitting-message",
   "metadata": {},
   "outputs": [
    {
     "data": {
      "text/plain": [
       "<tf.Tensor: shape=(), dtype=float32, numpy=0.3910427>"
      ]
     },
     "execution_count": 176,
     "metadata": {},
     "output_type": "execute_result"
    }
   ],
   "source": [
    "# Calculate the pdf(0.2)\n",
    "\n",
    "normal.prob(0.2)"
   ]
  },
  {
   "cell_type": "markdown",
   "id": "increased-insert",
   "metadata": {},
   "source": [
    "We will usually use the log probability of a given input."
   ]
  },
  {
   "cell_type": "code",
   "execution_count": 177,
   "id": "sporting-yugoslavia",
   "metadata": {},
   "outputs": [
    {
     "data": {
      "text/plain": [
       "<tf.Tensor: shape=(), dtype=float32, numpy=-0.9389385>"
      ]
     },
     "execution_count": 177,
     "metadata": {},
     "output_type": "execute_result"
    }
   ],
   "source": [
    "# Calculate the log_prob(0.2)\n",
    "\n",
    "normal.log_prob(0.2)"
   ]
  },
  {
   "cell_type": "code",
   "execution_count": 178,
   "id": "simplified-chaos",
   "metadata": {},
   "outputs": [
    {
     "data": {
      "text/plain": [
       "-0.9389385"
      ]
     },
     "execution_count": 178,
     "metadata": {},
     "output_type": "execute_result"
    }
   ],
   "source": [
    "# It is simply the log of the value returned by the prob method \n",
    "\n",
    "np.log(normal.prob(0.2))"
   ]
  },
  {
   "cell_type": "code",
   "execution_count": 179,
   "id": "regulation-syracuse",
   "metadata": {},
   "outputs": [
    {
     "data": {
      "image/png": "[encoded data removed]",
      "text/plain": [
       "<Figure size 432x288 with 1 Axes>"
      ]
     },
     "metadata": {
      "needs_background": "light"
     },
     "output_type": "display_data"
    }
   ],
   "source": [
    "# Plot a histogram, approximating the density of the distribution\n",
    "\n",
    "plt.hist(normal.sample(10000).numpy(), bins=50, density=True)\n",
    "plt.show()"
   ]
  },
  {
   "cell_type": "markdown",
   "id": "arctic-stage",
   "metadata": {},
   "source": [
    "We can also represent in a single object a batch of distribution of the same type."
   ]
  },
  {
   "cell_type": "code",
   "execution_count": 180,
   "id": "minor-blend",
   "metadata": {},
   "outputs": [
    {
     "data": {
      "text/plain": [
       "<tfp.distributions.Normal 'Normal' batch_shape=[2] event_shape=[] dtype=float32>"
      ]
     },
     "execution_count": 180,
     "metadata": {},
     "output_type": "execute_result"
    }
   ],
   "source": [
    "# Create two univariate normal distributions:\n",
    "# one with μ=0 and σ=1\n",
    "# and another with μ=1 and σ=1\n",
    "\n",
    "normal_batch = tfd.Normal([0, 1],1)\n",
    "normal_batch"
   ]
  },
  {
   "cell_type": "markdown",
   "id": "green-programming",
   "metadata": {},
   "source": [
    "Notice the batch shape in the object above, it has a batch shape of two, meaning that we have two different normal distributions represented in that object. We can obviously sample from this distribution."
   ]
  },
  {
   "cell_type": "code",
   "execution_count": 181,
   "id": "communist-dividend",
   "metadata": {},
   "outputs": [
    {
     "data": {
      "text/plain": [
       "<tf.Tensor: shape=(3, 2), dtype=float32, numpy=\n",
       "array([[-1.4486663 ,  2.1130714 ],\n",
       "       [-0.85912985,  0.8926701 ],\n",
       "       [-0.5956301 ,  0.16556042]], dtype=float32)>"
      ]
     },
     "execution_count": 181,
     "metadata": {},
     "output_type": "execute_result"
    }
   ],
   "source": [
    "# Sample from the batch 2 normal distribution\n",
    "\n",
    "normal_batch.sample(3)"
   ]
  },
  {
   "cell_type": "markdown",
   "id": "assured-philadelphia",
   "metadata": {},
   "source": [
    "Now, the shape of our samples is (3,2), as we are drawing 3 samples from each normal distribution. The same way we can get the values for the PDFs of both distributions."
   ]
  },
  {
   "cell_type": "code",
   "execution_count": 182,
   "id": "annual-recording",
   "metadata": {},
   "outputs": [
    {
     "data": {
      "text/plain": [
       "<tf.Tensor: shape=(2,), dtype=float32, numpy=array([0.24197073, 0.24197073], dtype=float32)>"
      ]
     },
     "execution_count": 182,
     "metadata": {},
     "output_type": "execute_result"
    }
   ],
   "source": [
    "# Get the PDF values for the batch distribution\n",
    "\n",
    "normal_batch.prob([1,2])"
   ]
  },
  {
   "cell_type": "markdown",
   "id": "selective-rendering",
   "metadata": {},
   "source": [
    "The returned shape is the original batch shape. We can go crazy with dimensionality."
   ]
  },
  {
   "cell_type": "code",
   "execution_count": 183,
   "id": "entertaining-afghanistan",
   "metadata": {},
   "outputs": [
    {
     "data": {
      "text/plain": [
       "<tfp.distributions.Normal 'Normal' batch_shape=[1, 3, 2] event_shape=[] dtype=float32>"
      ]
     },
     "execution_count": 183,
     "metadata": {},
     "output_type": "execute_result"
    }
   ],
   "source": [
    "# Use a batch shape with higher rank\n",
    "\n",
    "normal_batch_nD = tfd.Normal([[[0., 1],\n",
    "                             [0.5, 1],\n",
    "                             [3, 2]]], scale=1)\n",
    "normal_batch_nD"
   ]
  },
  {
   "cell_type": "code",
   "execution_count": 184,
   "id": "integral-logan",
   "metadata": {},
   "outputs": [
    {
     "data": {
      "text/plain": [
       "<tf.Tensor: shape=(10, 1, 3, 2), dtype=float32, numpy=\n",
       "array([[[[ 0.52337795,  0.64297   ],\n",
       "         [-0.69964314,  0.58262706],\n",
       "         [ 1.9748341 ,  3.7000346 ]]],\n",
       "\n",
       "\n",
       "       [[[-1.8335208 ,  1.1546469 ],\n",
       "         [ 0.08698025,  2.6438842 ],\n",
       "         [ 2.5595856 ,  2.4680154 ]]],\n",
       "\n",
       "\n",
       "       [[[-0.9307612 ,  0.2640723 ],\n",
       "         [-1.6138644 ,  1.3090308 ],\n",
       "         [ 3.1739514 ,  0.9706086 ]]],\n",
       "\n",
       "\n",
       "       [[[-3.232416  , -0.14331603],\n",
       "         [-0.62904036,  0.07588911],\n",
       "         [ 1.5890679 ,  2.600162  ]]],\n",
       "\n",
       "\n",
       "       [[[ 0.29451978, -0.57438385],\n",
       "         [-1.7437241 ,  1.9871583 ],\n",
       "         [ 2.0440638 ,  2.3980274 ]]],\n",
       "\n",
       "\n",
       "       [[[-0.25111732,  0.53991663],\n",
       "         [ 0.5523139 ,  2.0330272 ],\n",
       "         [-0.21795988,  1.1809968 ]]],\n",
       "\n",
       "\n",
       "       [[[ 2.1080973 ,  2.9275312 ],\n",
       "         [ 0.485002  ,  1.8112307 ],\n",
       "         [ 3.50988   ,  2.7244084 ]]],\n",
       "\n",
       "\n",
       "       [[[ 0.04118196,  1.1321232 ],\n",
       "         [ 1.33672   ,  0.11671829],\n",
       "         [ 3.063174  ,  2.3953094 ]]],\n",
       "\n",
       "\n",
       "       [[[ 0.03408352,  2.8525805 ],\n",
       "         [ 0.04698485,  1.2252263 ],\n",
       "         [ 2.237797  ,  2.2119899 ]]],\n",
       "\n",
       "\n",
       "       [[[ 0.8602954 , -0.189103  ],\n",
       "         [-0.73473775,  0.8164174 ],\n",
       "         [ 2.6376033 ,  2.5591855 ]]]], dtype=float32)>"
      ]
     },
     "execution_count": 184,
     "metadata": {},
     "output_type": "execute_result"
    }
   ],
   "source": [
    "# Sample from the batch of distributions\n",
    "\n",
    "normal_batch_nD.sample(10)"
   ]
  },
  {
   "cell_type": "code",
   "execution_count": 185,
   "id": "mysterious-irrigation",
   "metadata": {},
   "outputs": [
    {
     "data": {
      "text/plain": [
       "TensorShape([10, 1, 3, 2])"
      ]
     },
     "execution_count": 185,
     "metadata": {},
     "output_type": "execute_result"
    }
   ],
   "source": [
    "normal_batch_nD.sample(10).shape"
   ]
  },
  {
   "cell_type": "markdown",
   "id": "plain-exchange",
   "metadata": {},
   "source": [
    "The shape is now (10, 1, 3, 2), where the first dimension is the sample size and the rest are the batched distributions."
   ]
  },
  {
   "cell_type": "markdown",
   "id": "advanced-cheese",
   "metadata": {},
   "source": [
    "## 1.2 Multivariate Distributions"
   ]
  },
  {
   "cell_type": "markdown",
   "id": "future-double",
   "metadata": {},
   "source": [
    "Let's start by defining a multivariate normal distribution. There are multiple ways to do it that you can check in the documentation. It is defined as:\n",
    "\n",
    "$$\\begin{align}\n",
    "\\mathcal{N_1} &= (\\mu_1,\\Sigma_1) \\\\\n",
    "\\mu_1 &= [0, 1] \\\\\n",
    "\\Sigma_1 &= \\begin{bmatrix}\n",
    "1 & 0\\\\\n",
    "0 & 2\n",
    "\\end{bmatrix}\n",
    "\\end{align}$$"
   ]
  },
  {
   "cell_type": "code",
   "execution_count": 186,
   "id": "lasting-poland",
   "metadata": {},
   "outputs": [
    {
     "data": {
      "text/plain": [
       "<tfp.distributions.MultivariateNormalDiag 'MultivariateNormalDiag' batch_shape=[] event_shape=[2] dtype=float32>"
      ]
     },
     "execution_count": 186,
     "metadata": {},
     "output_type": "execute_result"
    }
   ],
   "source": [
    "# Create a multivariate normal distribution with diagonal covariance\n",
    "# with μ = [0, 1] and σ = [1, 2]\n",
    "\n",
    "mv_normal = tfd.MultivariateNormalDiag(loc=[0, 1], scale_diag=[1., 2])\n",
    "mv_normal"
   ]
  },
  {
   "cell_type": "markdown",
   "id": "perfect-hybrid",
   "metadata": {},
   "source": [
    "Notice the difference from the distributions that we have created above. The `event_shape` is now 2, indicating that the random variable for this distribution is 2-dimensional."
   ]
  },
  {
   "cell_type": "code",
   "execution_count": 187,
   "id": "smooth-yorkshire",
   "metadata": {},
   "outputs": [
    {
     "data": {
      "text/plain": [
       "<tf.Tensor: shape=(3, 2), dtype=float32, numpy=\n",
       "array([[-0.47630158, -3.2896776 ],\n",
       "       [ 2.1817942 , -2.6470141 ],\n",
       "       [-1.6997765 , -0.57287264]], dtype=float32)>"
      ]
     },
     "execution_count": 187,
     "metadata": {},
     "output_type": "execute_result"
    }
   ],
   "source": [
    "# Sample from the multivariate normal\n",
    "\n",
    "mv_normal.sample(3)"
   ]
  },
  {
   "cell_type": "code",
   "execution_count": 188,
   "id": "postal-groove",
   "metadata": {},
   "outputs": [
    {
     "data": {
      "image/png": "[encoded data removed]",
      "text/plain": [
       "<Figure size 432x288 with 1 Axes>"
      ]
     },
     "metadata": {
      "needs_background": "light"
     },
     "output_type": "display_data"
    }
   ],
   "source": [
    "# Plot the samples of the distribution\n",
    "\n",
    "plt_sample = mv_normal.sample(10000).numpy()\n",
    "plt.scatter(plt_sample[:,0], plt_sample[:,1], marker='.', alpha=0.05)\n",
    "plt.axis('equal')\n",
    "plt.show()"
   ]
  },
  {
   "cell_type": "markdown",
   "id": "micro-oasis",
   "metadata": {},
   "source": [
    "The data is more spread out in the second dimension (y-axis) as we defined a scale that is twice the value used for the first dimension. Also, there is no correlation between the dimensions, as we used a diagonal multivariate normal distribution (off-diagonal terms are 0).\n",
    "\n",
    "We can define a batch of multivariate distributions.\n",
    "\n",
    "$$\\begin{align}\n",
    "\\mathcal{N_1} &= (\\mu_1,\\Sigma_1) \\\\\n",
    "\\mu_1 &= [0, 0] \\\\\n",
    "\\Sigma_1 &= \\begin{bmatrix}\n",
    "1 & 0\\\\\n",
    "0 & 2\n",
    "\\end{bmatrix} \\\\[10pt]\n",
    "\\mathcal{N_2} &= (\\mu_2,\\Sigma_2) \\\\\n",
    "\\mu_1 &= [1, 1] \\\\\n",
    "\\Sigma_1 &= \\begin{bmatrix}\n",
    "1 & 0\\\\\n",
    "0 & 1\n",
    "\\end{bmatrix} \\\\[10pt]\n",
    "\\mathcal{N_3} &= (\\mu_3,\\Sigma_3) \\\\\n",
    "\\mu_1 &= [0, 0] \\\\\n",
    "\\Sigma_1 &= \\begin{bmatrix}\n",
    "2 & 0\\\\\n",
    "0 & 10\n",
    "\\end{bmatrix}\n",
    "\\end{align}$$"
   ]
  },
  {
   "cell_type": "code",
   "execution_count": 189,
   "id": "environmental-preservation",
   "metadata": {},
   "outputs": [],
   "source": [
    "# Create 3 batches of multivariate normals\n",
    "\n",
    "normal_diag_batch = tfd.MultivariateNormalDiag(loc=[[0,0], [1,1], [0,0]],\n",
    "                                              scale_diag=[[1,2], [1,1], [2,10]])"
   ]
  },
  {
   "cell_type": "code",
   "execution_count": 190,
   "id": "metropolitan-playback",
   "metadata": {},
   "outputs": [
    {
     "data": {
      "text/plain": [
       "array([[[ 1.4146564 ,  4.888121  ],\n",
       "        [ 1.243983  , -0.85801446],\n",
       "        [ 2.6551135 , -7.0267677 ]],\n",
       "\n",
       "       [[ 1.1387651 , -3.1490428 ],\n",
       "        [ 1.7774832 ,  1.6095812 ],\n",
       "        [ 1.7227676 , -0.86594313]],\n",
       "\n",
       "       [[-0.10546044,  1.9006096 ],\n",
       "        [ 1.5164343 ,  1.7439076 ],\n",
       "        [ 0.8410673 , -0.8707316 ]],\n",
       "\n",
       "       ...,\n",
       "\n",
       "       [[ 0.5205298 , -3.0766077 ],\n",
       "        [ 2.639357  , -0.20498955],\n",
       "        [-0.67683715,  1.6409132 ]],\n",
       "\n",
       "       [[-0.9768474 ,  0.82698303],\n",
       "        [ 2.3373728 ,  0.86186504],\n",
       "        [ 0.33705965,  0.4292664 ]],\n",
       "\n",
       "       [[ 0.19859616,  1.6853503 ],\n",
       "        [-0.26115656, -1.58863   ],\n",
       "        [ 2.5262434 , 11.058707  ]]], dtype=float32)"
      ]
     },
     "execution_count": 190,
     "metadata": {},
     "output_type": "execute_result"
    }
   ],
   "source": [
    "# sample from the distribution\n",
    "\n",
    "samples = normal_diag_batch.sample(10000).numpy()\n",
    "samples"
   ]
  },
  {
   "cell_type": "markdown",
   "id": "ranging-october",
   "metadata": {},
   "source": [
    "When sampling we get an output with the following dimensions (number_samples, batch_shape, event_shape)."
   ]
  },
  {
   "cell_type": "code",
   "execution_count": 191,
   "id": "fiscal-walnut",
   "metadata": {},
   "outputs": [
    {
     "data": {
      "text/plain": [
       "<tf.Tensor: shape=(10000, 3), dtype=float32, numpy=\n",
       "array([[-6.5183663, -3.5937498, -5.96169  ],\n",
       "       [-4.418976 , -2.3259115, -5.2083497],\n",
       "       [-2.9881248, -2.2479284, -4.9258246],\n",
       "       ...,\n",
       "       [-3.8496895, -3.9076228, -4.904336 ],\n",
       "       [-3.0936272, -2.7417006, -4.848732 ],\n",
       "       [-2.905795 , -5.983638 , -6.2428226]], dtype=float32)>"
      ]
     },
     "execution_count": 191,
     "metadata": {},
     "output_type": "execute_result"
    }
   ],
   "source": [
    "# Compute log probs\n",
    "\n",
    "normal_diag_batch.log_prob(samples)"
   ]
  },
  {
   "cell_type": "markdown",
   "id": "certified-england",
   "metadata": {},
   "source": [
    "The log-probability has shape (number_samples, batch_shape) as expected."
   ]
  },
  {
   "cell_type": "code",
   "execution_count": 192,
   "id": "minus-nightmare",
   "metadata": {},
   "outputs": [
    {
     "data": {
      "text/plain": [
       "(10000, 3, 2)"
      ]
     },
     "execution_count": 192,
     "metadata": {},
     "output_type": "execute_result"
    }
   ],
   "source": [
    "# create a sample for a plot\n",
    "\n",
    "plt_sample_batch = normal_diag_batch.sample(10000).numpy()\n",
    "plt_sample_batch.shape # (samples, batch, event)"
   ]
  },
  {
   "cell_type": "code",
   "execution_count": 193,
   "id": "romance-redhead",
   "metadata": {},
   "outputs": [
    {
     "data": {
      "image/png": "[encoded data removed]",
      "text/plain": [
       "<Figure size 720x216 with 3 Axes>"
      ]
     },
     "metadata": {
      "needs_background": "light"
     },
     "output_type": "display_data"
    }
   ],
   "source": [
    "# Plot the samples of the mv normal\n",
    "\n",
    "fig, axs = (plt.subplots(1, 3, sharex=True, sharey=True, figsize=(10, 3)))\n",
    "titles = ['cov_diag=[1,2]', 'cov_diag=[1,1]', f'cov_diag=[2,10]']\n",
    "\n",
    "for i, (ax, title) in enumerate(zip(axs, titles)):\n",
    "    samples = plt_sample_batch[:,i,:] # take the ith batch, gives a shape (samples, event_shape)\n",
    "    ax.scatter(samples[:,0], samples[:,1], marker='.', alpha=0.05)\n",
    "    ax.set_title(title)\n",
    "    axs[i].set_ylim(-25, 25)\n",
    "    axs[i].set_xlim(-25, 25)\n",
    "plt.show()"
   ]
  },
  {
   "cell_type": "markdown",
   "id": "quick-greece",
   "metadata": {},
   "source": [
    "## 1.3 Independent Distribution"
   ]
  },
  {
   "cell_type": "markdown",
   "id": "subtle-going",
   "metadata": {},
   "source": [
    "There are cases where we want to interpret a batch of independent distributions over an event space as a single joint distribution over a product of event spaces. This impacts the way we handle the batch and event shapes. An example of such a problem is the Naive Bayes classifier, where the features are independent given a class label.\n",
    "\n",
    "To illustrate, let's define two normal distributions.\n",
    "The first is a multivariate normal of the form:\n",
    "$$\\begin{align}\n",
    "\\mathcal{N_1} &= (\\mu_1,\\Sigma_1) \\\\\n",
    "\\mu_1 &= [0, 1] \\\\\n",
    "\\Sigma_1 &= \\begin{bmatrix}\n",
    "1 & 0\\\\\n",
    "0 & 2\n",
    "\\end{bmatrix}\n",
    "\\end{align}$$\n",
    "\n",
    "\n",
    "The second is a batched normal of the form:\n",
    "$$\\begin{align}\n",
    "\\mathcal{N_{2_1}} &= (\\mu_{2_1},\\sigma_{2_1}) \\\\\n",
    "\\mu_{2_1} &= 0 \\\\\n",
    "\\sigma_{2_1} &= 1 \\\\[10pt]\n",
    "\\mathcal{N_{2_2}} &= (\\mu_{2_2},\\sigma_{2_2}) \\\\\n",
    "\\mu_{2_2} &= 1 \\\\\n",
    "\\sigma_{2_2} &= 2\n",
    "\\end{align}$$"
   ]
  },
  {
   "cell_type": "code",
   "execution_count": 194,
   "id": "dimensional-compound",
   "metadata": {},
   "outputs": [
    {
     "data": {
      "text/plain": [
       "<tf.Tensor: shape=(), dtype=float32, numpy=-2.5822742>"
      ]
     },
     "execution_count": 194,
     "metadata": {},
     "output_type": "execute_result"
    }
   ],
   "source": [
    "# Create a multivariate normal diagonal distribution\n",
    "# with μ=[0,1], σ=[1, 2]\n",
    "\n",
    "mv_normal = tfd.MultivariateNormalDiag(loc=[0, 1], scale_diag=[1,2])\n",
    "mv_normal.log_prob([0.2, 1.5])"
   ]
  },
  {
   "cell_type": "code",
   "execution_count": 195,
   "id": "pleased-mining",
   "metadata": {},
   "outputs": [
    {
     "data": {
      "image/png": "[encoded data removed]",
      "text/plain": [
       "<Figure size 432x432 with 3 Axes>"
      ]
     },
     "metadata": {
      "needs_background": "light"
     },
     "output_type": "display_data"
    }
   ],
   "source": [
    "# Plot the independent dist\n",
    "\n",
    "samples = mv_normal.sample(10000).numpy()\n",
    "x1 = samples[:,0]\n",
    "x2 = samples[:,1]\n",
    "sns.jointplot(x = x1, y = x2, kind='kde', space=0, color='b', xlim=[-6, 7], ylim=[-6, 7]);"
   ]
  },
  {
   "cell_type": "code",
   "execution_count": 196,
   "id": "genetic-portuguese",
   "metadata": {},
   "outputs": [
    {
     "data": {
      "text/plain": [
       "<tf.Tensor: shape=(2,), dtype=float32, numpy=array([-0.9389385, -1.6433357], dtype=float32)>"
      ]
     },
     "execution_count": 196,
     "metadata": {},
     "output_type": "execute_result"
    }
   ],
   "source": [
    "# Create a batched normal distribution\n",
    "# with μ=[0,1], σ=[1, 2]\n",
    "\n",
    "locs = [0,1]\n",
    "scales = [1, 2]\n",
    "\n",
    "batched_normal = tfd.Normal(loc=locs, scale=scales)\n",
    "batched_normal.log_prob([0.2, 1.5])"
   ]
  },
  {
   "cell_type": "code",
   "execution_count": 197,
   "id": "judicial-kidney",
   "metadata": {},
   "outputs": [
    {
     "data": {
      "image/png": "[encoded data removed]",
      "text/plain": [
       "<Figure size 432x288 with 1 Axes>"
      ]
     },
     "metadata": {
      "needs_background": "light"
     },
     "output_type": "display_data"
    }
   ],
   "source": [
    "# Plot the batched normal\n",
    "\n",
    "t = np.linspace(-4, 4, 10000)\n",
    "densities = batched_normal.prob(np.repeat(t[:, np.newaxis], 2, axis=1))\n",
    "\n",
    "sns.lineplot(x=t, y=densities[:, 0], label='loc={}, scale={}'.format(locs[0], scales[0]))\n",
    "sns.lineplot(x=t, y=densities[:, 1], label='loc={}, scale={}'.format(locs[1], scales[1]))\n",
    "plt.ylabel('Probability Density')\n",
    "plt.xlabel('Value')\n",
    "plt.legend()\n",
    "plt.show()"
   ]
  },
  {
   "cell_type": "markdown",
   "id": "spatial-burning",
   "metadata": {},
   "source": [
    "Notice that the first distribution object returns a single log-probability while the second returns 2. The difference is that the array that we pass to the first is interpreted as a single realization of a 2-dimensional random variable. In the second case, the array is interpreted as different inputs for each of the random variables (also referred as batches).\n",
    "\n",
    "In a nutshell the Independent distribution allows us to absorb whatever dimesions we want to absorb to the event dimension."
   ]
  },
  {
   "cell_type": "code",
   "execution_count": 198,
   "id": "facial-casino",
   "metadata": {},
   "outputs": [
    {
     "data": {
      "text/plain": [
       "<tfp.distributions.Independent 'IndependentNormal' batch_shape=[] event_shape=[2] dtype=float32>"
      ]
     },
     "execution_count": 198,
     "metadata": {},
     "output_type": "execute_result"
    }
   ],
   "source": [
    "# Create an independent normal dist from the batched normal dist created above\n",
    "\n",
    "independent_normal = tfd.Independent(batched_normal, reinterpreted_batch_ndims=1)\n",
    "independent_normal"
   ]
  },
  {
   "cell_type": "code",
   "execution_count": 199,
   "id": "optimum-accent",
   "metadata": {},
   "outputs": [
    {
     "data": {
      "text/plain": [
       "<tf.Tensor: shape=(), dtype=float32, numpy=-2.5822742>"
      ]
     },
     "execution_count": 199,
     "metadata": {},
     "output_type": "execute_result"
    }
   ],
   "source": [
    "independent_normal.log_prob([0.2, 1.5])"
   ]
  },
  {
   "cell_type": "code",
   "execution_count": 200,
   "id": "experimental-fluid",
   "metadata": {},
   "outputs": [
    {
     "data": {
      "image/png": "[encoded data removed]",
      "text/plain": [
       "<Figure size 432x432 with 3 Axes>"
      ]
     },
     "metadata": {
      "needs_background": "light"
     },
     "output_type": "display_data"
    }
   ],
   "source": [
    "# Plot the independent dist\n",
    "\n",
    "samples = independent_normal.sample(10000).numpy()\n",
    "x1 = samples[:,0]\n",
    "x2 = samples[:,1]\n",
    "sns.jointplot(x = x1, y = x2, kind='kde', space=0, color='b', xlim=[-6, 7], ylim=[-6, 7]);"
   ]
  },
  {
   "cell_type": "markdown",
   "id": "demographic-relaxation",
   "metadata": {},
   "source": [
    "Notice that now the independent normal created from the batched normal is equivalent to the multivariate normal created above."
   ]
  },
  {
   "cell_type": "markdown",
   "id": "immune-affiliation",
   "metadata": {},
   "source": [
    "## 1.4 Trainable Parameters\n",
    "\n",
    "Now that we know the essencials about TensorFlow Probability objects, it is time to understand how we can train parameters for these distributions. This is the connection that we are missing to start applying what we have learned. \n",
    "\n",
    "In TensorFlow, `Variable` objects are what we use to capture the values of parameter of our deep learning models. These objects are updated during training by, for example, applying gradients obtained from a loss function and data."
   ]
  },
  {
   "cell_type": "code",
   "execution_count": 201,
   "id": "identical-printing",
   "metadata": {},
   "outputs": [
    {
     "data": {
      "text/plain": [
       "(<tf.Variable 'loc:0' shape=() dtype=float32, numpy=0.0>,)"
      ]
     },
     "execution_count": 201,
     "metadata": {},
     "output_type": "execute_result"
    }
   ],
   "source": [
    "# Create a normal distribution with the μ parameter trainable\n",
    "\n",
    "normal = tfd.Normal(loc=tf.Variable(0., name='loc'), scale=5)\n",
    "normal.trainable_variables"
   ]
  },
  {
   "cell_type": "markdown",
   "id": "thrown-footage",
   "metadata": {},
   "source": [
    "For the training procedure, Maximum Likelihood is the usual suspect in deep learning models. In a nutshell, we are looking for the parameters of our model that maximize the probability of the data. \n",
    "\n",
    "The probability density function of a continuous random variable roughly indicates the probability of a sample taking a particular value. We will denote this function $P(x | \\theta)$ where $x$ is the value of the sample and $\\theta$ is the parameter describing the probability distribution:\n",
    "\n",
    "$$\n",
    "P(x | \\theta) = \\text{Prob} (\\text{sampling value $x$ from a distribution with parameter $\\theta$}).\n",
    "$$"
   ]
  },
  {
   "cell_type": "code",
   "execution_count": 202,
   "id": "wanted-referral",
   "metadata": {},
   "outputs": [
    {
     "data": {
      "text/plain": [
       "<tf.Tensor: shape=(), dtype=float32, numpy=0.3989423>"
      ]
     },
     "execution_count": 202,
     "metadata": {},
     "output_type": "execute_result"
    }
   ],
   "source": [
    "# Calculate pdf of 0 for a standard normal dist\n",
    "\n",
    "tfd.Normal(0, 1).prob(0)"
   ]
  },
  {
   "cell_type": "markdown",
   "id": "historic-astrology",
   "metadata": {},
   "source": [
    "When more than one sample is drawn *independently* from the same distribution (which we usually assume), the probability density function of the sample values $x_1, \\ldots, x_n$ is the product of the probability density functions for each individual $x_i$. Written formally:\n",
    "\n",
    "$$\n",
    "P(x_1, \\ldots, x_n | \\theta) = \\prod_{i=1}^n P(x_i | \\theta).\n",
    "$$"
   ]
  },
  {
   "cell_type": "code",
   "execution_count": 203,
   "id": "equal-biology",
   "metadata": {},
   "outputs": [
    {
     "data": {
      "text/plain": [
       "0.01819123"
      ]
     },
     "execution_count": 203,
     "metadata": {},
     "output_type": "execute_result"
    }
   ],
   "source": [
    "X = [-0.5, 0, 1.5]\n",
    "\n",
    "np.prod(tfd.Normal(0, 1).prob(X))"
   ]
  },
  {
   "cell_type": "markdown",
   "id": "indirect-interval",
   "metadata": {},
   "source": [
    "Probability density functions are usually considered functions of $x_1, \\ldots, x_n$, with the parameter $\\theta$ considered fixed. They are used when you know the parameter $\\theta$ and want to know the probability of a sample taking some values $x_1, \\ldots, x_n$. You use this function in *probability*, where you know the distribution and want to make deductions about possible values sampled from it.\n",
    "\n",
    "The *likelihood* function is the same, but with the $x_1, \\ldots, x_n$ considered fixed and with $\\theta$ considered the independent variable. You usually use this function when you know the sample values $x_1, \\ldots, x_n$ (because you've observed them by collecting data), but don't know the parameter $\\theta$. You use this function in *statistics*, where you know the data and want to make inferences about the distribution they came from. \n",
    "\n",
    "For the likelihood, the convention is using the letter $L$, so that\n",
    "\n",
    "$$\n",
    "\\underbrace{L(x_1, \\ldots, x_n | \\theta)}_{\\text{ likelihood,} \\\\ \\text{function of $\\theta$}} = \\underbrace{P(x_1, \\ldots, x_n | \\theta)}_{\\text{probabiliy density,} \\\\ \\text{ function of $x_1, \\ldots, x_n$}}\n",
    "$$\n",
    "\n",
    "We are ready to define our likelihood function for a normal distribution with parameters $\\mu$ and $\\sigma$:\n",
    "\n",
    "$$\\begin{aligned}\n",
    "L = f(X|\\theta) &= f(x_1|\\theta) f(x_2|\\theta),..., f(x_n|\\theta) \\\\\n",
    "&= \\prod^n_{j=1}f(X| \\mu,\\sigma^2) \\\\\n",
    "&= (2\\pi\\sigma^2)^{-n/2} \\exp{\\big(-\\frac{1}{2\\sigma^2} \\sum^n_{j=1}(x_i-\\mu)^2\\big)}\n",
    "\\end{aligned}$$"
   ]
  },
  {
   "cell_type": "code",
   "execution_count": 204,
   "id": "loose-greenhouse",
   "metadata": {},
   "outputs": [],
   "source": [
    "# Create a grid of values for μ and σ and calculate the likelihood\n",
    "# for the different parameter values\n",
    "\n",
    "μ = np.linspace(-2, 2, 100)\n",
    "σ = np.linspace(0, 3, 100)\n",
    "\n",
    "l_x = []\n",
    "for mu in μ:\n",
    "    for sigma in σ:\n",
    "        l_x.append(np.prod(tfd.Normal(mu, sigma).prob(X)))\n",
    "        \n",
    "l_x = np.asarray(l_x).reshape((100, 100)).T"
   ]
  },
  {
   "cell_type": "code",
   "execution_count": 205,
   "id": "polyphonic-associate",
   "metadata": {},
   "outputs": [
    {
     "data": {
      "image/png": "[encoded data removed]",
      "text/plain": [
       "<Figure size 432x288 with 2 Axes>"
      ]
     },
     "metadata": {
      "needs_background": "light"
     },
     "output_type": "display_data"
    }
   ],
   "source": [
    "# Plot the likelihood based on the observed data (fixed)\n",
    "\n",
    "plt.contourf(μ, σ, l_x)\n",
    "plt.xlabel('μ')\n",
    "plt.ylabel('σ')\n",
    "plt.colorbar()\n",
    "plt.title('Likelihood');"
   ]
  },
  {
   "cell_type": "markdown",
   "id": "heavy-bench",
   "metadata": {},
   "source": [
    "We now get to a new problem, multiplying many small probabilities together can be numerically unstable. To overcome this, we can use the log of the same function. The natural logarithm is a monotonically increasing function, which means that if the value on the x-axis increases, the value on the y-axis also increases. This is important because it ensures that the maximum value of the log of the probability occurs at the same point as the original probability function. It does another very conveniently thing for us, it transforms our products into sums.\n",
    "\n",
    "Let's perform the transformation:\n",
    "\n",
    "$$\\begin{aligned}\n",
    "\\log(L(X|\\theta)) &= \\log\\big((2\\pi\\sigma^2)^{-n/2} \\exp{\\big(-\\frac{1}{2\\sigma^2} \\sum^n_{j=1}(y_i-\\mu)^2\\big)\\big)} \\\\\n",
    "&= -\\frac{n}{2}\\log(2\\pi)-\\frac{n}{2}\\log(\\sigma^2)-\\frac{1}{2\\sigma^2}\\sum_{j=1}^{n}(y_i-\\mu)^2\n",
    "\\end{aligned}$$\n",
    "\n",
    "Almost there! We will now work our optimization problem at hand. We can put it as simple as\n",
    "\n",
    "$$\\max_{\\mu,\\sigma^2}\\log(L(X|\\theta))$$\n",
    "\n",
    "The expression derived above can be differentiated to find the maximum. Expanding our parameters we have $\\log(L(X|\\mu, \\sigma))$. As it is a function of the two variables $\\mu$ and $\\sigma$ we use partial derivatives to find the MLE. \n",
    "\n",
    "Let's focus on $\\hat \\mu$ (the hat indicates that it is an estimator, i.e. our output), we compute it from\n",
    "\n",
    "$$\\begin{aligned}\n",
    "& \\quad \\frac{\\partial}{\\partial \\mu} \\log(L(Y|\\mu, \\sigma)) \\\\\n",
    "&= \\frac{\\partial}{\\partial \\mu} \\big(-\\frac{n}{2}\\log(2\\pi)-\\frac{n}{2}\\log(\\sigma^2)-\\frac{1}{2\\sigma^2}\\sum_{j=1}^{n}(x_i-\\mu)^2\\big)\n",
    "\\\\\n",
    "&= \\sum^n_{j=1} \\frac{(x_i - \\mu)}{\\sigma^2}\n",
    "\\end{aligned}$$\n",
    "\n",
    "Setting the expression above equal to zero we get\n",
    "\n",
    "\n",
    "$$\\sum^n_{j=1} \\frac{(x_i - \\mu)}{\\sigma^2} = 0 $$\n",
    "\n",
    "Then\n",
    "$$\\begin{aligned}\n",
    "\\hat\\mu &= \\frac{\\sum^n_{j=1}x_i}{n} \\\\\n",
    "\\hat\\mu &= \\bar x\n",
    "\\end{aligned}$$\n",
    "\n",
    "Surprisingly or not this is the mean of the data."
   ]
  },
  {
   "cell_type": "code",
   "execution_count": 206,
   "id": "graphic-analyst",
   "metadata": {},
   "outputs": [
    {
     "name": "stdout",
     "output_type": "stream",
     "text": [
      "μ True Value: 0.3333333333333333\n",
      "μ Calculated Value: 0.3434343434343434\n",
      "σ True Value: 0.8498365855987975\n",
      "σ Calculated Value: 0.8484848484848485\n"
     ]
    }
   ],
   "source": [
    "# Get maximum values for the μ and σ and compare with true values\n",
    "\n",
    "index_mu_max = np.argmax(l_x, axis=1)[-1]\n",
    "print(f'μ True Value: {np.array(X).mean()}')\n",
    "print(f'μ Calculated Value: {μ[index_mu_max]}')\n",
    "print(f'σ True Value: {np.array(X).std()}')\n",
    "print(f'σ Calculated Value: {σ[np.nanargmax(l_x[:,index_mu_max], axis=0)]}')"
   ]
  },
  {
   "cell_type": "markdown",
   "id": "accessible-example",
   "metadata": {},
   "source": [
    "##### Calculate using TensorFlow"
   ]
  },
  {
   "cell_type": "code",
   "execution_count": 207,
   "id": "pursuant-tolerance",
   "metadata": {},
   "outputs": [],
   "source": [
    "# Create a random variable normall distributed and sample from it\n",
    "\n",
    "x_train = np.random.normal(loc=1, scale=5, size=1000).astype('float32')[:, np.newaxis]"
   ]
  },
  {
   "cell_type": "code",
   "execution_count": 208,
   "id": "worse-signal",
   "metadata": {},
   "outputs": [
    {
     "data": {
      "image/png": "[encoded data removed]",
      "text/plain": [
       "<Figure size 432x288 with 1 Axes>"
      ]
     },
     "metadata": {
      "needs_background": "light"
     },
     "output_type": "display_data"
    }
   ],
   "source": [
    "# Plot a histogram of the random variable\n",
    "\n",
    "plt.hist(x_train, bins=50);"
   ]
  },
  {
   "cell_type": "code",
   "execution_count": 209,
   "id": "arctic-patrick",
   "metadata": {},
   "outputs": [
    {
     "data": {
      "text/plain": [
       "0.9283262"
      ]
     },
     "execution_count": 209,
     "metadata": {},
     "output_type": "execute_result"
    }
   ],
   "source": [
    "# Calculate the mean of the samples of the random variable\n",
    "\n",
    "x_train.mean()"
   ]
  },
  {
   "cell_type": "code",
   "execution_count": 210,
   "id": "static-homework",
   "metadata": {},
   "outputs": [],
   "source": [
    "# Define the negative log likelihood function (loss function)\n",
    "\n",
    "def nll(x_train):\n",
    "    return -tf.reduce_sum(normal.log_prob(x_train))"
   ]
  },
  {
   "cell_type": "markdown",
   "id": "super-offer",
   "metadata": {},
   "source": [
    "Notice that above we are supplying data points to our model and computing the corresponding log-probability for each data point. As we already saw, the `log_prob` method returns a tensor that has the same shape as the data. The log-probability of our data will be the sum of the log-probabilities of each data point."
   ]
  },
  {
   "cell_type": "code",
   "execution_count": 211,
   "id": "dying-terrace",
   "metadata": {},
   "outputs": [
    {
     "name": "stdout",
     "output_type": "stream",
     "text": [
      "Step 000: Loss: 3049.112 Loc: 0.037\n",
      "Step 001: Loss: 3047.761 Loc: 0.073\n",
      "Step 002: Loss: 3046.516 Loc: 0.107\n",
      "Step 003: Loss: 3045.367 Loc: 0.140\n",
      "Step 004: Loss: 3044.310 Loc: 0.171\n",
      "Step 005: Loss: 3043.335 Loc: 0.202\n",
      "Step 006: Loss: 3042.437 Loc: 0.231\n",
      "Step 007: Loss: 3041.609 Loc: 0.259\n",
      "Step 008: Loss: 3040.846 Loc: 0.285\n",
      "Step 009: Loss: 3040.143 Loc: 0.311\n",
      "Step 010: Loss: 3039.494 Loc: 0.336\n",
      "Step 011: Loss: 3038.897 Loc: 0.360\n",
      "Step 012: Loss: 3038.347 Loc: 0.382\n",
      "Step 013: Loss: 3037.839 Loc: 0.404\n",
      "Step 014: Loss: 3037.372 Loc: 0.425\n",
      "Step 015: Loss: 3036.941 Loc: 0.445\n",
      "Step 016: Loss: 3036.544 Loc: 0.465\n",
      "Step 017: Loss: 3036.178 Loc: 0.483\n",
      "Step 018: Loss: 3035.841 Loc: 0.501\n",
      "Step 019: Loss: 3035.530 Loc: 0.518\n",
      "Step 020: Loss: 3035.243 Loc: 0.534\n",
      "Step 021: Loss: 3034.979 Loc: 0.550\n",
      "Step 022: Loss: 3034.736 Loc: 0.565\n",
      "Step 023: Loss: 3034.512 Loc: 0.580\n",
      "Step 024: Loss: 3034.305 Loc: 0.594\n",
      "Step 025: Loss: 3034.115 Loc: 0.607\n",
      "Step 026: Loss: 3033.939 Loc: 0.620\n",
      "Step 027: Loss: 3033.778 Loc: 0.632\n",
      "Step 028: Loss: 3033.628 Loc: 0.644\n",
      "Step 029: Loss: 3033.491 Loc: 0.656\n",
      "Step 030: Loss: 3033.365 Loc: 0.666\n",
      "Step 031: Loss: 3033.248 Loc: 0.677\n",
      "Step 032: Loss: 3033.140 Loc: 0.687\n",
      "Step 033: Loss: 3033.041 Loc: 0.697\n",
      "Step 034: Loss: 3032.950 Loc: 0.706\n",
      "Step 035: Loss: 3032.865 Loc: 0.715\n",
      "Step 036: Loss: 3032.788 Loc: 0.723\n",
      "Step 037: Loss: 3032.717 Loc: 0.732\n",
      "Step 038: Loss: 3032.651 Loc: 0.739\n",
      "Step 039: Loss: 3032.590 Loc: 0.747\n",
      "Step 040: Loss: 3032.534 Loc: 0.754\n",
      "Step 041: Loss: 3032.482 Loc: 0.761\n",
      "Step 042: Loss: 3032.435 Loc: 0.768\n",
      "Step 043: Loss: 3032.391 Loc: 0.774\n",
      "Step 044: Loss: 3032.351 Loc: 0.780\n",
      "Step 045: Loss: 3032.313 Loc: 0.786\n",
      "Step 046: Loss: 3032.280 Loc: 0.792\n",
      "Step 047: Loss: 3032.248 Loc: 0.797\n",
      "Step 048: Loss: 3032.219 Loc: 0.803\n",
      "Step 049: Loss: 3032.192 Loc: 0.808\n",
      "Step 050: Loss: 3032.167 Loc: 0.813\n",
      "Step 051: Loss: 3032.144 Loc: 0.817\n",
      "Step 052: Loss: 3032.123 Loc: 0.822\n",
      "Step 053: Loss: 3032.104 Loc: 0.826\n",
      "Step 054: Loss: 3032.086 Loc: 0.830\n",
      "Step 055: Loss: 3032.069 Loc: 0.834\n",
      "Step 056: Loss: 3032.054 Loc: 0.838\n",
      "Step 057: Loss: 3032.041 Loc: 0.841\n",
      "Step 058: Loss: 3032.027 Loc: 0.845\n",
      "Step 059: Loss: 3032.016 Loc: 0.848\n",
      "Step 060: Loss: 3032.005 Loc: 0.851\n",
      "Step 061: Loss: 3031.995 Loc: 0.854\n",
      "Step 062: Loss: 3031.985 Loc: 0.857\n",
      "Step 063: Loss: 3031.977 Loc: 0.860\n",
      "Step 064: Loss: 3031.969 Loc: 0.863\n",
      "Step 065: Loss: 3031.961 Loc: 0.866\n",
      "Step 066: Loss: 3031.955 Loc: 0.868\n",
      "Step 067: Loss: 3031.949 Loc: 0.870\n",
      "Step 068: Loss: 3031.943 Loc: 0.873\n",
      "Step 069: Loss: 3031.938 Loc: 0.875\n",
      "Step 070: Loss: 3031.933 Loc: 0.877\n",
      "Step 071: Loss: 3031.928 Loc: 0.879\n",
      "Step 072: Loss: 3031.924 Loc: 0.881\n",
      "Step 073: Loss: 3031.921 Loc: 0.883\n",
      "Step 074: Loss: 3031.917 Loc: 0.885\n",
      "Step 075: Loss: 3031.914 Loc: 0.887\n",
      "Step 076: Loss: 3031.911 Loc: 0.888\n",
      "Step 077: Loss: 3031.908 Loc: 0.890\n",
      "Step 078: Loss: 3031.906 Loc: 0.891\n",
      "Step 079: Loss: 3031.903 Loc: 0.893\n",
      "Step 080: Loss: 3031.901 Loc: 0.894\n",
      "Step 081: Loss: 3031.899 Loc: 0.896\n",
      "Step 082: Loss: 3031.897 Loc: 0.897\n",
      "Step 083: Loss: 3031.896 Loc: 0.898\n",
      "Step 084: Loss: 3031.894 Loc: 0.899\n",
      "Step 085: Loss: 3031.893 Loc: 0.901\n",
      "Step 086: Loss: 3031.892 Loc: 0.902\n",
      "Step 087: Loss: 3031.890 Loc: 0.903\n",
      "Step 088: Loss: 3031.889 Loc: 0.904\n",
      "Step 089: Loss: 3031.888 Loc: 0.905\n",
      "Step 090: Loss: 3031.887 Loc: 0.906\n",
      "Step 091: Loss: 3031.886 Loc: 0.907\n",
      "Step 092: Loss: 3031.885 Loc: 0.907\n",
      "Step 093: Loss: 3031.885 Loc: 0.908\n",
      "Step 094: Loss: 3031.884 Loc: 0.909\n",
      "Step 095: Loss: 3031.883 Loc: 0.910\n",
      "Step 096: Loss: 3031.883 Loc: 0.911\n",
      "Step 097: Loss: 3031.882 Loc: 0.911\n",
      "Step 098: Loss: 3031.882 Loc: 0.912\n",
      "Step 099: Loss: 3031.882 Loc: 0.913\n",
      "Step 100: Loss: 3031.881 Loc: 0.913\n",
      "Step 101: Loss: 3031.880 Loc: 0.914\n",
      "Step 102: Loss: 3031.880 Loc: 0.914\n",
      "Step 103: Loss: 3031.880 Loc: 0.915\n",
      "Step 104: Loss: 3031.880 Loc: 0.916\n",
      "Step 105: Loss: 3031.879 Loc: 0.916\n",
      "Step 106: Loss: 3031.879 Loc: 0.917\n",
      "Step 107: Loss: 3031.879 Loc: 0.917\n",
      "Step 108: Loss: 3031.879 Loc: 0.917\n",
      "Step 109: Loss: 3031.878 Loc: 0.918\n",
      "Step 110: Loss: 3031.878 Loc: 0.918\n",
      "Step 111: Loss: 3031.878 Loc: 0.919\n",
      "Step 112: Loss: 3031.878 Loc: 0.919\n",
      "Step 113: Loss: 3031.878 Loc: 0.919\n",
      "Step 114: Loss: 3031.878 Loc: 0.920\n",
      "Step 115: Loss: 3031.877 Loc: 0.920\n",
      "Step 116: Loss: 3031.877 Loc: 0.921\n",
      "Step 117: Loss: 3031.877 Loc: 0.921\n",
      "Step 118: Loss: 3031.877 Loc: 0.921\n",
      "Step 119: Loss: 3031.877 Loc: 0.921\n",
      "Step 120: Loss: 3031.877 Loc: 0.922\n",
      "Step 121: Loss: 3031.877 Loc: 0.922\n",
      "Step 122: Loss: 3031.877 Loc: 0.922\n",
      "Step 123: Loss: 3031.877 Loc: 0.922\n",
      "Step 124: Loss: 3031.877 Loc: 0.923\n",
      "Step 125: Loss: 3031.877 Loc: 0.923\n",
      "Step 126: Loss: 3031.877 Loc: 0.923\n",
      "Step 127: Loss: 3031.877 Loc: 0.923\n",
      "Step 128: Loss: 3031.876 Loc: 0.924\n",
      "Step 129: Loss: 3031.877 Loc: 0.924\n",
      "Step 130: Loss: 3031.876 Loc: 0.924\n",
      "Step 131: Loss: 3031.876 Loc: 0.924\n",
      "Step 132: Loss: 3031.876 Loc: 0.924\n",
      "Step 133: Loss: 3031.876 Loc: 0.924\n",
      "Step 134: Loss: 3031.876 Loc: 0.925\n",
      "Step 135: Loss: 3031.876 Loc: 0.925\n",
      "Step 136: Loss: 3031.876 Loc: 0.925\n",
      "Step 137: Loss: 3031.876 Loc: 0.925\n",
      "Step 138: Loss: 3031.876 Loc: 0.925\n",
      "Step 139: Loss: 3031.876 Loc: 0.925\n",
      "Step 140: Loss: 3031.876 Loc: 0.925\n",
      "Step 141: Loss: 3031.876 Loc: 0.926\n",
      "Step 142: Loss: 3031.876 Loc: 0.926\n",
      "Step 143: Loss: 3031.876 Loc: 0.926\n",
      "Step 144: Loss: 3031.876 Loc: 0.926\n",
      "Step 145: Loss: 3031.876 Loc: 0.926\n",
      "Step 146: Loss: 3031.876 Loc: 0.926\n",
      "Step 147: Loss: 3031.876 Loc: 0.926\n",
      "Step 148: Loss: 3031.876 Loc: 0.926\n",
      "Step 149: Loss: 3031.876 Loc: 0.926\n",
      "Step 150: Loss: 3031.876 Loc: 0.926\n",
      "Step 151: Loss: 3031.876 Loc: 0.926\n",
      "Step 152: Loss: 3031.876 Loc: 0.927\n",
      "Step 153: Loss: 3031.876 Loc: 0.927\n",
      "Step 154: Loss: 3031.876 Loc: 0.927\n",
      "Step 155: Loss: 3031.876 Loc: 0.927\n",
      "Step 156: Loss: 3031.876 Loc: 0.927\n",
      "Step 157: Loss: 3031.876 Loc: 0.927\n",
      "Step 158: Loss: 3031.876 Loc: 0.927\n",
      "Step 159: Loss: 3031.876 Loc: 0.927\n",
      "Step 160: Loss: 3031.876 Loc: 0.927\n",
      "Step 161: Loss: 3031.876 Loc: 0.927\n",
      "Step 162: Loss: 3031.876 Loc: 0.927\n",
      "Step 163: Loss: 3031.876 Loc: 0.927\n",
      "Step 164: Loss: 3031.876 Loc: 0.927\n",
      "Step 165: Loss: 3031.876 Loc: 0.927\n",
      "Step 166: Loss: 3031.876 Loc: 0.927\n",
      "Step 167: Loss: 3031.876 Loc: 0.927\n",
      "Step 168: Loss: 3031.876 Loc: 0.927\n",
      "Step 169: Loss: 3031.876 Loc: 0.927\n",
      "Step 170: Loss: 3031.876 Loc: 0.927\n",
      "Step 171: Loss: 3031.876 Loc: 0.927\n",
      "Step 172: Loss: 3031.876 Loc: 0.928\n",
      "Step 173: Loss: 3031.876 Loc: 0.928\n",
      "Step 174: Loss: 3031.876 Loc: 0.928\n",
      "Step 175: Loss: 3031.876 Loc: 0.928\n",
      "Step 176: Loss: 3031.876 Loc: 0.928\n",
      "Step 177: Loss: 3031.876 Loc: 0.928\n",
      "Step 178: Loss: 3031.876 Loc: 0.928\n",
      "Step 179: Loss: 3031.876 Loc: 0.928\n",
      "Step 180: Loss: 3031.876 Loc: 0.928\n",
      "Step 181: Loss: 3031.876 Loc: 0.928\n",
      "Step 182: Loss: 3031.876 Loc: 0.928\n",
      "Step 183: Loss: 3031.876 Loc: 0.928\n",
      "Step 184: Loss: 3031.876 Loc: 0.928\n",
      "Step 185: Loss: 3031.876 Loc: 0.928\n",
      "Step 186: Loss: 3031.876 Loc: 0.928\n",
      "Step 187: Loss: 3031.876 Loc: 0.928\n",
      "Step 188: Loss: 3031.876 Loc: 0.928\n",
      "Step 189: Loss: 3031.876 Loc: 0.928\n",
      "Step 190: Loss: 3031.876 Loc: 0.928\n",
      "Step 191: Loss: 3031.876 Loc: 0.928\n",
      "Step 192: Loss: 3031.876 Loc: 0.928\n",
      "Step 193: Loss: 3031.876 Loc: 0.928\n",
      "Step 194: Loss: 3031.876 Loc: 0.928\n",
      "Step 195: Loss: 3031.876 Loc: 0.928\n",
      "Step 196: Loss: 3031.876 Loc: 0.928\n",
      "Step 197: Loss: 3031.876 Loc: 0.928\n",
      "Step 198: Loss: 3031.876 Loc: 0.928\n",
      "Step 199: Loss: 3031.876 Loc: 0.928\n",
      "Step 200: Loss: 3031.876 Loc: 0.928\n",
      "Step 201: Loss: 3031.876 Loc: 0.928\n",
      "Step 202: Loss: 3031.876 Loc: 0.928\n",
      "Step 203: Loss: 3031.876 Loc: 0.928\n",
      "Step 204: Loss: 3031.876 Loc: 0.928\n",
      "Step 205: Loss: 3031.876 Loc: 0.928\n",
      "Step 206: Loss: 3031.876 Loc: 0.928\n",
      "Step 207: Loss: 3031.876 Loc: 0.928\n",
      "Step 208: Loss: 3031.876 Loc: 0.928\n",
      "Step 209: Loss: 3031.876 Loc: 0.928\n",
      "Step 210: Loss: 3031.876 Loc: 0.928\n",
      "Step 211: Loss: 3031.876 Loc: 0.928\n",
      "Step 212: Loss: 3031.876 Loc: 0.928\n",
      "Step 213: Loss: 3031.876 Loc: 0.928\n",
      "Step 214: Loss: 3031.876 Loc: 0.928\n",
      "Step 215: Loss: 3031.876 Loc: 0.928\n",
      "Step 216: Loss: 3031.876 Loc: 0.928\n",
      "Step 217: Loss: 3031.876 Loc: 0.928\n",
      "Step 218: Loss: 3031.876 Loc: 0.928\n",
      "Step 219: Loss: 3031.876 Loc: 0.928\n",
      "Step 220: Loss: 3031.876 Loc: 0.928\n",
      "Step 221: Loss: 3031.876 Loc: 0.928\n",
      "Step 222: Loss: 3031.876 Loc: 0.928\n",
      "Step 223: Loss: 3031.876 Loc: 0.928\n",
      "Step 224: Loss: 3031.876 Loc: 0.928\n",
      "Step 225: Loss: 3031.876 Loc: 0.928\n",
      "Step 226: Loss: 3031.876 Loc: 0.928\n",
      "Step 227: Loss: 3031.876 Loc: 0.928\n",
      "Step 228: Loss: 3031.876 Loc: 0.928\n",
      "Step 229: Loss: 3031.876 Loc: 0.928\n",
      "Step 230: Loss: 3031.876 Loc: 0.928\n",
      "Step 231: Loss: 3031.876 Loc: 0.928\n",
      "Step 232: Loss: 3031.876 Loc: 0.928\n",
      "Step 233: Loss: 3031.876 Loc: 0.928\n",
      "Step 234: Loss: 3031.876 Loc: 0.928\n",
      "Step 235: Loss: 3031.876 Loc: 0.928\n",
      "Step 236: Loss: 3031.876 Loc: 0.928\n",
      "Step 237: Loss: 3031.876 Loc: 0.928\n",
      "Step 238: Loss: 3031.876 Loc: 0.928\n",
      "Step 239: Loss: 3031.876 Loc: 0.928\n",
      "Step 240: Loss: 3031.876 Loc: 0.928\n",
      "Step 241: Loss: 3031.876 Loc: 0.928\n",
      "Step 242: Loss: 3031.876 Loc: 0.928\n",
      "Step 243: Loss: 3031.876 Loc: 0.928\n",
      "Step 244: Loss: 3031.876 Loc: 0.928\n",
      "Step 245: Loss: 3031.876 Loc: 0.928\n",
      "Step 246: Loss: 3031.876 Loc: 0.928\n",
      "Step 247: Loss: 3031.876 Loc: 0.928\n",
      "Step 248: Loss: 3031.876 Loc: 0.928\n",
      "Step 249: Loss: 3031.876 Loc: 0.928\n",
      "Step 250: Loss: 3031.876 Loc: 0.928\n",
      "Step 251: Loss: 3031.876 Loc: 0.928\n",
      "Step 252: Loss: 3031.876 Loc: 0.928\n",
      "Step 253: Loss: 3031.876 Loc: 0.928\n",
      "Step 254: Loss: 3031.876 Loc: 0.928\n",
      "Step 255: Loss: 3031.876 Loc: 0.928\n",
      "Step 256: Loss: 3031.876 Loc: 0.928\n",
      "Step 257: Loss: 3031.876 Loc: 0.928\n",
      "Step 258: Loss: 3031.876 Loc: 0.928\n",
      "Step 259: Loss: 3031.876 Loc: 0.928\n",
      "Step 260: Loss: 3031.876 Loc: 0.928\n",
      "Step 261: Loss: 3031.876 Loc: 0.928\n",
      "Step 262: Loss: 3031.876 Loc: 0.928\n",
      "Step 263: Loss: 3031.876 Loc: 0.928\n",
      "Step 264: Loss: 3031.876 Loc: 0.928\n",
      "Step 265: Loss: 3031.876 Loc: 0.928\n",
      "Step 266: Loss: 3031.876 Loc: 0.928\n",
      "Step 267: Loss: 3031.876 Loc: 0.928\n",
      "Step 268: Loss: 3031.876 Loc: 0.928\n",
      "Step 269: Loss: 3031.876 Loc: 0.928\n",
      "Step 270: Loss: 3031.876 Loc: 0.928\n",
      "Step 271: Loss: 3031.876 Loc: 0.928\n",
      "Step 272: Loss: 3031.876 Loc: 0.928\n",
      "Step 273: Loss: 3031.876 Loc: 0.928\n",
      "Step 274: Loss: 3031.876 Loc: 0.928\n",
      "Step 275: Loss: 3031.876 Loc: 0.928\n",
      "Step 276: Loss: 3031.876 Loc: 0.928\n",
      "Step 277: Loss: 3031.876 Loc: 0.928\n",
      "Step 278: Loss: 3031.876 Loc: 0.928\n",
      "Step 279: Loss: 3031.876 Loc: 0.928\n",
      "Step 280: Loss: 3031.876 Loc: 0.928\n",
      "Step 281: Loss: 3031.876 Loc: 0.928\n",
      "Step 282: Loss: 3031.876 Loc: 0.928\n",
      "Step 283: Loss: 3031.876 Loc: 0.928\n",
      "Step 284: Loss: 3031.876 Loc: 0.928\n",
      "Step 285: Loss: 3031.876 Loc: 0.928\n",
      "Step 286: Loss: 3031.876 Loc: 0.928\n",
      "Step 287: Loss: 3031.876 Loc: 0.928\n",
      "Step 288: Loss: 3031.876 Loc: 0.928\n",
      "Step 289: Loss: 3031.876 Loc: 0.928\n",
      "Step 290: Loss: 3031.876 Loc: 0.928\n",
      "Step 291: Loss: 3031.876 Loc: 0.928\n",
      "Step 292: Loss: 3031.876 Loc: 0.928\n",
      "Step 293: Loss: 3031.876 Loc: 0.928\n",
      "Step 294: Loss: 3031.876 Loc: 0.928\n",
      "Step 295: Loss: 3031.876 Loc: 0.928\n",
      "Step 296: Loss: 3031.876 Loc: 0.928\n",
      "Step 297: Loss: 3031.876 Loc: 0.928\n",
      "Step 298: Loss: 3031.876 Loc: 0.928\n",
      "Step 299: Loss: 3031.876 Loc: 0.928\n",
      "Step 300: Loss: 3031.876 Loc: 0.928\n",
      "Step 301: Loss: 3031.876 Loc: 0.928\n",
      "Step 302: Loss: 3031.876 Loc: 0.928\n",
      "Step 303: Loss: 3031.876 Loc: 0.928\n",
      "Step 304: Loss: 3031.876 Loc: 0.928\n",
      "Step 305: Loss: 3031.876 Loc: 0.928\n",
      "Step 306: Loss: 3031.876 Loc: 0.928\n",
      "Step 307: Loss: 3031.876 Loc: 0.928\n",
      "Step 308: Loss: 3031.876 Loc: 0.928\n",
      "Step 309: Loss: 3031.876 Loc: 0.928\n",
      "Step 310: Loss: 3031.876 Loc: 0.928\n",
      "Step 311: Loss: 3031.876 Loc: 0.928\n",
      "Step 312: Loss: 3031.876 Loc: 0.928\n",
      "Step 313: Loss: 3031.876 Loc: 0.928\n",
      "Step 314: Loss: 3031.876 Loc: 0.928\n",
      "Step 315: Loss: 3031.876 Loc: 0.928\n",
      "Step 316: Loss: 3031.876 Loc: 0.928\n",
      "Step 317: Loss: 3031.876 Loc: 0.928\n",
      "Step 318: Loss: 3031.876 Loc: 0.928\n",
      "Step 319: Loss: 3031.876 Loc: 0.928\n",
      "Step 320: Loss: 3031.876 Loc: 0.928\n",
      "Step 321: Loss: 3031.876 Loc: 0.928\n",
      "Step 322: Loss: 3031.876 Loc: 0.928\n",
      "Step 323: Loss: 3031.876 Loc: 0.928\n",
      "Step 324: Loss: 3031.876 Loc: 0.928\n",
      "Step 325: Loss: 3031.876 Loc: 0.928\n",
      "Step 326: Loss: 3031.876 Loc: 0.928\n",
      "Step 327: Loss: 3031.876 Loc: 0.928\n",
      "Step 328: Loss: 3031.876 Loc: 0.928\n",
      "Step 329: Loss: 3031.876 Loc: 0.928\n",
      "Step 330: Loss: 3031.876 Loc: 0.928\n",
      "Step 331: Loss: 3031.876 Loc: 0.928\n",
      "Step 332: Loss: 3031.876 Loc: 0.928\n",
      "Step 333: Loss: 3031.876 Loc: 0.928\n",
      "Step 334: Loss: 3031.876 Loc: 0.928\n",
      "Step 335: Loss: 3031.876 Loc: 0.928\n",
      "Step 336: Loss: 3031.876 Loc: 0.928\n",
      "Step 337: Loss: 3031.876 Loc: 0.928\n",
      "Step 338: Loss: 3031.876 Loc: 0.928\n",
      "Step 339: Loss: 3031.876 Loc: 0.928\n",
      "Step 340: Loss: 3031.876 Loc: 0.928\n",
      "Step 341: Loss: 3031.876 Loc: 0.928\n",
      "Step 342: Loss: 3031.876 Loc: 0.928\n",
      "Step 343: Loss: 3031.876 Loc: 0.928\n",
      "Step 344: Loss: 3031.876 Loc: 0.928\n",
      "Step 345: Loss: 3031.876 Loc: 0.928\n",
      "Step 346: Loss: 3031.876 Loc: 0.928\n",
      "Step 347: Loss: 3031.876 Loc: 0.928\n",
      "Step 348: Loss: 3031.876 Loc: 0.928\n",
      "Step 349: Loss: 3031.876 Loc: 0.928\n",
      "Step 350: Loss: 3031.876 Loc: 0.928\n",
      "Step 351: Loss: 3031.876 Loc: 0.928\n",
      "Step 352: Loss: 3031.876 Loc: 0.928\n",
      "Step 353: Loss: 3031.876 Loc: 0.928\n",
      "Step 354: Loss: 3031.876 Loc: 0.928\n",
      "Step 355: Loss: 3031.876 Loc: 0.928\n",
      "Step 356: Loss: 3031.876 Loc: 0.928\n",
      "Step 357: Loss: 3031.876 Loc: 0.928\n",
      "Step 358: Loss: 3031.876 Loc: 0.928\n",
      "Step 359: Loss: 3031.876 Loc: 0.928\n",
      "Step 360: Loss: 3031.876 Loc: 0.928\n",
      "Step 361: Loss: 3031.876 Loc: 0.928\n",
      "Step 362: Loss: 3031.876 Loc: 0.928\n",
      "Step 363: Loss: 3031.876 Loc: 0.928\n",
      "Step 364: Loss: 3031.876 Loc: 0.928\n",
      "Step 365: Loss: 3031.876 Loc: 0.928\n",
      "Step 366: Loss: 3031.876 Loc: 0.928\n",
      "Step 367: Loss: 3031.876 Loc: 0.928\n",
      "Step 368: Loss: 3031.876 Loc: 0.928\n",
      "Step 369: Loss: 3031.876 Loc: 0.928\n",
      "Step 370: Loss: 3031.876 Loc: 0.928\n",
      "Step 371: Loss: 3031.876 Loc: 0.928\n",
      "Step 372: Loss: 3031.876 Loc: 0.928\n",
      "Step 373: Loss: 3031.876 Loc: 0.928\n",
      "Step 374: Loss: 3031.876 Loc: 0.928\n",
      "Step 375: Loss: 3031.876 Loc: 0.928\n",
      "Step 376: Loss: 3031.876 Loc: 0.928\n",
      "Step 377: Loss: 3031.876 Loc: 0.928\n",
      "Step 378: Loss: 3031.876 Loc: 0.928\n",
      "Step 379: Loss: 3031.876 Loc: 0.928\n",
      "Step 380: Loss: 3031.876 Loc: 0.928\n",
      "Step 381: Loss: 3031.876 Loc: 0.928\n",
      "Step 382: Loss: 3031.876 Loc: 0.928\n",
      "Step 383: Loss: 3031.876 Loc: 0.928\n",
      "Step 384: Loss: 3031.876 Loc: 0.928\n",
      "Step 385: Loss: 3031.876 Loc: 0.928\n",
      "Step 386: Loss: 3031.876 Loc: 0.928\n"
     ]
    },
    {
     "name": "stdout",
     "output_type": "stream",
     "text": [
      "Step 387: Loss: 3031.876 Loc: 0.928\n",
      "Step 388: Loss: 3031.876 Loc: 0.928\n",
      "Step 389: Loss: 3031.876 Loc: 0.928\n",
      "Step 390: Loss: 3031.876 Loc: 0.928\n",
      "Step 391: Loss: 3031.876 Loc: 0.928\n",
      "Step 392: Loss: 3031.876 Loc: 0.928\n",
      "Step 393: Loss: 3031.876 Loc: 0.928\n",
      "Step 394: Loss: 3031.876 Loc: 0.928\n",
      "Step 395: Loss: 3031.876 Loc: 0.928\n",
      "Step 396: Loss: 3031.876 Loc: 0.928\n",
      "Step 397: Loss: 3031.876 Loc: 0.928\n",
      "Step 398: Loss: 3031.876 Loc: 0.928\n",
      "Step 399: Loss: 3031.876 Loc: 0.928\n",
      "Step 400: Loss: 3031.876 Loc: 0.928\n",
      "Step 401: Loss: 3031.876 Loc: 0.928\n",
      "Step 402: Loss: 3031.876 Loc: 0.928\n",
      "Step 403: Loss: 3031.876 Loc: 0.928\n",
      "Step 404: Loss: 3031.876 Loc: 0.928\n",
      "Step 405: Loss: 3031.876 Loc: 0.928\n",
      "Step 406: Loss: 3031.876 Loc: 0.928\n",
      "Step 407: Loss: 3031.876 Loc: 0.928\n",
      "Step 408: Loss: 3031.876 Loc: 0.928\n",
      "Step 409: Loss: 3031.876 Loc: 0.928\n",
      "Step 410: Loss: 3031.876 Loc: 0.928\n",
      "Step 411: Loss: 3031.876 Loc: 0.928\n",
      "Step 412: Loss: 3031.876 Loc: 0.928\n",
      "Step 413: Loss: 3031.876 Loc: 0.928\n",
      "Step 414: Loss: 3031.876 Loc: 0.928\n",
      "Step 415: Loss: 3031.876 Loc: 0.928\n",
      "Step 416: Loss: 3031.876 Loc: 0.928\n",
      "Step 417: Loss: 3031.876 Loc: 0.928\n",
      "Step 418: Loss: 3031.876 Loc: 0.928\n",
      "Step 419: Loss: 3031.876 Loc: 0.928\n",
      "Step 420: Loss: 3031.876 Loc: 0.928\n",
      "Step 421: Loss: 3031.876 Loc: 0.928\n",
      "Step 422: Loss: 3031.876 Loc: 0.928\n",
      "Step 423: Loss: 3031.876 Loc: 0.928\n",
      "Step 424: Loss: 3031.876 Loc: 0.928\n",
      "Step 425: Loss: 3031.876 Loc: 0.928\n",
      "Step 426: Loss: 3031.876 Loc: 0.928\n",
      "Step 427: Loss: 3031.876 Loc: 0.928\n",
      "Step 428: Loss: 3031.876 Loc: 0.928\n",
      "Step 429: Loss: 3031.876 Loc: 0.928\n",
      "Step 430: Loss: 3031.876 Loc: 0.928\n",
      "Step 431: Loss: 3031.876 Loc: 0.928\n",
      "Step 432: Loss: 3031.876 Loc: 0.928\n",
      "Step 433: Loss: 3031.876 Loc: 0.928\n",
      "Step 434: Loss: 3031.876 Loc: 0.928\n",
      "Step 435: Loss: 3031.876 Loc: 0.928\n",
      "Step 436: Loss: 3031.876 Loc: 0.928\n",
      "Step 437: Loss: 3031.876 Loc: 0.928\n",
      "Step 438: Loss: 3031.876 Loc: 0.928\n",
      "Step 439: Loss: 3031.876 Loc: 0.928\n",
      "Step 440: Loss: 3031.876 Loc: 0.928\n",
      "Step 441: Loss: 3031.876 Loc: 0.928\n",
      "Step 442: Loss: 3031.876 Loc: 0.928\n",
      "Step 443: Loss: 3031.876 Loc: 0.928\n",
      "Step 444: Loss: 3031.876 Loc: 0.928\n",
      "Step 445: Loss: 3031.876 Loc: 0.928\n",
      "Step 446: Loss: 3031.876 Loc: 0.928\n",
      "Step 447: Loss: 3031.876 Loc: 0.928\n",
      "Step 448: Loss: 3031.876 Loc: 0.928\n",
      "Step 449: Loss: 3031.876 Loc: 0.928\n",
      "Step 450: Loss: 3031.876 Loc: 0.928\n",
      "Step 451: Loss: 3031.876 Loc: 0.928\n",
      "Step 452: Loss: 3031.876 Loc: 0.928\n",
      "Step 453: Loss: 3031.876 Loc: 0.928\n",
      "Step 454: Loss: 3031.876 Loc: 0.928\n",
      "Step 455: Loss: 3031.876 Loc: 0.928\n",
      "Step 456: Loss: 3031.876 Loc: 0.928\n",
      "Step 457: Loss: 3031.876 Loc: 0.928\n",
      "Step 458: Loss: 3031.876 Loc: 0.928\n",
      "Step 459: Loss: 3031.876 Loc: 0.928\n",
      "Step 460: Loss: 3031.876 Loc: 0.928\n",
      "Step 461: Loss: 3031.876 Loc: 0.928\n",
      "Step 462: Loss: 3031.876 Loc: 0.928\n",
      "Step 463: Loss: 3031.876 Loc: 0.928\n",
      "Step 464: Loss: 3031.876 Loc: 0.928\n",
      "Step 465: Loss: 3031.876 Loc: 0.928\n",
      "Step 466: Loss: 3031.876 Loc: 0.928\n",
      "Step 467: Loss: 3031.876 Loc: 0.928\n",
      "Step 468: Loss: 3031.876 Loc: 0.928\n",
      "Step 469: Loss: 3031.876 Loc: 0.928\n",
      "Step 470: Loss: 3031.876 Loc: 0.928\n",
      "Step 471: Loss: 3031.876 Loc: 0.928\n",
      "Step 472: Loss: 3031.876 Loc: 0.928\n",
      "Step 473: Loss: 3031.876 Loc: 0.928\n",
      "Step 474: Loss: 3031.876 Loc: 0.928\n",
      "Step 475: Loss: 3031.876 Loc: 0.928\n",
      "Step 476: Loss: 3031.876 Loc: 0.928\n",
      "Step 477: Loss: 3031.876 Loc: 0.928\n",
      "Step 478: Loss: 3031.876 Loc: 0.928\n",
      "Step 479: Loss: 3031.876 Loc: 0.928\n",
      "Step 480: Loss: 3031.876 Loc: 0.928\n",
      "Step 481: Loss: 3031.876 Loc: 0.928\n",
      "Step 482: Loss: 3031.876 Loc: 0.928\n",
      "Step 483: Loss: 3031.876 Loc: 0.928\n",
      "Step 484: Loss: 3031.876 Loc: 0.928\n",
      "Step 485: Loss: 3031.876 Loc: 0.928\n",
      "Step 486: Loss: 3031.876 Loc: 0.928\n",
      "Step 487: Loss: 3031.876 Loc: 0.928\n",
      "Step 488: Loss: 3031.876 Loc: 0.928\n",
      "Step 489: Loss: 3031.876 Loc: 0.928\n",
      "Step 490: Loss: 3031.876 Loc: 0.928\n",
      "Step 491: Loss: 3031.876 Loc: 0.928\n",
      "Step 492: Loss: 3031.876 Loc: 0.928\n",
      "Step 493: Loss: 3031.876 Loc: 0.928\n",
      "Step 494: Loss: 3031.876 Loc: 0.928\n",
      "Step 495: Loss: 3031.876 Loc: 0.928\n",
      "Step 496: Loss: 3031.876 Loc: 0.928\n",
      "Step 497: Loss: 3031.876 Loc: 0.928\n",
      "Step 498: Loss: 3031.876 Loc: 0.928\n",
      "Step 499: Loss: 3031.876 Loc: 0.928\n",
      "Step 500: Loss: 3031.876 Loc: 0.928\n",
      "Step 501: Loss: 3031.876 Loc: 0.928\n",
      "Step 502: Loss: 3031.876 Loc: 0.928\n",
      "Step 503: Loss: 3031.876 Loc: 0.928\n",
      "Step 504: Loss: 3031.876 Loc: 0.928\n",
      "Step 505: Loss: 3031.876 Loc: 0.928\n",
      "Step 506: Loss: 3031.876 Loc: 0.928\n",
      "Step 507: Loss: 3031.876 Loc: 0.928\n",
      "Step 508: Loss: 3031.876 Loc: 0.928\n",
      "Step 509: Loss: 3031.876 Loc: 0.928\n",
      "Step 510: Loss: 3031.876 Loc: 0.928\n",
      "Step 511: Loss: 3031.876 Loc: 0.928\n",
      "Step 512: Loss: 3031.876 Loc: 0.928\n",
      "Step 513: Loss: 3031.876 Loc: 0.928\n",
      "Step 514: Loss: 3031.876 Loc: 0.928\n",
      "Step 515: Loss: 3031.876 Loc: 0.928\n",
      "Step 516: Loss: 3031.876 Loc: 0.928\n",
      "Step 517: Loss: 3031.876 Loc: 0.928\n",
      "Step 518: Loss: 3031.876 Loc: 0.928\n",
      "Step 519: Loss: 3031.876 Loc: 0.928\n",
      "Step 520: Loss: 3031.876 Loc: 0.928\n",
      "Step 521: Loss: 3031.876 Loc: 0.928\n",
      "Step 522: Loss: 3031.876 Loc: 0.928\n",
      "Step 523: Loss: 3031.876 Loc: 0.928\n",
      "Step 524: Loss: 3031.876 Loc: 0.928\n",
      "Step 525: Loss: 3031.876 Loc: 0.928\n",
      "Step 526: Loss: 3031.876 Loc: 0.928\n",
      "Step 527: Loss: 3031.876 Loc: 0.928\n",
      "Step 528: Loss: 3031.876 Loc: 0.928\n",
      "Step 529: Loss: 3031.876 Loc: 0.928\n",
      "Step 530: Loss: 3031.876 Loc: 0.928\n",
      "Step 531: Loss: 3031.876 Loc: 0.928\n",
      "Step 532: Loss: 3031.876 Loc: 0.928\n",
      "Step 533: Loss: 3031.876 Loc: 0.928\n",
      "Step 534: Loss: 3031.876 Loc: 0.928\n",
      "Step 535: Loss: 3031.876 Loc: 0.928\n",
      "Step 536: Loss: 3031.876 Loc: 0.928\n",
      "Step 537: Loss: 3031.876 Loc: 0.928\n",
      "Step 538: Loss: 3031.876 Loc: 0.928\n",
      "Step 539: Loss: 3031.876 Loc: 0.928\n",
      "Step 540: Loss: 3031.876 Loc: 0.928\n",
      "Step 541: Loss: 3031.876 Loc: 0.928\n",
      "Step 542: Loss: 3031.876 Loc: 0.928\n",
      "Step 543: Loss: 3031.876 Loc: 0.928\n",
      "Step 544: Loss: 3031.876 Loc: 0.928\n",
      "Step 545: Loss: 3031.876 Loc: 0.928\n",
      "Step 546: Loss: 3031.876 Loc: 0.928\n",
      "Step 547: Loss: 3031.876 Loc: 0.928\n",
      "Step 548: Loss: 3031.876 Loc: 0.928\n",
      "Step 549: Loss: 3031.876 Loc: 0.928\n",
      "Step 550: Loss: 3031.876 Loc: 0.928\n",
      "Step 551: Loss: 3031.876 Loc: 0.928\n",
      "Step 552: Loss: 3031.876 Loc: 0.928\n",
      "Step 553: Loss: 3031.876 Loc: 0.928\n",
      "Step 554: Loss: 3031.876 Loc: 0.928\n",
      "Step 555: Loss: 3031.876 Loc: 0.928\n",
      "Step 556: Loss: 3031.876 Loc: 0.928\n",
      "Step 557: Loss: 3031.876 Loc: 0.928\n",
      "Step 558: Loss: 3031.876 Loc: 0.928\n",
      "Step 559: Loss: 3031.876 Loc: 0.928\n",
      "Step 560: Loss: 3031.876 Loc: 0.928\n",
      "Step 561: Loss: 3031.876 Loc: 0.928\n",
      "Step 562: Loss: 3031.876 Loc: 0.928\n",
      "Step 563: Loss: 3031.876 Loc: 0.928\n",
      "Step 564: Loss: 3031.876 Loc: 0.928\n",
      "Step 565: Loss: 3031.876 Loc: 0.928\n",
      "Step 566: Loss: 3031.876 Loc: 0.928\n",
      "Step 567: Loss: 3031.876 Loc: 0.928\n",
      "Step 568: Loss: 3031.876 Loc: 0.928\n",
      "Step 569: Loss: 3031.876 Loc: 0.928\n",
      "Step 570: Loss: 3031.876 Loc: 0.928\n",
      "Step 571: Loss: 3031.876 Loc: 0.928\n",
      "Step 572: Loss: 3031.876 Loc: 0.928\n",
      "Step 573: Loss: 3031.876 Loc: 0.928\n",
      "Step 574: Loss: 3031.876 Loc: 0.928\n",
      "Step 575: Loss: 3031.876 Loc: 0.928\n",
      "Step 576: Loss: 3031.876 Loc: 0.928\n",
      "Step 577: Loss: 3031.876 Loc: 0.928\n",
      "Step 578: Loss: 3031.876 Loc: 0.928\n",
      "Step 579: Loss: 3031.876 Loc: 0.928\n",
      "Step 580: Loss: 3031.876 Loc: 0.928\n",
      "Step 581: Loss: 3031.876 Loc: 0.928\n",
      "Step 582: Loss: 3031.876 Loc: 0.928\n",
      "Step 583: Loss: 3031.876 Loc: 0.928\n",
      "Step 584: Loss: 3031.876 Loc: 0.928\n",
      "Step 585: Loss: 3031.876 Loc: 0.928\n",
      "Step 586: Loss: 3031.876 Loc: 0.928\n",
      "Step 587: Loss: 3031.876 Loc: 0.928\n",
      "Step 588: Loss: 3031.876 Loc: 0.928\n",
      "Step 589: Loss: 3031.876 Loc: 0.928\n",
      "Step 590: Loss: 3031.876 Loc: 0.928\n",
      "Step 591: Loss: 3031.876 Loc: 0.928\n",
      "Step 592: Loss: 3031.876 Loc: 0.928\n",
      "Step 593: Loss: 3031.876 Loc: 0.928\n",
      "Step 594: Loss: 3031.876 Loc: 0.928\n",
      "Step 595: Loss: 3031.876 Loc: 0.928\n",
      "Step 596: Loss: 3031.876 Loc: 0.928\n",
      "Step 597: Loss: 3031.876 Loc: 0.928\n",
      "Step 598: Loss: 3031.876 Loc: 0.928\n",
      "Step 599: Loss: 3031.876 Loc: 0.928\n",
      "Step 600: Loss: 3031.876 Loc: 0.928\n",
      "Step 601: Loss: 3031.876 Loc: 0.928\n",
      "Step 602: Loss: 3031.876 Loc: 0.928\n",
      "Step 603: Loss: 3031.876 Loc: 0.928\n",
      "Step 604: Loss: 3031.876 Loc: 0.928\n",
      "Step 605: Loss: 3031.876 Loc: 0.928\n",
      "Step 606: Loss: 3031.876 Loc: 0.928\n",
      "Step 607: Loss: 3031.876 Loc: 0.928\n",
      "Step 608: Loss: 3031.876 Loc: 0.928\n",
      "Step 609: Loss: 3031.876 Loc: 0.928\n",
      "Step 610: Loss: 3031.876 Loc: 0.928\n",
      "Step 611: Loss: 3031.876 Loc: 0.928\n",
      "Step 612: Loss: 3031.876 Loc: 0.928\n",
      "Step 613: Loss: 3031.876 Loc: 0.928\n",
      "Step 614: Loss: 3031.876 Loc: 0.928\n",
      "Step 615: Loss: 3031.876 Loc: 0.928\n",
      "Step 616: Loss: 3031.876 Loc: 0.928\n",
      "Step 617: Loss: 3031.876 Loc: 0.928\n",
      "Step 618: Loss: 3031.876 Loc: 0.928\n",
      "Step 619: Loss: 3031.876 Loc: 0.928\n",
      "Step 620: Loss: 3031.876 Loc: 0.928\n",
      "Step 621: Loss: 3031.876 Loc: 0.928\n",
      "Step 622: Loss: 3031.876 Loc: 0.928\n",
      "Step 623: Loss: 3031.876 Loc: 0.928\n",
      "Step 624: Loss: 3031.876 Loc: 0.928\n",
      "Step 625: Loss: 3031.876 Loc: 0.928\n",
      "Step 626: Loss: 3031.876 Loc: 0.928\n",
      "Step 627: Loss: 3031.876 Loc: 0.928\n",
      "Step 628: Loss: 3031.876 Loc: 0.928\n",
      "Step 629: Loss: 3031.876 Loc: 0.928\n",
      "Step 630: Loss: 3031.876 Loc: 0.928\n",
      "Step 631: Loss: 3031.876 Loc: 0.928\n",
      "Step 632: Loss: 3031.876 Loc: 0.928\n",
      "Step 633: Loss: 3031.876 Loc: 0.928\n",
      "Step 634: Loss: 3031.876 Loc: 0.928\n",
      "Step 635: Loss: 3031.876 Loc: 0.928\n",
      "Step 636: Loss: 3031.876 Loc: 0.928\n",
      "Step 637: Loss: 3031.876 Loc: 0.928\n",
      "Step 638: Loss: 3031.876 Loc: 0.928\n",
      "Step 639: Loss: 3031.876 Loc: 0.928\n",
      "Step 640: Loss: 3031.876 Loc: 0.928\n",
      "Step 641: Loss: 3031.876 Loc: 0.928\n",
      "Step 642: Loss: 3031.876 Loc: 0.928\n",
      "Step 643: Loss: 3031.876 Loc: 0.928\n",
      "Step 644: Loss: 3031.876 Loc: 0.928\n",
      "Step 645: Loss: 3031.876 Loc: 0.928\n",
      "Step 646: Loss: 3031.876 Loc: 0.928\n",
      "Step 647: Loss: 3031.876 Loc: 0.928\n",
      "Step 648: Loss: 3031.876 Loc: 0.928\n",
      "Step 649: Loss: 3031.876 Loc: 0.928\n",
      "Step 650: Loss: 3031.876 Loc: 0.928\n",
      "Step 651: Loss: 3031.876 Loc: 0.928\n",
      "Step 652: Loss: 3031.876 Loc: 0.928\n",
      "Step 653: Loss: 3031.876 Loc: 0.928\n",
      "Step 654: Loss: 3031.876 Loc: 0.928\n",
      "Step 655: Loss: 3031.876 Loc: 0.928\n",
      "Step 656: Loss: 3031.876 Loc: 0.928\n",
      "Step 657: Loss: 3031.876 Loc: 0.928\n",
      "Step 658: Loss: 3031.876 Loc: 0.928\n",
      "Step 659: Loss: 3031.876 Loc: 0.928\n",
      "Step 660: Loss: 3031.876 Loc: 0.928\n",
      "Step 661: Loss: 3031.876 Loc: 0.928\n",
      "Step 662: Loss: 3031.876 Loc: 0.928\n",
      "Step 663: Loss: 3031.876 Loc: 0.928\n",
      "Step 664: Loss: 3031.876 Loc: 0.928\n",
      "Step 665: Loss: 3031.876 Loc: 0.928\n",
      "Step 666: Loss: 3031.876 Loc: 0.928\n",
      "Step 667: Loss: 3031.876 Loc: 0.928\n",
      "Step 668: Loss: 3031.876 Loc: 0.928\n",
      "Step 669: Loss: 3031.876 Loc: 0.928\n",
      "Step 670: Loss: 3031.876 Loc: 0.928\n",
      "Step 671: Loss: 3031.876 Loc: 0.928\n",
      "Step 672: Loss: 3031.876 Loc: 0.928\n",
      "Step 673: Loss: 3031.876 Loc: 0.928\n",
      "Step 674: Loss: 3031.876 Loc: 0.928\n",
      "Step 675: Loss: 3031.876 Loc: 0.928\n",
      "Step 676: Loss: 3031.876 Loc: 0.928\n",
      "Step 677: Loss: 3031.876 Loc: 0.928\n",
      "Step 678: Loss: 3031.876 Loc: 0.928\n",
      "Step 679: Loss: 3031.876 Loc: 0.928\n",
      "Step 680: Loss: 3031.876 Loc: 0.928\n",
      "Step 681: Loss: 3031.876 Loc: 0.928\n",
      "Step 682: Loss: 3031.876 Loc: 0.928\n",
      "Step 683: Loss: 3031.876 Loc: 0.928\n",
      "Step 684: Loss: 3031.876 Loc: 0.928\n",
      "Step 685: Loss: 3031.876 Loc: 0.928\n",
      "Step 686: Loss: 3031.876 Loc: 0.928\n",
      "Step 687: Loss: 3031.876 Loc: 0.928\n",
      "Step 688: Loss: 3031.876 Loc: 0.928\n",
      "Step 689: Loss: 3031.876 Loc: 0.928\n",
      "Step 690: Loss: 3031.876 Loc: 0.928\n",
      "Step 691: Loss: 3031.876 Loc: 0.928\n",
      "Step 692: Loss: 3031.876 Loc: 0.928\n",
      "Step 693: Loss: 3031.876 Loc: 0.928\n",
      "Step 694: Loss: 3031.876 Loc: 0.928\n",
      "Step 695: Loss: 3031.876 Loc: 0.928\n",
      "Step 696: Loss: 3031.876 Loc: 0.928\n",
      "Step 697: Loss: 3031.876 Loc: 0.928\n",
      "Step 698: Loss: 3031.876 Loc: 0.928\n",
      "Step 699: Loss: 3031.876 Loc: 0.928\n",
      "Step 700: Loss: 3031.876 Loc: 0.928\n",
      "Step 701: Loss: 3031.876 Loc: 0.928\n",
      "Step 702: Loss: 3031.876 Loc: 0.928\n",
      "Step 703: Loss: 3031.876 Loc: 0.928\n",
      "Step 704: Loss: 3031.876 Loc: 0.928\n",
      "Step 705: Loss: 3031.876 Loc: 0.928\n",
      "Step 706: Loss: 3031.876 Loc: 0.928\n",
      "Step 707: Loss: 3031.876 Loc: 0.928\n",
      "Step 708: Loss: 3031.876 Loc: 0.928\n",
      "Step 709: Loss: 3031.876 Loc: 0.928\n",
      "Step 710: Loss: 3031.876 Loc: 0.928\n",
      "Step 711: Loss: 3031.876 Loc: 0.928\n",
      "Step 712: Loss: 3031.876 Loc: 0.928\n",
      "Step 713: Loss: 3031.876 Loc: 0.928\n",
      "Step 714: Loss: 3031.876 Loc: 0.928\n",
      "Step 715: Loss: 3031.876 Loc: 0.928\n",
      "Step 716: Loss: 3031.876 Loc: 0.928\n",
      "Step 717: Loss: 3031.876 Loc: 0.928\n",
      "Step 718: Loss: 3031.876 Loc: 0.928\n",
      "Step 719: Loss: 3031.876 Loc: 0.928\n",
      "Step 720: Loss: 3031.876 Loc: 0.928\n",
      "Step 721: Loss: 3031.876 Loc: 0.928\n",
      "Step 722: Loss: 3031.876 Loc: 0.928\n",
      "Step 723: Loss: 3031.876 Loc: 0.928\n",
      "Step 724: Loss: 3031.876 Loc: 0.928\n",
      "Step 725: Loss: 3031.876 Loc: 0.928\n",
      "Step 726: Loss: 3031.876 Loc: 0.928\n",
      "Step 727: Loss: 3031.876 Loc: 0.928\n",
      "Step 728: Loss: 3031.876 Loc: 0.928\n",
      "Step 729: Loss: 3031.876 Loc: 0.928\n",
      "Step 730: Loss: 3031.876 Loc: 0.928\n",
      "Step 731: Loss: 3031.876 Loc: 0.928\n",
      "Step 732: Loss: 3031.876 Loc: 0.928\n",
      "Step 733: Loss: 3031.876 Loc: 0.928\n",
      "Step 734: Loss: 3031.876 Loc: 0.928\n",
      "Step 735: Loss: 3031.876 Loc: 0.928\n",
      "Step 736: Loss: 3031.876 Loc: 0.928\n",
      "Step 737: Loss: 3031.876 Loc: 0.928\n",
      "Step 738: Loss: 3031.876 Loc: 0.928\n",
      "Step 739: Loss: 3031.876 Loc: 0.928\n",
      "Step 740: Loss: 3031.876 Loc: 0.928\n",
      "Step 741: Loss: 3031.876 Loc: 0.928\n",
      "Step 742: Loss: 3031.876 Loc: 0.928\n",
      "Step 743: Loss: 3031.876 Loc: 0.928\n",
      "Step 744: Loss: 3031.876 Loc: 0.928\n",
      "Step 745: Loss: 3031.876 Loc: 0.928\n",
      "Step 746: Loss: 3031.876 Loc: 0.928\n",
      "Step 747: Loss: 3031.876 Loc: 0.928\n",
      "Step 748: Loss: 3031.876 Loc: 0.928\n",
      "Step 749: Loss: 3031.876 Loc: 0.928\n",
      "Step 750: Loss: 3031.876 Loc: 0.928\n",
      "Step 751: Loss: 3031.876 Loc: 0.928\n",
      "Step 752: Loss: 3031.876 Loc: 0.928\n",
      "Step 753: Loss: 3031.876 Loc: 0.928\n",
      "Step 754: Loss: 3031.876 Loc: 0.928\n"
     ]
    },
    {
     "name": "stdout",
     "output_type": "stream",
     "text": [
      "Step 755: Loss: 3031.876 Loc: 0.928\n",
      "Step 756: Loss: 3031.876 Loc: 0.928\n",
      "Step 757: Loss: 3031.876 Loc: 0.928\n",
      "Step 758: Loss: 3031.876 Loc: 0.928\n",
      "Step 759: Loss: 3031.876 Loc: 0.928\n",
      "Step 760: Loss: 3031.876 Loc: 0.928\n",
      "Step 761: Loss: 3031.876 Loc: 0.928\n",
      "Step 762: Loss: 3031.876 Loc: 0.928\n",
      "Step 763: Loss: 3031.876 Loc: 0.928\n",
      "Step 764: Loss: 3031.876 Loc: 0.928\n",
      "Step 765: Loss: 3031.876 Loc: 0.928\n",
      "Step 766: Loss: 3031.876 Loc: 0.928\n",
      "Step 767: Loss: 3031.876 Loc: 0.928\n",
      "Step 768: Loss: 3031.876 Loc: 0.928\n",
      "Step 769: Loss: 3031.876 Loc: 0.928\n",
      "Step 770: Loss: 3031.876 Loc: 0.928\n",
      "Step 771: Loss: 3031.876 Loc: 0.928\n",
      "Step 772: Loss: 3031.876 Loc: 0.928\n",
      "Step 773: Loss: 3031.876 Loc: 0.928\n",
      "Step 774: Loss: 3031.876 Loc: 0.928\n",
      "Step 775: Loss: 3031.876 Loc: 0.928\n",
      "Step 776: Loss: 3031.876 Loc: 0.928\n",
      "Step 777: Loss: 3031.876 Loc: 0.928\n",
      "Step 778: Loss: 3031.876 Loc: 0.928\n",
      "Step 779: Loss: 3031.876 Loc: 0.928\n",
      "Step 780: Loss: 3031.876 Loc: 0.928\n",
      "Step 781: Loss: 3031.876 Loc: 0.928\n",
      "Step 782: Loss: 3031.876 Loc: 0.928\n",
      "Step 783: Loss: 3031.876 Loc: 0.928\n",
      "Step 784: Loss: 3031.876 Loc: 0.928\n",
      "Step 785: Loss: 3031.876 Loc: 0.928\n",
      "Step 786: Loss: 3031.876 Loc: 0.928\n",
      "Step 787: Loss: 3031.876 Loc: 0.928\n",
      "Step 788: Loss: 3031.876 Loc: 0.928\n",
      "Step 789: Loss: 3031.876 Loc: 0.928\n",
      "Step 790: Loss: 3031.876 Loc: 0.928\n",
      "Step 791: Loss: 3031.876 Loc: 0.928\n",
      "Step 792: Loss: 3031.876 Loc: 0.928\n",
      "Step 793: Loss: 3031.876 Loc: 0.928\n",
      "Step 794: Loss: 3031.876 Loc: 0.928\n",
      "Step 795: Loss: 3031.876 Loc: 0.928\n",
      "Step 796: Loss: 3031.876 Loc: 0.928\n",
      "Step 797: Loss: 3031.876 Loc: 0.928\n",
      "Step 798: Loss: 3031.876 Loc: 0.928\n",
      "Step 799: Loss: 3031.876 Loc: 0.928\n",
      "Step 800: Loss: 3031.876 Loc: 0.928\n",
      "Step 801: Loss: 3031.876 Loc: 0.928\n",
      "Step 802: Loss: 3031.876 Loc: 0.928\n",
      "Step 803: Loss: 3031.876 Loc: 0.928\n",
      "Step 804: Loss: 3031.876 Loc: 0.928\n",
      "Step 805: Loss: 3031.876 Loc: 0.928\n",
      "Step 806: Loss: 3031.876 Loc: 0.928\n",
      "Step 807: Loss: 3031.876 Loc: 0.928\n",
      "Step 808: Loss: 3031.876 Loc: 0.928\n",
      "Step 809: Loss: 3031.876 Loc: 0.928\n",
      "Step 810: Loss: 3031.876 Loc: 0.928\n",
      "Step 811: Loss: 3031.876 Loc: 0.928\n",
      "Step 812: Loss: 3031.876 Loc: 0.928\n",
      "Step 813: Loss: 3031.876 Loc: 0.928\n",
      "Step 814: Loss: 3031.876 Loc: 0.928\n",
      "Step 815: Loss: 3031.876 Loc: 0.928\n",
      "Step 816: Loss: 3031.876 Loc: 0.928\n",
      "Step 817: Loss: 3031.876 Loc: 0.928\n",
      "Step 818: Loss: 3031.876 Loc: 0.928\n",
      "Step 819: Loss: 3031.876 Loc: 0.928\n",
      "Step 820: Loss: 3031.876 Loc: 0.928\n",
      "Step 821: Loss: 3031.876 Loc: 0.928\n",
      "Step 822: Loss: 3031.876 Loc: 0.928\n",
      "Step 823: Loss: 3031.876 Loc: 0.928\n",
      "Step 824: Loss: 3031.876 Loc: 0.928\n",
      "Step 825: Loss: 3031.876 Loc: 0.928\n",
      "Step 826: Loss: 3031.876 Loc: 0.928\n",
      "Step 827: Loss: 3031.876 Loc: 0.928\n",
      "Step 828: Loss: 3031.876 Loc: 0.928\n",
      "Step 829: Loss: 3031.876 Loc: 0.928\n",
      "Step 830: Loss: 3031.876 Loc: 0.928\n",
      "Step 831: Loss: 3031.876 Loc: 0.928\n",
      "Step 832: Loss: 3031.876 Loc: 0.928\n",
      "Step 833: Loss: 3031.876 Loc: 0.928\n",
      "Step 834: Loss: 3031.876 Loc: 0.928\n",
      "Step 835: Loss: 3031.876 Loc: 0.928\n",
      "Step 836: Loss: 3031.876 Loc: 0.928\n",
      "Step 837: Loss: 3031.876 Loc: 0.928\n",
      "Step 838: Loss: 3031.876 Loc: 0.928\n",
      "Step 839: Loss: 3031.876 Loc: 0.928\n",
      "Step 840: Loss: 3031.876 Loc: 0.928\n",
      "Step 841: Loss: 3031.876 Loc: 0.928\n",
      "Step 842: Loss: 3031.876 Loc: 0.928\n",
      "Step 843: Loss: 3031.876 Loc: 0.928\n",
      "Step 844: Loss: 3031.876 Loc: 0.928\n",
      "Step 845: Loss: 3031.876 Loc: 0.928\n",
      "Step 846: Loss: 3031.876 Loc: 0.928\n",
      "Step 847: Loss: 3031.876 Loc: 0.928\n",
      "Step 848: Loss: 3031.876 Loc: 0.928\n",
      "Step 849: Loss: 3031.876 Loc: 0.928\n",
      "Step 850: Loss: 3031.876 Loc: 0.928\n",
      "Step 851: Loss: 3031.876 Loc: 0.928\n",
      "Step 852: Loss: 3031.876 Loc: 0.928\n",
      "Step 853: Loss: 3031.876 Loc: 0.928\n",
      "Step 854: Loss: 3031.876 Loc: 0.928\n",
      "Step 855: Loss: 3031.876 Loc: 0.928\n",
      "Step 856: Loss: 3031.876 Loc: 0.928\n",
      "Step 857: Loss: 3031.876 Loc: 0.928\n",
      "Step 858: Loss: 3031.876 Loc: 0.928\n",
      "Step 859: Loss: 3031.876 Loc: 0.928\n",
      "Step 860: Loss: 3031.876 Loc: 0.928\n",
      "Step 861: Loss: 3031.876 Loc: 0.928\n",
      "Step 862: Loss: 3031.876 Loc: 0.928\n",
      "Step 863: Loss: 3031.876 Loc: 0.928\n",
      "Step 864: Loss: 3031.876 Loc: 0.928\n",
      "Step 865: Loss: 3031.876 Loc: 0.928\n",
      "Step 866: Loss: 3031.876 Loc: 0.928\n",
      "Step 867: Loss: 3031.876 Loc: 0.928\n",
      "Step 868: Loss: 3031.876 Loc: 0.928\n",
      "Step 869: Loss: 3031.876 Loc: 0.928\n",
      "Step 870: Loss: 3031.876 Loc: 0.928\n",
      "Step 871: Loss: 3031.876 Loc: 0.928\n",
      "Step 872: Loss: 3031.876 Loc: 0.928\n",
      "Step 873: Loss: 3031.876 Loc: 0.928\n",
      "Step 874: Loss: 3031.876 Loc: 0.928\n",
      "Step 875: Loss: 3031.876 Loc: 0.928\n",
      "Step 876: Loss: 3031.876 Loc: 0.928\n",
      "Step 877: Loss: 3031.876 Loc: 0.928\n",
      "Step 878: Loss: 3031.876 Loc: 0.928\n",
      "Step 879: Loss: 3031.876 Loc: 0.928\n",
      "Step 880: Loss: 3031.876 Loc: 0.928\n",
      "Step 881: Loss: 3031.876 Loc: 0.928\n",
      "Step 882: Loss: 3031.876 Loc: 0.928\n",
      "Step 883: Loss: 3031.876 Loc: 0.928\n",
      "Step 884: Loss: 3031.876 Loc: 0.928\n",
      "Step 885: Loss: 3031.876 Loc: 0.928\n",
      "Step 886: Loss: 3031.876 Loc: 0.928\n",
      "Step 887: Loss: 3031.876 Loc: 0.928\n",
      "Step 888: Loss: 3031.876 Loc: 0.928\n",
      "Step 889: Loss: 3031.876 Loc: 0.928\n",
      "Step 890: Loss: 3031.876 Loc: 0.928\n",
      "Step 891: Loss: 3031.876 Loc: 0.928\n",
      "Step 892: Loss: 3031.876 Loc: 0.928\n",
      "Step 893: Loss: 3031.876 Loc: 0.928\n",
      "Step 894: Loss: 3031.876 Loc: 0.928\n",
      "Step 895: Loss: 3031.876 Loc: 0.928\n",
      "Step 896: Loss: 3031.876 Loc: 0.928\n",
      "Step 897: Loss: 3031.876 Loc: 0.928\n",
      "Step 898: Loss: 3031.876 Loc: 0.928\n",
      "Step 899: Loss: 3031.876 Loc: 0.928\n",
      "Step 900: Loss: 3031.876 Loc: 0.928\n",
      "Step 901: Loss: 3031.876 Loc: 0.928\n",
      "Step 902: Loss: 3031.876 Loc: 0.928\n",
      "Step 903: Loss: 3031.876 Loc: 0.928\n",
      "Step 904: Loss: 3031.876 Loc: 0.928\n",
      "Step 905: Loss: 3031.876 Loc: 0.928\n",
      "Step 906: Loss: 3031.876 Loc: 0.928\n",
      "Step 907: Loss: 3031.876 Loc: 0.928\n",
      "Step 908: Loss: 3031.876 Loc: 0.928\n",
      "Step 909: Loss: 3031.876 Loc: 0.928\n",
      "Step 910: Loss: 3031.876 Loc: 0.928\n",
      "Step 911: Loss: 3031.876 Loc: 0.928\n",
      "Step 912: Loss: 3031.876 Loc: 0.928\n",
      "Step 913: Loss: 3031.876 Loc: 0.928\n",
      "Step 914: Loss: 3031.876 Loc: 0.928\n",
      "Step 915: Loss: 3031.876 Loc: 0.928\n",
      "Step 916: Loss: 3031.876 Loc: 0.928\n",
      "Step 917: Loss: 3031.876 Loc: 0.928\n",
      "Step 918: Loss: 3031.876 Loc: 0.928\n",
      "Step 919: Loss: 3031.876 Loc: 0.928\n",
      "Step 920: Loss: 3031.876 Loc: 0.928\n",
      "Step 921: Loss: 3031.876 Loc: 0.928\n",
      "Step 922: Loss: 3031.876 Loc: 0.928\n",
      "Step 923: Loss: 3031.876 Loc: 0.928\n",
      "Step 924: Loss: 3031.876 Loc: 0.928\n",
      "Step 925: Loss: 3031.876 Loc: 0.928\n",
      "Step 926: Loss: 3031.876 Loc: 0.928\n",
      "Step 927: Loss: 3031.876 Loc: 0.928\n",
      "Step 928: Loss: 3031.876 Loc: 0.928\n",
      "Step 929: Loss: 3031.876 Loc: 0.928\n",
      "Step 930: Loss: 3031.876 Loc: 0.928\n",
      "Step 931: Loss: 3031.876 Loc: 0.928\n",
      "Step 932: Loss: 3031.876 Loc: 0.928\n",
      "Step 933: Loss: 3031.876 Loc: 0.928\n",
      "Step 934: Loss: 3031.876 Loc: 0.928\n",
      "Step 935: Loss: 3031.876 Loc: 0.928\n",
      "Step 936: Loss: 3031.876 Loc: 0.928\n",
      "Step 937: Loss: 3031.876 Loc: 0.928\n",
      "Step 938: Loss: 3031.876 Loc: 0.928\n",
      "Step 939: Loss: 3031.876 Loc: 0.928\n",
      "Step 940: Loss: 3031.876 Loc: 0.928\n",
      "Step 941: Loss: 3031.876 Loc: 0.928\n",
      "Step 942: Loss: 3031.876 Loc: 0.928\n",
      "Step 943: Loss: 3031.876 Loc: 0.928\n",
      "Step 944: Loss: 3031.876 Loc: 0.928\n",
      "Step 945: Loss: 3031.876 Loc: 0.928\n",
      "Step 946: Loss: 3031.876 Loc: 0.928\n",
      "Step 947: Loss: 3031.876 Loc: 0.928\n",
      "Step 948: Loss: 3031.876 Loc: 0.928\n",
      "Step 949: Loss: 3031.876 Loc: 0.928\n",
      "Step 950: Loss: 3031.876 Loc: 0.928\n",
      "Step 951: Loss: 3031.876 Loc: 0.928\n",
      "Step 952: Loss: 3031.876 Loc: 0.928\n",
      "Step 953: Loss: 3031.876 Loc: 0.928\n",
      "Step 954: Loss: 3031.876 Loc: 0.928\n",
      "Step 955: Loss: 3031.876 Loc: 0.928\n",
      "Step 956: Loss: 3031.876 Loc: 0.928\n",
      "Step 957: Loss: 3031.876 Loc: 0.928\n",
      "Step 958: Loss: 3031.876 Loc: 0.928\n",
      "Step 959: Loss: 3031.876 Loc: 0.928\n",
      "Step 960: Loss: 3031.876 Loc: 0.928\n",
      "Step 961: Loss: 3031.876 Loc: 0.928\n",
      "Step 962: Loss: 3031.876 Loc: 0.928\n",
      "Step 963: Loss: 3031.876 Loc: 0.928\n",
      "Step 964: Loss: 3031.876 Loc: 0.928\n",
      "Step 965: Loss: 3031.876 Loc: 0.928\n",
      "Step 966: Loss: 3031.876 Loc: 0.928\n",
      "Step 967: Loss: 3031.876 Loc: 0.928\n",
      "Step 968: Loss: 3031.876 Loc: 0.928\n",
      "Step 969: Loss: 3031.876 Loc: 0.928\n",
      "Step 970: Loss: 3031.876 Loc: 0.928\n",
      "Step 971: Loss: 3031.876 Loc: 0.928\n",
      "Step 972: Loss: 3031.876 Loc: 0.928\n",
      "Step 973: Loss: 3031.876 Loc: 0.928\n",
      "Step 974: Loss: 3031.876 Loc: 0.928\n",
      "Step 975: Loss: 3031.876 Loc: 0.928\n",
      "Step 976: Loss: 3031.876 Loc: 0.928\n",
      "Step 977: Loss: 3031.876 Loc: 0.928\n",
      "Step 978: Loss: 3031.876 Loc: 0.928\n",
      "Step 979: Loss: 3031.876 Loc: 0.928\n",
      "Step 980: Loss: 3031.876 Loc: 0.928\n",
      "Step 981: Loss: 3031.876 Loc: 0.928\n",
      "Step 982: Loss: 3031.876 Loc: 0.928\n",
      "Step 983: Loss: 3031.876 Loc: 0.928\n",
      "Step 984: Loss: 3031.876 Loc: 0.928\n",
      "Step 985: Loss: 3031.876 Loc: 0.928\n",
      "Step 986: Loss: 3031.876 Loc: 0.928\n",
      "Step 987: Loss: 3031.876 Loc: 0.928\n",
      "Step 988: Loss: 3031.876 Loc: 0.928\n",
      "Step 989: Loss: 3031.876 Loc: 0.928\n",
      "Step 990: Loss: 3031.876 Loc: 0.928\n",
      "Step 991: Loss: 3031.876 Loc: 0.928\n",
      "Step 992: Loss: 3031.876 Loc: 0.928\n",
      "Step 993: Loss: 3031.876 Loc: 0.928\n",
      "Step 994: Loss: 3031.876 Loc: 0.928\n",
      "Step 995: Loss: 3031.876 Loc: 0.928\n",
      "Step 996: Loss: 3031.876 Loc: 0.928\n",
      "Step 997: Loss: 3031.876 Loc: 0.928\n",
      "Step 998: Loss: 3031.876 Loc: 0.928\n",
      "Step 999: Loss: 3031.876 Loc: 0.928\n",
      "Step 1000: Loss: 3031.876 Loc: 0.928\n",
      "Step 1001: Loss: 3031.876 Loc: 0.928\n",
      "Step 1002: Loss: 3031.876 Loc: 0.928\n",
      "Step 1003: Loss: 3031.876 Loc: 0.928\n",
      "Step 1004: Loss: 3031.876 Loc: 0.928\n",
      "Step 1005: Loss: 3031.876 Loc: 0.928\n",
      "Step 1006: Loss: 3031.876 Loc: 0.928\n",
      "Step 1007: Loss: 3031.876 Loc: 0.928\n",
      "Step 1008: Loss: 3031.876 Loc: 0.928\n",
      "Step 1009: Loss: 3031.876 Loc: 0.928\n",
      "Step 1010: Loss: 3031.876 Loc: 0.928\n",
      "Step 1011: Loss: 3031.876 Loc: 0.928\n",
      "Step 1012: Loss: 3031.876 Loc: 0.928\n",
      "Step 1013: Loss: 3031.876 Loc: 0.928\n",
      "Step 1014: Loss: 3031.876 Loc: 0.928\n",
      "Step 1015: Loss: 3031.876 Loc: 0.928\n",
      "Step 1016: Loss: 3031.876 Loc: 0.928\n",
      "Step 1017: Loss: 3031.876 Loc: 0.928\n",
      "Step 1018: Loss: 3031.876 Loc: 0.928\n",
      "Step 1019: Loss: 3031.876 Loc: 0.928\n",
      "Step 1020: Loss: 3031.876 Loc: 0.928\n",
      "Step 1021: Loss: 3031.876 Loc: 0.928\n",
      "Step 1022: Loss: 3031.876 Loc: 0.928\n",
      "Step 1023: Loss: 3031.876 Loc: 0.928\n",
      "Step 1024: Loss: 3031.876 Loc: 0.928\n",
      "Step 1025: Loss: 3031.876 Loc: 0.928\n",
      "Step 1026: Loss: 3031.876 Loc: 0.928\n",
      "Step 1027: Loss: 3031.876 Loc: 0.928\n",
      "Step 1028: Loss: 3031.876 Loc: 0.928\n",
      "Step 1029: Loss: 3031.876 Loc: 0.928\n",
      "Step 1030: Loss: 3031.876 Loc: 0.928\n",
      "Step 1031: Loss: 3031.876 Loc: 0.928\n",
      "Step 1032: Loss: 3031.876 Loc: 0.928\n",
      "Step 1033: Loss: 3031.876 Loc: 0.928\n",
      "Step 1034: Loss: 3031.876 Loc: 0.928\n",
      "Step 1035: Loss: 3031.876 Loc: 0.928\n",
      "Step 1036: Loss: 3031.876 Loc: 0.928\n",
      "Step 1037: Loss: 3031.876 Loc: 0.928\n",
      "Step 1038: Loss: 3031.876 Loc: 0.928\n",
      "Step 1039: Loss: 3031.876 Loc: 0.928\n",
      "Step 1040: Loss: 3031.876 Loc: 0.928\n",
      "Step 1041: Loss: 3031.876 Loc: 0.928\n",
      "Step 1042: Loss: 3031.876 Loc: 0.928\n",
      "Step 1043: Loss: 3031.876 Loc: 0.928\n",
      "Step 1044: Loss: 3031.876 Loc: 0.928\n",
      "Step 1045: Loss: 3031.876 Loc: 0.928\n",
      "Step 1046: Loss: 3031.876 Loc: 0.928\n",
      "Step 1047: Loss: 3031.876 Loc: 0.928\n",
      "Step 1048: Loss: 3031.876 Loc: 0.928\n",
      "Step 1049: Loss: 3031.876 Loc: 0.928\n",
      "Step 1050: Loss: 3031.876 Loc: 0.928\n",
      "Step 1051: Loss: 3031.876 Loc: 0.928\n",
      "Step 1052: Loss: 3031.876 Loc: 0.928\n",
      "Step 1053: Loss: 3031.876 Loc: 0.928\n",
      "Step 1054: Loss: 3031.876 Loc: 0.928\n",
      "Step 1055: Loss: 3031.876 Loc: 0.928\n",
      "Step 1056: Loss: 3031.876 Loc: 0.928\n",
      "Step 1057: Loss: 3031.876 Loc: 0.928\n",
      "Step 1058: Loss: 3031.876 Loc: 0.928\n",
      "Step 1059: Loss: 3031.876 Loc: 0.928\n",
      "Step 1060: Loss: 3031.876 Loc: 0.928\n",
      "Step 1061: Loss: 3031.876 Loc: 0.928\n",
      "Step 1062: Loss: 3031.876 Loc: 0.928\n",
      "Step 1063: Loss: 3031.876 Loc: 0.928\n",
      "Step 1064: Loss: 3031.876 Loc: 0.928\n",
      "Step 1065: Loss: 3031.876 Loc: 0.928\n",
      "Step 1066: Loss: 3031.876 Loc: 0.928\n",
      "Step 1067: Loss: 3031.876 Loc: 0.928\n",
      "Step 1068: Loss: 3031.876 Loc: 0.928\n",
      "Step 1069: Loss: 3031.876 Loc: 0.928\n",
      "Step 1070: Loss: 3031.876 Loc: 0.928\n",
      "Step 1071: Loss: 3031.876 Loc: 0.928\n",
      "Step 1072: Loss: 3031.876 Loc: 0.928\n",
      "Step 1073: Loss: 3031.876 Loc: 0.928\n",
      "Step 1074: Loss: 3031.876 Loc: 0.928\n",
      "Step 1075: Loss: 3031.876 Loc: 0.928\n",
      "Step 1076: Loss: 3031.876 Loc: 0.928\n",
      "Step 1077: Loss: 3031.876 Loc: 0.928\n",
      "Step 1078: Loss: 3031.876 Loc: 0.928\n",
      "Step 1079: Loss: 3031.876 Loc: 0.928\n",
      "Step 1080: Loss: 3031.876 Loc: 0.928\n",
      "Step 1081: Loss: 3031.876 Loc: 0.928\n",
      "Step 1082: Loss: 3031.876 Loc: 0.928\n",
      "Step 1083: Loss: 3031.876 Loc: 0.928\n",
      "Step 1084: Loss: 3031.876 Loc: 0.928\n",
      "Step 1085: Loss: 3031.876 Loc: 0.928\n",
      "Step 1086: Loss: 3031.876 Loc: 0.928\n",
      "Step 1087: Loss: 3031.876 Loc: 0.928\n",
      "Step 1088: Loss: 3031.876 Loc: 0.928\n",
      "Step 1089: Loss: 3031.876 Loc: 0.928\n",
      "Step 1090: Loss: 3031.876 Loc: 0.928\n",
      "Step 1091: Loss: 3031.876 Loc: 0.928\n",
      "Step 1092: Loss: 3031.876 Loc: 0.928\n",
      "Step 1093: Loss: 3031.876 Loc: 0.928\n",
      "Step 1094: Loss: 3031.876 Loc: 0.928\n",
      "Step 1095: Loss: 3031.876 Loc: 0.928\n",
      "Step 1096: Loss: 3031.876 Loc: 0.928\n",
      "Step 1097: Loss: 3031.876 Loc: 0.928\n",
      "Step 1098: Loss: 3031.876 Loc: 0.928\n",
      "Step 1099: Loss: 3031.876 Loc: 0.928\n",
      "Step 1100: Loss: 3031.876 Loc: 0.928\n",
      "Step 1101: Loss: 3031.876 Loc: 0.928\n",
      "Step 1102: Loss: 3031.876 Loc: 0.928\n",
      "Step 1103: Loss: 3031.876 Loc: 0.928\n",
      "Step 1104: Loss: 3031.876 Loc: 0.928\n",
      "Step 1105: Loss: 3031.876 Loc: 0.928\n",
      "Step 1106: Loss: 3031.876 Loc: 0.928\n",
      "Step 1107: Loss: 3031.876 Loc: 0.928\n",
      "Step 1108: Loss: 3031.876 Loc: 0.928\n",
      "Step 1109: Loss: 3031.876 Loc: 0.928\n",
      "Step 1110: Loss: 3031.876 Loc: 0.928\n",
      "Step 1111: Loss: 3031.876 Loc: 0.928\n",
      "Step 1112: Loss: 3031.876 Loc: 0.928\n",
      "Step 1113: Loss: 3031.876 Loc: 0.928\n",
      "Step 1114: Loss: 3031.876 Loc: 0.928\n",
      "Step 1115: Loss: 3031.876 Loc: 0.928\n",
      "Step 1116: Loss: 3031.876 Loc: 0.928\n",
      "Step 1117: Loss: 3031.876 Loc: 0.928\n",
      "Step 1118: Loss: 3031.876 Loc: 0.928\n",
      "Step 1119: Loss: 3031.876 Loc: 0.928\n",
      "Step 1120: Loss: 3031.876 Loc: 0.928\n",
      "Step 1121: Loss: 3031.876 Loc: 0.928\n",
      "Step 1122: Loss: 3031.876 Loc: 0.928\n",
      "Step 1123: Loss: 3031.876 Loc: 0.928\n",
      "Step 1124: Loss: 3031.876 Loc: 0.928\n",
      "Step 1125: Loss: 3031.876 Loc: 0.928\n",
      "Step 1126: Loss: 3031.876 Loc: 0.928\n",
      "Step 1127: Loss: 3031.876 Loc: 0.928\n",
      "Step 1128: Loss: 3031.876 Loc: 0.928\n",
      "Step 1129: Loss: 3031.876 Loc: 0.928\n",
      "Step 1130: Loss: 3031.876 Loc: 0.928\n",
      "Step 1131: Loss: 3031.876 Loc: 0.928\n",
      "Step 1132: Loss: 3031.876 Loc: 0.928\n",
      "Step 1133: Loss: 3031.876 Loc: 0.928\n",
      "Step 1134: Loss: 3031.876 Loc: 0.928\n",
      "Step 1135: Loss: 3031.876 Loc: 0.928\n",
      "Step 1136: Loss: 3031.876 Loc: 0.928\n",
      "Step 1137: Loss: 3031.876 Loc: 0.928\n",
      "Step 1138: Loss: 3031.876 Loc: 0.928\n",
      "Step 1139: Loss: 3031.876 Loc: 0.928\n",
      "Step 1140: Loss: 3031.876 Loc: 0.928\n",
      "Step 1141: Loss: 3031.876 Loc: 0.928\n",
      "Step 1142: Loss: 3031.876 Loc: 0.928\n",
      "Step 1143: Loss: 3031.876 Loc: 0.928\n",
      "Step 1144: Loss: 3031.876 Loc: 0.928\n",
      "Step 1145: Loss: 3031.876 Loc: 0.928\n",
      "Step 1146: Loss: 3031.876 Loc: 0.928\n",
      "Step 1147: Loss: 3031.876 Loc: 0.928\n",
      "Step 1148: Loss: 3031.876 Loc: 0.928\n",
      "Step 1149: Loss: 3031.876 Loc: 0.928\n",
      "Step 1150: Loss: 3031.876 Loc: 0.928\n",
      "Step 1151: Loss: 3031.876 Loc: 0.928\n",
      "Step 1152: Loss: 3031.876 Loc: 0.928\n"
     ]
    },
    {
     "name": "stdout",
     "output_type": "stream",
     "text": [
      "Step 1153: Loss: 3031.876 Loc: 0.928\n",
      "Step 1154: Loss: 3031.876 Loc: 0.928\n",
      "Step 1155: Loss: 3031.876 Loc: 0.928\n",
      "Step 1156: Loss: 3031.876 Loc: 0.928\n",
      "Step 1157: Loss: 3031.876 Loc: 0.928\n",
      "Step 1158: Loss: 3031.876 Loc: 0.928\n",
      "Step 1159: Loss: 3031.876 Loc: 0.928\n",
      "Step 1160: Loss: 3031.876 Loc: 0.928\n",
      "Step 1161: Loss: 3031.876 Loc: 0.928\n",
      "Step 1162: Loss: 3031.876 Loc: 0.928\n",
      "Step 1163: Loss: 3031.876 Loc: 0.928\n",
      "Step 1164: Loss: 3031.876 Loc: 0.928\n",
      "Step 1165: Loss: 3031.876 Loc: 0.928\n",
      "Step 1166: Loss: 3031.876 Loc: 0.928\n",
      "Step 1167: Loss: 3031.876 Loc: 0.928\n",
      "Step 1168: Loss: 3031.876 Loc: 0.928\n",
      "Step 1169: Loss: 3031.876 Loc: 0.928\n",
      "Step 1170: Loss: 3031.876 Loc: 0.928\n",
      "Step 1171: Loss: 3031.876 Loc: 0.928\n",
      "Step 1172: Loss: 3031.876 Loc: 0.928\n",
      "Step 1173: Loss: 3031.876 Loc: 0.928\n",
      "Step 1174: Loss: 3031.876 Loc: 0.928\n",
      "Step 1175: Loss: 3031.876 Loc: 0.928\n",
      "Step 1176: Loss: 3031.876 Loc: 0.928\n",
      "Step 1177: Loss: 3031.876 Loc: 0.928\n",
      "Step 1178: Loss: 3031.876 Loc: 0.928\n",
      "Step 1179: Loss: 3031.876 Loc: 0.928\n",
      "Step 1180: Loss: 3031.876 Loc: 0.928\n",
      "Step 1181: Loss: 3031.876 Loc: 0.928\n",
      "Step 1182: Loss: 3031.876 Loc: 0.928\n",
      "Step 1183: Loss: 3031.876 Loc: 0.928\n",
      "Step 1184: Loss: 3031.876 Loc: 0.928\n",
      "Step 1185: Loss: 3031.876 Loc: 0.928\n",
      "Step 1186: Loss: 3031.876 Loc: 0.928\n",
      "Step 1187: Loss: 3031.876 Loc: 0.928\n",
      "Step 1188: Loss: 3031.876 Loc: 0.928\n",
      "Step 1189: Loss: 3031.876 Loc: 0.928\n",
      "Step 1190: Loss: 3031.876 Loc: 0.928\n",
      "Step 1191: Loss: 3031.876 Loc: 0.928\n",
      "Step 1192: Loss: 3031.876 Loc: 0.928\n",
      "Step 1193: Loss: 3031.876 Loc: 0.928\n",
      "Step 1194: Loss: 3031.876 Loc: 0.928\n",
      "Step 1195: Loss: 3031.876 Loc: 0.928\n",
      "Step 1196: Loss: 3031.876 Loc: 0.928\n",
      "Step 1197: Loss: 3031.876 Loc: 0.928\n",
      "Step 1198: Loss: 3031.876 Loc: 0.928\n",
      "Step 1199: Loss: 3031.876 Loc: 0.928\n",
      "Step 1200: Loss: 3031.876 Loc: 0.928\n",
      "Step 1201: Loss: 3031.876 Loc: 0.928\n",
      "Step 1202: Loss: 3031.876 Loc: 0.928\n",
      "Step 1203: Loss: 3031.876 Loc: 0.928\n",
      "Step 1204: Loss: 3031.876 Loc: 0.928\n",
      "Step 1205: Loss: 3031.876 Loc: 0.928\n",
      "Step 1206: Loss: 3031.876 Loc: 0.928\n",
      "Step 1207: Loss: 3031.876 Loc: 0.928\n",
      "Step 1208: Loss: 3031.876 Loc: 0.928\n",
      "Step 1209: Loss: 3031.876 Loc: 0.928\n",
      "Step 1210: Loss: 3031.876 Loc: 0.928\n",
      "Step 1211: Loss: 3031.876 Loc: 0.928\n",
      "Step 1212: Loss: 3031.876 Loc: 0.928\n",
      "Step 1213: Loss: 3031.876 Loc: 0.928\n",
      "Step 1214: Loss: 3031.876 Loc: 0.928\n",
      "Step 1215: Loss: 3031.876 Loc: 0.928\n",
      "Step 1216: Loss: 3031.876 Loc: 0.928\n",
      "Step 1217: Loss: 3031.876 Loc: 0.928\n",
      "Step 1218: Loss: 3031.876 Loc: 0.928\n",
      "Step 1219: Loss: 3031.876 Loc: 0.928\n",
      "Step 1220: Loss: 3031.876 Loc: 0.928\n",
      "Step 1221: Loss: 3031.876 Loc: 0.928\n",
      "Step 1222: Loss: 3031.876 Loc: 0.928\n",
      "Step 1223: Loss: 3031.876 Loc: 0.928\n",
      "Step 1224: Loss: 3031.876 Loc: 0.928\n",
      "Step 1225: Loss: 3031.876 Loc: 0.928\n",
      "Step 1226: Loss: 3031.876 Loc: 0.928\n",
      "Step 1227: Loss: 3031.876 Loc: 0.928\n",
      "Step 1228: Loss: 3031.876 Loc: 0.928\n",
      "Step 1229: Loss: 3031.876 Loc: 0.928\n",
      "Step 1230: Loss: 3031.876 Loc: 0.928\n",
      "Step 1231: Loss: 3031.876 Loc: 0.928\n",
      "Step 1232: Loss: 3031.876 Loc: 0.928\n",
      "Step 1233: Loss: 3031.876 Loc: 0.928\n",
      "Step 1234: Loss: 3031.876 Loc: 0.928\n",
      "Step 1235: Loss: 3031.876 Loc: 0.928\n",
      "Step 1236: Loss: 3031.876 Loc: 0.928\n",
      "Step 1237: Loss: 3031.876 Loc: 0.928\n",
      "Step 1238: Loss: 3031.876 Loc: 0.928\n",
      "Step 1239: Loss: 3031.876 Loc: 0.928\n",
      "Step 1240: Loss: 3031.876 Loc: 0.928\n",
      "Step 1241: Loss: 3031.876 Loc: 0.928\n",
      "Step 1242: Loss: 3031.876 Loc: 0.928\n",
      "Step 1243: Loss: 3031.876 Loc: 0.928\n",
      "Step 1244: Loss: 3031.876 Loc: 0.928\n",
      "Step 1245: Loss: 3031.876 Loc: 0.928\n",
      "Step 1246: Loss: 3031.876 Loc: 0.928\n",
      "Step 1247: Loss: 3031.876 Loc: 0.928\n",
      "Step 1248: Loss: 3031.876 Loc: 0.928\n",
      "Step 1249: Loss: 3031.876 Loc: 0.928\n",
      "Step 1250: Loss: 3031.876 Loc: 0.928\n",
      "Step 1251: Loss: 3031.876 Loc: 0.928\n",
      "Step 1252: Loss: 3031.876 Loc: 0.928\n",
      "Step 1253: Loss: 3031.876 Loc: 0.928\n",
      "Step 1254: Loss: 3031.876 Loc: 0.928\n",
      "Step 1255: Loss: 3031.876 Loc: 0.928\n",
      "Step 1256: Loss: 3031.876 Loc: 0.928\n",
      "Step 1257: Loss: 3031.876 Loc: 0.928\n",
      "Step 1258: Loss: 3031.876 Loc: 0.928\n",
      "Step 1259: Loss: 3031.876 Loc: 0.928\n",
      "Step 1260: Loss: 3031.876 Loc: 0.928\n",
      "Step 1261: Loss: 3031.876 Loc: 0.928\n",
      "Step 1262: Loss: 3031.876 Loc: 0.928\n",
      "Step 1263: Loss: 3031.876 Loc: 0.928\n",
      "Step 1264: Loss: 3031.876 Loc: 0.928\n",
      "Step 1265: Loss: 3031.876 Loc: 0.928\n",
      "Step 1266: Loss: 3031.876 Loc: 0.928\n",
      "Step 1267: Loss: 3031.876 Loc: 0.928\n",
      "Step 1268: Loss: 3031.876 Loc: 0.928\n",
      "Step 1269: Loss: 3031.876 Loc: 0.928\n",
      "Step 1270: Loss: 3031.876 Loc: 0.928\n",
      "Step 1271: Loss: 3031.876 Loc: 0.928\n",
      "Step 1272: Loss: 3031.876 Loc: 0.928\n",
      "Step 1273: Loss: 3031.876 Loc: 0.928\n",
      "Step 1274: Loss: 3031.876 Loc: 0.928\n",
      "Step 1275: Loss: 3031.876 Loc: 0.928\n",
      "Step 1276: Loss: 3031.876 Loc: 0.928\n",
      "Step 1277: Loss: 3031.876 Loc: 0.928\n",
      "Step 1278: Loss: 3031.876 Loc: 0.928\n",
      "Step 1279: Loss: 3031.876 Loc: 0.928\n",
      "Step 1280: Loss: 3031.876 Loc: 0.928\n",
      "Step 1281: Loss: 3031.876 Loc: 0.928\n",
      "Step 1282: Loss: 3031.876 Loc: 0.928\n",
      "Step 1283: Loss: 3031.876 Loc: 0.928\n",
      "Step 1284: Loss: 3031.876 Loc: 0.928\n",
      "Step 1285: Loss: 3031.876 Loc: 0.928\n",
      "Step 1286: Loss: 3031.876 Loc: 0.928\n",
      "Step 1287: Loss: 3031.876 Loc: 0.928\n",
      "Step 1288: Loss: 3031.876 Loc: 0.928\n",
      "Step 1289: Loss: 3031.876 Loc: 0.928\n",
      "Step 1290: Loss: 3031.876 Loc: 0.928\n",
      "Step 1291: Loss: 3031.876 Loc: 0.928\n",
      "Step 1292: Loss: 3031.876 Loc: 0.928\n",
      "Step 1293: Loss: 3031.876 Loc: 0.928\n",
      "Step 1294: Loss: 3031.876 Loc: 0.928\n",
      "Step 1295: Loss: 3031.876 Loc: 0.928\n",
      "Step 1296: Loss: 3031.876 Loc: 0.928\n",
      "Step 1297: Loss: 3031.876 Loc: 0.928\n",
      "Step 1298: Loss: 3031.876 Loc: 0.928\n",
      "Step 1299: Loss: 3031.876 Loc: 0.928\n",
      "Step 1300: Loss: 3031.876 Loc: 0.928\n",
      "Step 1301: Loss: 3031.876 Loc: 0.928\n",
      "Step 1302: Loss: 3031.876 Loc: 0.928\n",
      "Step 1303: Loss: 3031.876 Loc: 0.928\n",
      "Step 1304: Loss: 3031.876 Loc: 0.928\n",
      "Step 1305: Loss: 3031.876 Loc: 0.928\n",
      "Step 1306: Loss: 3031.876 Loc: 0.928\n",
      "Step 1307: Loss: 3031.876 Loc: 0.928\n",
      "Step 1308: Loss: 3031.876 Loc: 0.928\n",
      "Step 1309: Loss: 3031.876 Loc: 0.928\n",
      "Step 1310: Loss: 3031.876 Loc: 0.928\n",
      "Step 1311: Loss: 3031.876 Loc: 0.928\n",
      "Step 1312: Loss: 3031.876 Loc: 0.928\n",
      "Step 1313: Loss: 3031.876 Loc: 0.928\n",
      "Step 1314: Loss: 3031.876 Loc: 0.928\n",
      "Step 1315: Loss: 3031.876 Loc: 0.928\n",
      "Step 1316: Loss: 3031.876 Loc: 0.928\n",
      "Step 1317: Loss: 3031.876 Loc: 0.928\n",
      "Step 1318: Loss: 3031.876 Loc: 0.928\n",
      "Step 1319: Loss: 3031.876 Loc: 0.928\n",
      "Step 1320: Loss: 3031.876 Loc: 0.928\n",
      "Step 1321: Loss: 3031.876 Loc: 0.928\n",
      "Step 1322: Loss: 3031.876 Loc: 0.928\n",
      "Step 1323: Loss: 3031.876 Loc: 0.928\n",
      "Step 1324: Loss: 3031.876 Loc: 0.928\n",
      "Step 1325: Loss: 3031.876 Loc: 0.928\n",
      "Step 1326: Loss: 3031.876 Loc: 0.928\n",
      "Step 1327: Loss: 3031.876 Loc: 0.928\n",
      "Step 1328: Loss: 3031.876 Loc: 0.928\n",
      "Step 1329: Loss: 3031.876 Loc: 0.928\n",
      "Step 1330: Loss: 3031.876 Loc: 0.928\n",
      "Step 1331: Loss: 3031.876 Loc: 0.928\n",
      "Step 1332: Loss: 3031.876 Loc: 0.928\n",
      "Step 1333: Loss: 3031.876 Loc: 0.928\n",
      "Step 1334: Loss: 3031.876 Loc: 0.928\n",
      "Step 1335: Loss: 3031.876 Loc: 0.928\n",
      "Step 1336: Loss: 3031.876 Loc: 0.928\n",
      "Step 1337: Loss: 3031.876 Loc: 0.928\n",
      "Step 1338: Loss: 3031.876 Loc: 0.928\n",
      "Step 1339: Loss: 3031.876 Loc: 0.928\n",
      "Step 1340: Loss: 3031.876 Loc: 0.928\n",
      "Step 1341: Loss: 3031.876 Loc: 0.928\n",
      "Step 1342: Loss: 3031.876 Loc: 0.928\n",
      "Step 1343: Loss: 3031.876 Loc: 0.928\n",
      "Step 1344: Loss: 3031.876 Loc: 0.928\n",
      "Step 1345: Loss: 3031.876 Loc: 0.928\n",
      "Step 1346: Loss: 3031.876 Loc: 0.928\n",
      "Step 1347: Loss: 3031.876 Loc: 0.928\n",
      "Step 1348: Loss: 3031.876 Loc: 0.928\n",
      "Step 1349: Loss: 3031.876 Loc: 0.928\n",
      "Step 1350: Loss: 3031.876 Loc: 0.928\n",
      "Step 1351: Loss: 3031.876 Loc: 0.928\n",
      "Step 1352: Loss: 3031.876 Loc: 0.928\n",
      "Step 1353: Loss: 3031.876 Loc: 0.928\n",
      "Step 1354: Loss: 3031.876 Loc: 0.928\n",
      "Step 1355: Loss: 3031.876 Loc: 0.928\n",
      "Step 1356: Loss: 3031.876 Loc: 0.928\n",
      "Step 1357: Loss: 3031.876 Loc: 0.928\n",
      "Step 1358: Loss: 3031.876 Loc: 0.928\n",
      "Step 1359: Loss: 3031.876 Loc: 0.928\n",
      "Step 1360: Loss: 3031.876 Loc: 0.928\n",
      "Step 1361: Loss: 3031.876 Loc: 0.928\n",
      "Step 1362: Loss: 3031.876 Loc: 0.928\n",
      "Step 1363: Loss: 3031.876 Loc: 0.928\n",
      "Step 1364: Loss: 3031.876 Loc: 0.928\n",
      "Step 1365: Loss: 3031.876 Loc: 0.928\n",
      "Step 1366: Loss: 3031.876 Loc: 0.928\n",
      "Step 1367: Loss: 3031.876 Loc: 0.928\n",
      "Step 1368: Loss: 3031.876 Loc: 0.928\n",
      "Step 1369: Loss: 3031.876 Loc: 0.928\n",
      "Step 1370: Loss: 3031.876 Loc: 0.928\n",
      "Step 1371: Loss: 3031.876 Loc: 0.928\n",
      "Step 1372: Loss: 3031.876 Loc: 0.928\n",
      "Step 1373: Loss: 3031.876 Loc: 0.928\n",
      "Step 1374: Loss: 3031.876 Loc: 0.928\n",
      "Step 1375: Loss: 3031.876 Loc: 0.928\n",
      "Step 1376: Loss: 3031.876 Loc: 0.928\n",
      "Step 1377: Loss: 3031.876 Loc: 0.928\n",
      "Step 1378: Loss: 3031.876 Loc: 0.928\n",
      "Step 1379: Loss: 3031.876 Loc: 0.928\n",
      "Step 1380: Loss: 3031.876 Loc: 0.928\n",
      "Step 1381: Loss: 3031.876 Loc: 0.928\n",
      "Step 1382: Loss: 3031.876 Loc: 0.928\n",
      "Step 1383: Loss: 3031.876 Loc: 0.928\n",
      "Step 1384: Loss: 3031.876 Loc: 0.928\n",
      "Step 1385: Loss: 3031.876 Loc: 0.928\n",
      "Step 1386: Loss: 3031.876 Loc: 0.928\n",
      "Step 1387: Loss: 3031.876 Loc: 0.928\n",
      "Step 1388: Loss: 3031.876 Loc: 0.928\n",
      "Step 1389: Loss: 3031.876 Loc: 0.928\n",
      "Step 1390: Loss: 3031.876 Loc: 0.928\n",
      "Step 1391: Loss: 3031.876 Loc: 0.928\n",
      "Step 1392: Loss: 3031.876 Loc: 0.928\n",
      "Step 1393: Loss: 3031.876 Loc: 0.928\n",
      "Step 1394: Loss: 3031.876 Loc: 0.928\n",
      "Step 1395: Loss: 3031.876 Loc: 0.928\n",
      "Step 1396: Loss: 3031.876 Loc: 0.928\n",
      "Step 1397: Loss: 3031.876 Loc: 0.928\n",
      "Step 1398: Loss: 3031.876 Loc: 0.928\n",
      "Step 1399: Loss: 3031.876 Loc: 0.928\n",
      "Step 1400: Loss: 3031.876 Loc: 0.928\n",
      "Step 1401: Loss: 3031.876 Loc: 0.928\n",
      "Step 1402: Loss: 3031.876 Loc: 0.928\n",
      "Step 1403: Loss: 3031.876 Loc: 0.928\n",
      "Step 1404: Loss: 3031.876 Loc: 0.928\n",
      "Step 1405: Loss: 3031.876 Loc: 0.928\n",
      "Step 1406: Loss: 3031.876 Loc: 0.928\n",
      "Step 1407: Loss: 3031.876 Loc: 0.928\n",
      "Step 1408: Loss: 3031.876 Loc: 0.928\n",
      "Step 1409: Loss: 3031.876 Loc: 0.928\n",
      "Step 1410: Loss: 3031.876 Loc: 0.928\n",
      "Step 1411: Loss: 3031.876 Loc: 0.928\n",
      "Step 1412: Loss: 3031.876 Loc: 0.928\n",
      "Step 1413: Loss: 3031.876 Loc: 0.928\n",
      "Step 1414: Loss: 3031.876 Loc: 0.928\n",
      "Step 1415: Loss: 3031.876 Loc: 0.928\n",
      "Step 1416: Loss: 3031.876 Loc: 0.928\n",
      "Step 1417: Loss: 3031.876 Loc: 0.928\n",
      "Step 1418: Loss: 3031.876 Loc: 0.928\n",
      "Step 1419: Loss: 3031.876 Loc: 0.928\n",
      "Step 1420: Loss: 3031.876 Loc: 0.928\n",
      "Step 1421: Loss: 3031.876 Loc: 0.928\n",
      "Step 1422: Loss: 3031.876 Loc: 0.928\n",
      "Step 1423: Loss: 3031.876 Loc: 0.928\n",
      "Step 1424: Loss: 3031.876 Loc: 0.928\n",
      "Step 1425: Loss: 3031.876 Loc: 0.928\n",
      "Step 1426: Loss: 3031.876 Loc: 0.928\n",
      "Step 1427: Loss: 3031.876 Loc: 0.928\n",
      "Step 1428: Loss: 3031.876 Loc: 0.928\n",
      "Step 1429: Loss: 3031.876 Loc: 0.928\n",
      "Step 1430: Loss: 3031.876 Loc: 0.928\n",
      "Step 1431: Loss: 3031.876 Loc: 0.928\n",
      "Step 1432: Loss: 3031.876 Loc: 0.928\n",
      "Step 1433: Loss: 3031.876 Loc: 0.928\n",
      "Step 1434: Loss: 3031.876 Loc: 0.928\n",
      "Step 1435: Loss: 3031.876 Loc: 0.928\n",
      "Step 1436: Loss: 3031.876 Loc: 0.928\n",
      "Step 1437: Loss: 3031.876 Loc: 0.928\n",
      "Step 1438: Loss: 3031.876 Loc: 0.928\n",
      "Step 1439: Loss: 3031.876 Loc: 0.928\n",
      "Step 1440: Loss: 3031.876 Loc: 0.928\n",
      "Step 1441: Loss: 3031.876 Loc: 0.928\n",
      "Step 1442: Loss: 3031.876 Loc: 0.928\n",
      "Step 1443: Loss: 3031.876 Loc: 0.928\n",
      "Step 1444: Loss: 3031.876 Loc: 0.928\n",
      "Step 1445: Loss: 3031.876 Loc: 0.928\n",
      "Step 1446: Loss: 3031.876 Loc: 0.928\n",
      "Step 1447: Loss: 3031.876 Loc: 0.928\n",
      "Step 1448: Loss: 3031.876 Loc: 0.928\n",
      "Step 1449: Loss: 3031.876 Loc: 0.928\n",
      "Step 1450: Loss: 3031.876 Loc: 0.928\n",
      "Step 1451: Loss: 3031.876 Loc: 0.928\n",
      "Step 1452: Loss: 3031.876 Loc: 0.928\n",
      "Step 1453: Loss: 3031.876 Loc: 0.928\n",
      "Step 1454: Loss: 3031.876 Loc: 0.928\n",
      "Step 1455: Loss: 3031.876 Loc: 0.928\n",
      "Step 1456: Loss: 3031.876 Loc: 0.928\n",
      "Step 1457: Loss: 3031.876 Loc: 0.928\n",
      "Step 1458: Loss: 3031.876 Loc: 0.928\n",
      "Step 1459: Loss: 3031.876 Loc: 0.928\n",
      "Step 1460: Loss: 3031.876 Loc: 0.928\n",
      "Step 1461: Loss: 3031.876 Loc: 0.928\n",
      "Step 1462: Loss: 3031.876 Loc: 0.928\n",
      "Step 1463: Loss: 3031.876 Loc: 0.928\n",
      "Step 1464: Loss: 3031.876 Loc: 0.928\n",
      "Step 1465: Loss: 3031.876 Loc: 0.928\n",
      "Step 1466: Loss: 3031.876 Loc: 0.928\n",
      "Step 1467: Loss: 3031.876 Loc: 0.928\n",
      "Step 1468: Loss: 3031.876 Loc: 0.928\n",
      "Step 1469: Loss: 3031.876 Loc: 0.928\n",
      "Step 1470: Loss: 3031.876 Loc: 0.928\n",
      "Step 1471: Loss: 3031.876 Loc: 0.928\n",
      "Step 1472: Loss: 3031.876 Loc: 0.928\n",
      "Step 1473: Loss: 3031.876 Loc: 0.928\n",
      "Step 1474: Loss: 3031.876 Loc: 0.928\n",
      "Step 1475: Loss: 3031.876 Loc: 0.928\n",
      "Step 1476: Loss: 3031.876 Loc: 0.928\n",
      "Step 1477: Loss: 3031.876 Loc: 0.928\n",
      "Step 1478: Loss: 3031.876 Loc: 0.928\n",
      "Step 1479: Loss: 3031.876 Loc: 0.928\n",
      "Step 1480: Loss: 3031.876 Loc: 0.928\n",
      "Step 1481: Loss: 3031.876 Loc: 0.928\n",
      "Step 1482: Loss: 3031.876 Loc: 0.928\n",
      "Step 1483: Loss: 3031.876 Loc: 0.928\n",
      "Step 1484: Loss: 3031.876 Loc: 0.928\n",
      "Step 1485: Loss: 3031.876 Loc: 0.928\n",
      "Step 1486: Loss: 3031.876 Loc: 0.928\n",
      "Step 1487: Loss: 3031.876 Loc: 0.928\n",
      "Step 1488: Loss: 3031.876 Loc: 0.928\n",
      "Step 1489: Loss: 3031.876 Loc: 0.928\n",
      "Step 1490: Loss: 3031.876 Loc: 0.928\n",
      "Step 1491: Loss: 3031.876 Loc: 0.928\n",
      "Step 1492: Loss: 3031.876 Loc: 0.928\n",
      "Step 1493: Loss: 3031.876 Loc: 0.928\n",
      "Step 1494: Loss: 3031.876 Loc: 0.928\n",
      "Step 1495: Loss: 3031.876 Loc: 0.928\n",
      "Step 1496: Loss: 3031.876 Loc: 0.928\n",
      "Step 1497: Loss: 3031.876 Loc: 0.928\n",
      "Step 1498: Loss: 3031.876 Loc: 0.928\n",
      "Step 1499: Loss: 3031.876 Loc: 0.928\n",
      "Step 1500: Loss: 3031.876 Loc: 0.928\n",
      "Step 1501: Loss: 3031.876 Loc: 0.928\n",
      "Step 1502: Loss: 3031.876 Loc: 0.928\n",
      "Step 1503: Loss: 3031.876 Loc: 0.928\n",
      "Step 1504: Loss: 3031.876 Loc: 0.928\n",
      "Step 1505: Loss: 3031.876 Loc: 0.928\n",
      "Step 1506: Loss: 3031.876 Loc: 0.928\n",
      "Step 1507: Loss: 3031.876 Loc: 0.928\n",
      "Step 1508: Loss: 3031.876 Loc: 0.928\n",
      "Step 1509: Loss: 3031.876 Loc: 0.928\n",
      "Step 1510: Loss: 3031.876 Loc: 0.928\n",
      "Step 1511: Loss: 3031.876 Loc: 0.928\n",
      "Step 1512: Loss: 3031.876 Loc: 0.928\n",
      "Step 1513: Loss: 3031.876 Loc: 0.928\n",
      "Step 1514: Loss: 3031.876 Loc: 0.928\n",
      "Step 1515: Loss: 3031.876 Loc: 0.928\n",
      "Step 1516: Loss: 3031.876 Loc: 0.928\n",
      "Step 1517: Loss: 3031.876 Loc: 0.928\n",
      "Step 1518: Loss: 3031.876 Loc: 0.928\n",
      "Step 1519: Loss: 3031.876 Loc: 0.928\n",
      "Step 1520: Loss: 3031.876 Loc: 0.928\n",
      "Step 1521: Loss: 3031.876 Loc: 0.928\n",
      "Step 1522: Loss: 3031.876 Loc: 0.928\n",
      "Step 1523: Loss: 3031.876 Loc: 0.928\n",
      "Step 1524: Loss: 3031.876 Loc: 0.928\n",
      "Step 1525: Loss: 3031.876 Loc: 0.928\n",
      "Step 1526: Loss: 3031.876 Loc: 0.928\n",
      "Step 1527: Loss: 3031.876 Loc: 0.928\n",
      "Step 1528: Loss: 3031.876 Loc: 0.928\n",
      "Step 1529: Loss: 3031.876 Loc: 0.928\n",
      "Step 1530: Loss: 3031.876 Loc: 0.928\n",
      "Step 1531: Loss: 3031.876 Loc: 0.928\n",
      "Step 1532: Loss: 3031.876 Loc: 0.928\n",
      "Step 1533: Loss: 3031.876 Loc: 0.928\n",
      "Step 1534: Loss: 3031.876 Loc: 0.928\n",
      "Step 1535: Loss: 3031.876 Loc: 0.928\n",
      "Step 1536: Loss: 3031.876 Loc: 0.928\n",
      "Step 1537: Loss: 3031.876 Loc: 0.928\n",
      "Step 1538: Loss: 3031.876 Loc: 0.928\n",
      "Step 1539: Loss: 3031.876 Loc: 0.928\n",
      "Step 1540: Loss: 3031.876 Loc: 0.928\n",
      "Step 1541: Loss: 3031.876 Loc: 0.928\n",
      "Step 1542: Loss: 3031.876 Loc: 0.928\n",
      "Step 1543: Loss: 3031.876 Loc: 0.928\n",
      "Step 1544: Loss: 3031.876 Loc: 0.928\n",
      "Step 1545: Loss: 3031.876 Loc: 0.928\n",
      "Step 1546: Loss: 3031.876 Loc: 0.928\n",
      "Step 1547: Loss: 3031.876 Loc: 0.928\n",
      "Step 1548: Loss: 3031.876 Loc: 0.928\n",
      "Step 1549: Loss: 3031.876 Loc: 0.928\n",
      "Step 1550: Loss: 3031.876 Loc: 0.928\n",
      "Step 1551: Loss: 3031.876 Loc: 0.928\n",
      "Step 1552: Loss: 3031.876 Loc: 0.928\n",
      "Step 1553: Loss: 3031.876 Loc: 0.928\n",
      "Step 1554: Loss: 3031.876 Loc: 0.928\n"
     ]
    },
    {
     "name": "stdout",
     "output_type": "stream",
     "text": [
      "Step 1555: Loss: 3031.876 Loc: 0.928\n",
      "Step 1556: Loss: 3031.876 Loc: 0.928\n",
      "Step 1557: Loss: 3031.876 Loc: 0.928\n",
      "Step 1558: Loss: 3031.876 Loc: 0.928\n",
      "Step 1559: Loss: 3031.876 Loc: 0.928\n",
      "Step 1560: Loss: 3031.876 Loc: 0.928\n",
      "Step 1561: Loss: 3031.876 Loc: 0.928\n",
      "Step 1562: Loss: 3031.876 Loc: 0.928\n",
      "Step 1563: Loss: 3031.876 Loc: 0.928\n",
      "Step 1564: Loss: 3031.876 Loc: 0.928\n",
      "Step 1565: Loss: 3031.876 Loc: 0.928\n",
      "Step 1566: Loss: 3031.876 Loc: 0.928\n",
      "Step 1567: Loss: 3031.876 Loc: 0.928\n",
      "Step 1568: Loss: 3031.876 Loc: 0.928\n",
      "Step 1569: Loss: 3031.876 Loc: 0.928\n",
      "Step 1570: Loss: 3031.876 Loc: 0.928\n",
      "Step 1571: Loss: 3031.876 Loc: 0.928\n",
      "Step 1572: Loss: 3031.876 Loc: 0.928\n",
      "Step 1573: Loss: 3031.876 Loc: 0.928\n",
      "Step 1574: Loss: 3031.876 Loc: 0.928\n",
      "Step 1575: Loss: 3031.876 Loc: 0.928\n",
      "Step 1576: Loss: 3031.876 Loc: 0.928\n",
      "Step 1577: Loss: 3031.876 Loc: 0.928\n",
      "Step 1578: Loss: 3031.876 Loc: 0.928\n",
      "Step 1579: Loss: 3031.876 Loc: 0.928\n",
      "Step 1580: Loss: 3031.876 Loc: 0.928\n",
      "Step 1581: Loss: 3031.876 Loc: 0.928\n",
      "Step 1582: Loss: 3031.876 Loc: 0.928\n",
      "Step 1583: Loss: 3031.876 Loc: 0.928\n",
      "Step 1584: Loss: 3031.876 Loc: 0.928\n",
      "Step 1585: Loss: 3031.876 Loc: 0.928\n",
      "Step 1586: Loss: 3031.876 Loc: 0.928\n",
      "Step 1587: Loss: 3031.876 Loc: 0.928\n",
      "Step 1588: Loss: 3031.876 Loc: 0.928\n",
      "Step 1589: Loss: 3031.876 Loc: 0.928\n",
      "Step 1590: Loss: 3031.876 Loc: 0.928\n",
      "Step 1591: Loss: 3031.876 Loc: 0.928\n",
      "Step 1592: Loss: 3031.876 Loc: 0.928\n",
      "Step 1593: Loss: 3031.876 Loc: 0.928\n",
      "Step 1594: Loss: 3031.876 Loc: 0.928\n",
      "Step 1595: Loss: 3031.876 Loc: 0.928\n",
      "Step 1596: Loss: 3031.876 Loc: 0.928\n",
      "Step 1597: Loss: 3031.876 Loc: 0.928\n",
      "Step 1598: Loss: 3031.876 Loc: 0.928\n",
      "Step 1599: Loss: 3031.876 Loc: 0.928\n",
      "Step 1600: Loss: 3031.876 Loc: 0.928\n",
      "Step 1601: Loss: 3031.876 Loc: 0.928\n",
      "Step 1602: Loss: 3031.876 Loc: 0.928\n",
      "Step 1603: Loss: 3031.876 Loc: 0.928\n",
      "Step 1604: Loss: 3031.876 Loc: 0.928\n",
      "Step 1605: Loss: 3031.876 Loc: 0.928\n",
      "Step 1606: Loss: 3031.876 Loc: 0.928\n",
      "Step 1607: Loss: 3031.876 Loc: 0.928\n",
      "Step 1608: Loss: 3031.876 Loc: 0.928\n",
      "Step 1609: Loss: 3031.876 Loc: 0.928\n",
      "Step 1610: Loss: 3031.876 Loc: 0.928\n",
      "Step 1611: Loss: 3031.876 Loc: 0.928\n",
      "Step 1612: Loss: 3031.876 Loc: 0.928\n",
      "Step 1613: Loss: 3031.876 Loc: 0.928\n",
      "Step 1614: Loss: 3031.876 Loc: 0.928\n",
      "Step 1615: Loss: 3031.876 Loc: 0.928\n",
      "Step 1616: Loss: 3031.876 Loc: 0.928\n",
      "Step 1617: Loss: 3031.876 Loc: 0.928\n",
      "Step 1618: Loss: 3031.876 Loc: 0.928\n",
      "Step 1619: Loss: 3031.876 Loc: 0.928\n",
      "Step 1620: Loss: 3031.876 Loc: 0.928\n",
      "Step 1621: Loss: 3031.876 Loc: 0.928\n",
      "Step 1622: Loss: 3031.876 Loc: 0.928\n",
      "Step 1623: Loss: 3031.876 Loc: 0.928\n",
      "Step 1624: Loss: 3031.876 Loc: 0.928\n",
      "Step 1625: Loss: 3031.876 Loc: 0.928\n",
      "Step 1626: Loss: 3031.876 Loc: 0.928\n",
      "Step 1627: Loss: 3031.876 Loc: 0.928\n",
      "Step 1628: Loss: 3031.876 Loc: 0.928\n",
      "Step 1629: Loss: 3031.876 Loc: 0.928\n",
      "Step 1630: Loss: 3031.876 Loc: 0.928\n",
      "Step 1631: Loss: 3031.876 Loc: 0.928\n",
      "Step 1632: Loss: 3031.876 Loc: 0.928\n",
      "Step 1633: Loss: 3031.876 Loc: 0.928\n",
      "Step 1634: Loss: 3031.876 Loc: 0.928\n",
      "Step 1635: Loss: 3031.876 Loc: 0.928\n",
      "Step 1636: Loss: 3031.876 Loc: 0.928\n",
      "Step 1637: Loss: 3031.876 Loc: 0.928\n",
      "Step 1638: Loss: 3031.876 Loc: 0.928\n",
      "Step 1639: Loss: 3031.876 Loc: 0.928\n",
      "Step 1640: Loss: 3031.876 Loc: 0.928\n",
      "Step 1641: Loss: 3031.876 Loc: 0.928\n",
      "Step 1642: Loss: 3031.876 Loc: 0.928\n",
      "Step 1643: Loss: 3031.876 Loc: 0.928\n",
      "Step 1644: Loss: 3031.876 Loc: 0.928\n",
      "Step 1645: Loss: 3031.876 Loc: 0.928\n",
      "Step 1646: Loss: 3031.876 Loc: 0.928\n",
      "Step 1647: Loss: 3031.876 Loc: 0.928\n",
      "Step 1648: Loss: 3031.876 Loc: 0.928\n",
      "Step 1649: Loss: 3031.876 Loc: 0.928\n",
      "Step 1650: Loss: 3031.876 Loc: 0.928\n",
      "Step 1651: Loss: 3031.876 Loc: 0.928\n",
      "Step 1652: Loss: 3031.876 Loc: 0.928\n",
      "Step 1653: Loss: 3031.876 Loc: 0.928\n",
      "Step 1654: Loss: 3031.876 Loc: 0.928\n",
      "Step 1655: Loss: 3031.876 Loc: 0.928\n",
      "Step 1656: Loss: 3031.876 Loc: 0.928\n",
      "Step 1657: Loss: 3031.876 Loc: 0.928\n",
      "Step 1658: Loss: 3031.876 Loc: 0.928\n",
      "Step 1659: Loss: 3031.876 Loc: 0.928\n",
      "Step 1660: Loss: 3031.876 Loc: 0.928\n",
      "Step 1661: Loss: 3031.876 Loc: 0.928\n",
      "Step 1662: Loss: 3031.876 Loc: 0.928\n",
      "Step 1663: Loss: 3031.876 Loc: 0.928\n",
      "Step 1664: Loss: 3031.876 Loc: 0.928\n",
      "Step 1665: Loss: 3031.876 Loc: 0.928\n",
      "Step 1666: Loss: 3031.876 Loc: 0.928\n",
      "Step 1667: Loss: 3031.876 Loc: 0.928\n",
      "Step 1668: Loss: 3031.876 Loc: 0.928\n",
      "Step 1669: Loss: 3031.876 Loc: 0.928\n",
      "Step 1670: Loss: 3031.876 Loc: 0.928\n",
      "Step 1671: Loss: 3031.876 Loc: 0.928\n",
      "Step 1672: Loss: 3031.876 Loc: 0.928\n",
      "Step 1673: Loss: 3031.876 Loc: 0.928\n",
      "Step 1674: Loss: 3031.876 Loc: 0.928\n",
      "Step 1675: Loss: 3031.876 Loc: 0.928\n",
      "Step 1676: Loss: 3031.876 Loc: 0.928\n",
      "Step 1677: Loss: 3031.876 Loc: 0.928\n",
      "Step 1678: Loss: 3031.876 Loc: 0.928\n",
      "Step 1679: Loss: 3031.876 Loc: 0.928\n",
      "Step 1680: Loss: 3031.876 Loc: 0.928\n",
      "Step 1681: Loss: 3031.876 Loc: 0.928\n",
      "Step 1682: Loss: 3031.876 Loc: 0.928\n",
      "Step 1683: Loss: 3031.876 Loc: 0.928\n",
      "Step 1684: Loss: 3031.876 Loc: 0.928\n",
      "Step 1685: Loss: 3031.876 Loc: 0.928\n",
      "Step 1686: Loss: 3031.876 Loc: 0.928\n",
      "Step 1687: Loss: 3031.876 Loc: 0.928\n",
      "Step 1688: Loss: 3031.876 Loc: 0.928\n",
      "Step 1689: Loss: 3031.876 Loc: 0.928\n",
      "Step 1690: Loss: 3031.876 Loc: 0.928\n",
      "Step 1691: Loss: 3031.876 Loc: 0.928\n",
      "Step 1692: Loss: 3031.876 Loc: 0.928\n",
      "Step 1693: Loss: 3031.876 Loc: 0.928\n",
      "Step 1694: Loss: 3031.876 Loc: 0.928\n",
      "Step 1695: Loss: 3031.876 Loc: 0.928\n",
      "Step 1696: Loss: 3031.876 Loc: 0.928\n",
      "Step 1697: Loss: 3031.876 Loc: 0.928\n",
      "Step 1698: Loss: 3031.876 Loc: 0.928\n",
      "Step 1699: Loss: 3031.876 Loc: 0.928\n",
      "Step 1700: Loss: 3031.876 Loc: 0.928\n",
      "Step 1701: Loss: 3031.876 Loc: 0.928\n",
      "Step 1702: Loss: 3031.876 Loc: 0.928\n",
      "Step 1703: Loss: 3031.876 Loc: 0.928\n",
      "Step 1704: Loss: 3031.876 Loc: 0.928\n",
      "Step 1705: Loss: 3031.876 Loc: 0.928\n",
      "Step 1706: Loss: 3031.876 Loc: 0.928\n",
      "Step 1707: Loss: 3031.876 Loc: 0.928\n",
      "Step 1708: Loss: 3031.876 Loc: 0.928\n",
      "Step 1709: Loss: 3031.876 Loc: 0.928\n",
      "Step 1710: Loss: 3031.876 Loc: 0.928\n",
      "Step 1711: Loss: 3031.876 Loc: 0.928\n",
      "Step 1712: Loss: 3031.876 Loc: 0.928\n",
      "Step 1713: Loss: 3031.876 Loc: 0.928\n",
      "Step 1714: Loss: 3031.876 Loc: 0.928\n",
      "Step 1715: Loss: 3031.876 Loc: 0.928\n",
      "Step 1716: Loss: 3031.876 Loc: 0.928\n",
      "Step 1717: Loss: 3031.876 Loc: 0.928\n",
      "Step 1718: Loss: 3031.876 Loc: 0.928\n",
      "Step 1719: Loss: 3031.876 Loc: 0.928\n",
      "Step 1720: Loss: 3031.876 Loc: 0.928\n",
      "Step 1721: Loss: 3031.876 Loc: 0.928\n",
      "Step 1722: Loss: 3031.876 Loc: 0.928\n",
      "Step 1723: Loss: 3031.876 Loc: 0.928\n",
      "Step 1724: Loss: 3031.876 Loc: 0.928\n",
      "Step 1725: Loss: 3031.876 Loc: 0.928\n",
      "Step 1726: Loss: 3031.876 Loc: 0.928\n",
      "Step 1727: Loss: 3031.876 Loc: 0.928\n",
      "Step 1728: Loss: 3031.876 Loc: 0.928\n",
      "Step 1729: Loss: 3031.876 Loc: 0.928\n",
      "Step 1730: Loss: 3031.876 Loc: 0.928\n",
      "Step 1731: Loss: 3031.876 Loc: 0.928\n",
      "Step 1732: Loss: 3031.876 Loc: 0.928\n",
      "Step 1733: Loss: 3031.876 Loc: 0.928\n",
      "Step 1734: Loss: 3031.876 Loc: 0.928\n",
      "Step 1735: Loss: 3031.876 Loc: 0.928\n",
      "Step 1736: Loss: 3031.876 Loc: 0.928\n",
      "Step 1737: Loss: 3031.876 Loc: 0.928\n",
      "Step 1738: Loss: 3031.876 Loc: 0.928\n",
      "Step 1739: Loss: 3031.876 Loc: 0.928\n",
      "Step 1740: Loss: 3031.876 Loc: 0.928\n",
      "Step 1741: Loss: 3031.876 Loc: 0.928\n",
      "Step 1742: Loss: 3031.876 Loc: 0.928\n",
      "Step 1743: Loss: 3031.876 Loc: 0.928\n",
      "Step 1744: Loss: 3031.876 Loc: 0.928\n",
      "Step 1745: Loss: 3031.876 Loc: 0.928\n",
      "Step 1746: Loss: 3031.876 Loc: 0.928\n",
      "Step 1747: Loss: 3031.876 Loc: 0.928\n",
      "Step 1748: Loss: 3031.876 Loc: 0.928\n",
      "Step 1749: Loss: 3031.876 Loc: 0.928\n",
      "Step 1750: Loss: 3031.876 Loc: 0.928\n",
      "Step 1751: Loss: 3031.876 Loc: 0.928\n",
      "Step 1752: Loss: 3031.876 Loc: 0.928\n",
      "Step 1753: Loss: 3031.876 Loc: 0.928\n",
      "Step 1754: Loss: 3031.876 Loc: 0.928\n",
      "Step 1755: Loss: 3031.876 Loc: 0.928\n",
      "Step 1756: Loss: 3031.876 Loc: 0.928\n",
      "Step 1757: Loss: 3031.876 Loc: 0.928\n",
      "Step 1758: Loss: 3031.876 Loc: 0.928\n",
      "Step 1759: Loss: 3031.876 Loc: 0.928\n",
      "Step 1760: Loss: 3031.876 Loc: 0.928\n",
      "Step 1761: Loss: 3031.876 Loc: 0.928\n",
      "Step 1762: Loss: 3031.876 Loc: 0.928\n",
      "Step 1763: Loss: 3031.876 Loc: 0.928\n",
      "Step 1764: Loss: 3031.876 Loc: 0.928\n",
      "Step 1765: Loss: 3031.876 Loc: 0.928\n",
      "Step 1766: Loss: 3031.876 Loc: 0.928\n",
      "Step 1767: Loss: 3031.876 Loc: 0.928\n",
      "Step 1768: Loss: 3031.876 Loc: 0.928\n",
      "Step 1769: Loss: 3031.876 Loc: 0.928\n",
      "Step 1770: Loss: 3031.876 Loc: 0.928\n",
      "Step 1771: Loss: 3031.876 Loc: 0.928\n",
      "Step 1772: Loss: 3031.876 Loc: 0.928\n",
      "Step 1773: Loss: 3031.876 Loc: 0.928\n",
      "Step 1774: Loss: 3031.876 Loc: 0.928\n",
      "Step 1775: Loss: 3031.876 Loc: 0.928\n",
      "Step 1776: Loss: 3031.876 Loc: 0.928\n",
      "Step 1777: Loss: 3031.876 Loc: 0.928\n",
      "Step 1778: Loss: 3031.876 Loc: 0.928\n",
      "Step 1779: Loss: 3031.876 Loc: 0.928\n",
      "Step 1780: Loss: 3031.876 Loc: 0.928\n",
      "Step 1781: Loss: 3031.876 Loc: 0.928\n",
      "Step 1782: Loss: 3031.876 Loc: 0.928\n",
      "Step 1783: Loss: 3031.876 Loc: 0.928\n",
      "Step 1784: Loss: 3031.876 Loc: 0.928\n",
      "Step 1785: Loss: 3031.876 Loc: 0.928\n",
      "Step 1786: Loss: 3031.876 Loc: 0.928\n",
      "Step 1787: Loss: 3031.876 Loc: 0.928\n",
      "Step 1788: Loss: 3031.876 Loc: 0.928\n",
      "Step 1789: Loss: 3031.876 Loc: 0.928\n",
      "Step 1790: Loss: 3031.876 Loc: 0.928\n",
      "Step 1791: Loss: 3031.876 Loc: 0.928\n",
      "Step 1792: Loss: 3031.876 Loc: 0.928\n",
      "Step 1793: Loss: 3031.876 Loc: 0.928\n",
      "Step 1794: Loss: 3031.876 Loc: 0.928\n",
      "Step 1795: Loss: 3031.876 Loc: 0.928\n",
      "Step 1796: Loss: 3031.876 Loc: 0.928\n",
      "Step 1797: Loss: 3031.876 Loc: 0.928\n",
      "Step 1798: Loss: 3031.876 Loc: 0.928\n",
      "Step 1799: Loss: 3031.876 Loc: 0.928\n",
      "Step 1800: Loss: 3031.876 Loc: 0.928\n",
      "Step 1801: Loss: 3031.876 Loc: 0.928\n",
      "Step 1802: Loss: 3031.876 Loc: 0.928\n",
      "Step 1803: Loss: 3031.876 Loc: 0.928\n",
      "Step 1804: Loss: 3031.876 Loc: 0.928\n",
      "Step 1805: Loss: 3031.876 Loc: 0.928\n",
      "Step 1806: Loss: 3031.876 Loc: 0.928\n",
      "Step 1807: Loss: 3031.876 Loc: 0.928\n",
      "Step 1808: Loss: 3031.876 Loc: 0.928\n",
      "Step 1809: Loss: 3031.876 Loc: 0.928\n",
      "Step 1810: Loss: 3031.876 Loc: 0.928\n",
      "Step 1811: Loss: 3031.876 Loc: 0.928\n",
      "Step 1812: Loss: 3031.876 Loc: 0.928\n",
      "Step 1813: Loss: 3031.876 Loc: 0.928\n",
      "Step 1814: Loss: 3031.876 Loc: 0.928\n",
      "Step 1815: Loss: 3031.876 Loc: 0.928\n",
      "Step 1816: Loss: 3031.876 Loc: 0.928\n",
      "Step 1817: Loss: 3031.876 Loc: 0.928\n",
      "Step 1818: Loss: 3031.876 Loc: 0.928\n",
      "Step 1819: Loss: 3031.876 Loc: 0.928\n",
      "Step 1820: Loss: 3031.876 Loc: 0.928\n",
      "Step 1821: Loss: 3031.876 Loc: 0.928\n",
      "Step 1822: Loss: 3031.876 Loc: 0.928\n",
      "Step 1823: Loss: 3031.876 Loc: 0.928\n",
      "Step 1824: Loss: 3031.876 Loc: 0.928\n",
      "Step 1825: Loss: 3031.876 Loc: 0.928\n",
      "Step 1826: Loss: 3031.876 Loc: 0.928\n",
      "Step 1827: Loss: 3031.876 Loc: 0.928\n",
      "Step 1828: Loss: 3031.876 Loc: 0.928\n",
      "Step 1829: Loss: 3031.876 Loc: 0.928\n",
      "Step 1830: Loss: 3031.876 Loc: 0.928\n",
      "Step 1831: Loss: 3031.876 Loc: 0.928\n",
      "Step 1832: Loss: 3031.876 Loc: 0.928\n",
      "Step 1833: Loss: 3031.876 Loc: 0.928\n",
      "Step 1834: Loss: 3031.876 Loc: 0.928\n",
      "Step 1835: Loss: 3031.876 Loc: 0.928\n",
      "Step 1836: Loss: 3031.876 Loc: 0.928\n",
      "Step 1837: Loss: 3031.876 Loc: 0.928\n",
      "Step 1838: Loss: 3031.876 Loc: 0.928\n",
      "Step 1839: Loss: 3031.876 Loc: 0.928\n",
      "Step 1840: Loss: 3031.876 Loc: 0.928\n",
      "Step 1841: Loss: 3031.876 Loc: 0.928\n",
      "Step 1842: Loss: 3031.876 Loc: 0.928\n",
      "Step 1843: Loss: 3031.876 Loc: 0.928\n",
      "Step 1844: Loss: 3031.876 Loc: 0.928\n",
      "Step 1845: Loss: 3031.876 Loc: 0.928\n",
      "Step 1846: Loss: 3031.876 Loc: 0.928\n",
      "Step 1847: Loss: 3031.876 Loc: 0.928\n",
      "Step 1848: Loss: 3031.876 Loc: 0.928\n",
      "Step 1849: Loss: 3031.876 Loc: 0.928\n",
      "Step 1850: Loss: 3031.876 Loc: 0.928\n",
      "Step 1851: Loss: 3031.876 Loc: 0.928\n",
      "Step 1852: Loss: 3031.876 Loc: 0.928\n",
      "Step 1853: Loss: 3031.876 Loc: 0.928\n",
      "Step 1854: Loss: 3031.876 Loc: 0.928\n",
      "Step 1855: Loss: 3031.876 Loc: 0.928\n",
      "Step 1856: Loss: 3031.876 Loc: 0.928\n",
      "Step 1857: Loss: 3031.876 Loc: 0.928\n",
      "Step 1858: Loss: 3031.876 Loc: 0.928\n",
      "Step 1859: Loss: 3031.876 Loc: 0.928\n",
      "Step 1860: Loss: 3031.876 Loc: 0.928\n",
      "Step 1861: Loss: 3031.876 Loc: 0.928\n",
      "Step 1862: Loss: 3031.876 Loc: 0.928\n",
      "Step 1863: Loss: 3031.876 Loc: 0.928\n",
      "Step 1864: Loss: 3031.876 Loc: 0.928\n",
      "Step 1865: Loss: 3031.876 Loc: 0.928\n",
      "Step 1866: Loss: 3031.876 Loc: 0.928\n",
      "Step 1867: Loss: 3031.876 Loc: 0.928\n",
      "Step 1868: Loss: 3031.876 Loc: 0.928\n",
      "Step 1869: Loss: 3031.876 Loc: 0.928\n",
      "Step 1870: Loss: 3031.876 Loc: 0.928\n",
      "Step 1871: Loss: 3031.876 Loc: 0.928\n",
      "Step 1872: Loss: 3031.876 Loc: 0.928\n",
      "Step 1873: Loss: 3031.876 Loc: 0.928\n",
      "Step 1874: Loss: 3031.876 Loc: 0.928\n",
      "Step 1875: Loss: 3031.876 Loc: 0.928\n",
      "Step 1876: Loss: 3031.876 Loc: 0.928\n",
      "Step 1877: Loss: 3031.876 Loc: 0.928\n",
      "Step 1878: Loss: 3031.876 Loc: 0.928\n",
      "Step 1879: Loss: 3031.876 Loc: 0.928\n",
      "Step 1880: Loss: 3031.876 Loc: 0.928\n",
      "Step 1881: Loss: 3031.876 Loc: 0.928\n",
      "Step 1882: Loss: 3031.876 Loc: 0.928\n",
      "Step 1883: Loss: 3031.876 Loc: 0.928\n",
      "Step 1884: Loss: 3031.876 Loc: 0.928\n",
      "Step 1885: Loss: 3031.876 Loc: 0.928\n",
      "Step 1886: Loss: 3031.876 Loc: 0.928\n",
      "Step 1887: Loss: 3031.876 Loc: 0.928\n",
      "Step 1888: Loss: 3031.876 Loc: 0.928\n",
      "Step 1889: Loss: 3031.876 Loc: 0.928\n",
      "Step 1890: Loss: 3031.876 Loc: 0.928\n",
      "Step 1891: Loss: 3031.876 Loc: 0.928\n",
      "Step 1892: Loss: 3031.876 Loc: 0.928\n",
      "Step 1893: Loss: 3031.876 Loc: 0.928\n",
      "Step 1894: Loss: 3031.876 Loc: 0.928\n",
      "Step 1895: Loss: 3031.876 Loc: 0.928\n",
      "Step 1896: Loss: 3031.876 Loc: 0.928\n",
      "Step 1897: Loss: 3031.876 Loc: 0.928\n",
      "Step 1898: Loss: 3031.876 Loc: 0.928\n",
      "Step 1899: Loss: 3031.876 Loc: 0.928\n",
      "Step 1900: Loss: 3031.876 Loc: 0.928\n",
      "Step 1901: Loss: 3031.876 Loc: 0.928\n",
      "Step 1902: Loss: 3031.876 Loc: 0.928\n",
      "Step 1903: Loss: 3031.876 Loc: 0.928\n",
      "Step 1904: Loss: 3031.876 Loc: 0.928\n",
      "Step 1905: Loss: 3031.876 Loc: 0.928\n",
      "Step 1906: Loss: 3031.876 Loc: 0.928\n",
      "Step 1907: Loss: 3031.876 Loc: 0.928\n",
      "Step 1908: Loss: 3031.876 Loc: 0.928\n",
      "Step 1909: Loss: 3031.876 Loc: 0.928\n",
      "Step 1910: Loss: 3031.876 Loc: 0.928\n",
      "Step 1911: Loss: 3031.876 Loc: 0.928\n",
      "Step 1912: Loss: 3031.876 Loc: 0.928\n",
      "Step 1913: Loss: 3031.876 Loc: 0.928\n",
      "Step 1914: Loss: 3031.876 Loc: 0.928\n",
      "Step 1915: Loss: 3031.876 Loc: 0.928\n",
      "Step 1916: Loss: 3031.876 Loc: 0.928\n",
      "Step 1917: Loss: 3031.876 Loc: 0.928\n",
      "Step 1918: Loss: 3031.876 Loc: 0.928\n",
      "Step 1919: Loss: 3031.876 Loc: 0.928\n",
      "Step 1920: Loss: 3031.876 Loc: 0.928\n",
      "Step 1921: Loss: 3031.876 Loc: 0.928\n",
      "Step 1922: Loss: 3031.876 Loc: 0.928\n",
      "Step 1923: Loss: 3031.876 Loc: 0.928\n",
      "Step 1924: Loss: 3031.876 Loc: 0.928\n",
      "Step 1925: Loss: 3031.876 Loc: 0.928\n",
      "Step 1926: Loss: 3031.876 Loc: 0.928\n",
      "Step 1927: Loss: 3031.876 Loc: 0.928\n",
      "Step 1928: Loss: 3031.876 Loc: 0.928\n",
      "Step 1929: Loss: 3031.876 Loc: 0.928\n",
      "Step 1930: Loss: 3031.876 Loc: 0.928\n",
      "Step 1931: Loss: 3031.876 Loc: 0.928\n",
      "Step 1932: Loss: 3031.876 Loc: 0.928\n",
      "Step 1933: Loss: 3031.876 Loc: 0.928\n",
      "Step 1934: Loss: 3031.876 Loc: 0.928\n",
      "Step 1935: Loss: 3031.876 Loc: 0.928\n",
      "Step 1936: Loss: 3031.876 Loc: 0.928\n",
      "Step 1937: Loss: 3031.876 Loc: 0.928\n",
      "Step 1938: Loss: 3031.876 Loc: 0.928\n",
      "Step 1939: Loss: 3031.876 Loc: 0.928\n",
      "Step 1940: Loss: 3031.876 Loc: 0.928\n",
      "Step 1941: Loss: 3031.876 Loc: 0.928\n",
      "Step 1942: Loss: 3031.876 Loc: 0.928\n",
      "Step 1943: Loss: 3031.876 Loc: 0.928\n",
      "Step 1944: Loss: 3031.876 Loc: 0.928\n",
      "Step 1945: Loss: 3031.876 Loc: 0.928\n",
      "Step 1946: Loss: 3031.876 Loc: 0.928\n",
      "Step 1947: Loss: 3031.876 Loc: 0.928\n",
      "Step 1948: Loss: 3031.876 Loc: 0.928\n",
      "Step 1949: Loss: 3031.876 Loc: 0.928\n",
      "Step 1950: Loss: 3031.876 Loc: 0.928\n"
     ]
    },
    {
     "name": "stdout",
     "output_type": "stream",
     "text": [
      "Step 1951: Loss: 3031.876 Loc: 0.928\n",
      "Step 1952: Loss: 3031.876 Loc: 0.928\n",
      "Step 1953: Loss: 3031.876 Loc: 0.928\n",
      "Step 1954: Loss: 3031.876 Loc: 0.928\n",
      "Step 1955: Loss: 3031.876 Loc: 0.928\n",
      "Step 1956: Loss: 3031.876 Loc: 0.928\n",
      "Step 1957: Loss: 3031.876 Loc: 0.928\n",
      "Step 1958: Loss: 3031.876 Loc: 0.928\n",
      "Step 1959: Loss: 3031.876 Loc: 0.928\n",
      "Step 1960: Loss: 3031.876 Loc: 0.928\n",
      "Step 1961: Loss: 3031.876 Loc: 0.928\n",
      "Step 1962: Loss: 3031.876 Loc: 0.928\n",
      "Step 1963: Loss: 3031.876 Loc: 0.928\n",
      "Step 1964: Loss: 3031.876 Loc: 0.928\n",
      "Step 1965: Loss: 3031.876 Loc: 0.928\n",
      "Step 1966: Loss: 3031.876 Loc: 0.928\n",
      "Step 1967: Loss: 3031.876 Loc: 0.928\n",
      "Step 1968: Loss: 3031.876 Loc: 0.928\n",
      "Step 1969: Loss: 3031.876 Loc: 0.928\n",
      "Step 1970: Loss: 3031.876 Loc: 0.928\n",
      "Step 1971: Loss: 3031.876 Loc: 0.928\n",
      "Step 1972: Loss: 3031.876 Loc: 0.928\n",
      "Step 1973: Loss: 3031.876 Loc: 0.928\n",
      "Step 1974: Loss: 3031.876 Loc: 0.928\n",
      "Step 1975: Loss: 3031.876 Loc: 0.928\n",
      "Step 1976: Loss: 3031.876 Loc: 0.928\n",
      "Step 1977: Loss: 3031.876 Loc: 0.928\n",
      "Step 1978: Loss: 3031.876 Loc: 0.928\n",
      "Step 1979: Loss: 3031.876 Loc: 0.928\n",
      "Step 1980: Loss: 3031.876 Loc: 0.928\n",
      "Step 1981: Loss: 3031.876 Loc: 0.928\n",
      "Step 1982: Loss: 3031.876 Loc: 0.928\n",
      "Step 1983: Loss: 3031.876 Loc: 0.928\n",
      "Step 1984: Loss: 3031.876 Loc: 0.928\n",
      "Step 1985: Loss: 3031.876 Loc: 0.928\n",
      "Step 1986: Loss: 3031.876 Loc: 0.928\n",
      "Step 1987: Loss: 3031.876 Loc: 0.928\n",
      "Step 1988: Loss: 3031.876 Loc: 0.928\n",
      "Step 1989: Loss: 3031.876 Loc: 0.928\n",
      "Step 1990: Loss: 3031.876 Loc: 0.928\n",
      "Step 1991: Loss: 3031.876 Loc: 0.928\n",
      "Step 1992: Loss: 3031.876 Loc: 0.928\n",
      "Step 1993: Loss: 3031.876 Loc: 0.928\n",
      "Step 1994: Loss: 3031.876 Loc: 0.928\n",
      "Step 1995: Loss: 3031.876 Loc: 0.928\n",
      "Step 1996: Loss: 3031.876 Loc: 0.928\n",
      "Step 1997: Loss: 3031.876 Loc: 0.928\n",
      "Step 1998: Loss: 3031.876 Loc: 0.928\n",
      "Step 1999: Loss: 3031.876 Loc: 0.928\n"
     ]
    }
   ],
   "source": [
    "# Custom training loop\n",
    "\n",
    "@tf.function\n",
    "def get_loss_and_grads(x_train):\n",
    "    with tf.GradientTape() as tape:\n",
    "        tape.watch(normal.trainable_variables)\n",
    "        loss = nll(x_train)\n",
    "        grads = tape.gradient(loss, normal.trainable_variables)\n",
    "    return loss, grads\n",
    "\n",
    "optimizer = tf.keras.optimizers.SGD(learning_rate=0.001)\n",
    "\n",
    "for i in range(2000):\n",
    "    loss, grads = get_loss_and_grads(x_train)\n",
    "    optimizer.apply_gradients(zip(grads, normal.trainable_variables))\n",
    "    \n",
    "    loc_value = normal.loc.value()\n",
    "    print(\"Step {:03d}: Loss: {:.3f} Loc: {:.3f}\".format(i, loss, loc_value))\n"
   ]
  },
  {
   "cell_type": "code",
   "execution_count": 212,
   "id": "anticipated-validation",
   "metadata": {},
   "outputs": [
    {
     "name": "stdout",
     "output_type": "stream",
     "text": [
      "True Value: 0.9283261895179749\n",
      "Estimated Value: 0.9283254146575928\n"
     ]
    }
   ],
   "source": [
    "# Compare the true value and the estimated parameter\n",
    "\n",
    "print(f'True Value: {x_train.mean()}')\n",
    "print(f'Estimated Value: {normal.trainable_variables[0].numpy()}')"
   ]
  },
  {
   "cell_type": "markdown",
   "id": "consecutive-hebrew",
   "metadata": {},
   "source": [
    "# 2. Linear Regression"
   ]
  },
  {
   "cell_type": "markdown",
   "id": "33471f60",
   "metadata": {},
   "source": [
    "#### Create data\n",
    "\n",
    "The data we'll be working with is artificially created from the following equation:\n",
    "\n",
    "$$y_i = x_i + \\frac{3}{10}\\epsilon_i$$\n",
    "\n",
    "where $\\epsilon_i \\sim \\mathcal{N}(0,1)$ are independent and identically distributed"
   ]
  },
  {
   "cell_type": "code",
   "execution_count": 213,
   "id": "da745d58",
   "metadata": {},
   "outputs": [
    {
     "data": {
      "image/png": "[encoded data removed]",
      "text/plain": [
       "<Figure size 432x288 with 1 Axes>"
      ]
     },
     "metadata": {
      "needs_background": "light"
     },
     "output_type": "display_data"
    }
   ],
   "source": [
    "# Create and plot 100 points of training data\n",
    "\n",
    "x_train = np.linspace(-1, 1, 100)[:, np.newaxis]\n",
    "y_train = x_train + 0.3*np.random.randn(100)[:, np.newaxis]\n",
    "\n",
    "plt.scatter(x_train, y_train, alpha=0.4)\n",
    "plt.xlabel('x')\n",
    "plt.ylabel('y')\n",
    "plt.show()"
   ]
  },
  {
   "cell_type": "markdown",
   "id": "0a4a1443",
   "metadata": {},
   "source": [
    "#### Deterministic linear regression with MSE loss"
   ]
  },
  {
   "cell_type": "markdown",
   "id": "institutional-figure",
   "metadata": {},
   "source": [
    "Let's define a model that receives each input as a length one vector (`input_shape`=(1,)) and the model is predicting only one target variable (using a Dense layer with 1 unit). We are compiling the model with the mean squared error loss, using the `RMSprop` optimizer and training for 200 epochs."
   ]
  },
  {
   "cell_type": "code",
   "execution_count": 214,
   "id": "45323900",
   "metadata": {},
   "outputs": [
    {
     "name": "stdout",
     "output_type": "stream",
     "text": [
      "Model: \"sequential_28\"\n",
      "_________________________________________________________________\n",
      "Layer (type)                 Output Shape              Param #   \n",
      "=================================================================\n",
      "dense_33 (Dense)             (None, 1)                 2         \n",
      "=================================================================\n",
      "Total params: 2\n",
      "Trainable params: 2\n",
      "Non-trainable params: 0\n",
      "_________________________________________________________________\n"
     ]
    },
    {
     "data": {
      "text/plain": [
       "<tensorflow.python.keras.callbacks.History at 0x7f1f48304400>"
      ]
     },
     "execution_count": 214,
     "metadata": {},
     "output_type": "execute_result"
    }
   ],
   "source": [
    "# Create linear regression via Sequential model\n",
    "# Train the deterministic linear model using mean squared error loss\n",
    "\n",
    "model = Sequential([\n",
    "    Dense(units=1, input_shape=(1,)),\n",
    "])\n",
    "model.compile(loss=MeanSquaredError(), optimizer=RMSprop(learning_rate=0.005))\n",
    "model.summary()\n",
    "model.fit(x_train, y_train, epochs=200, verbose=False)"
   ]
  },
  {
   "cell_type": "code",
   "execution_count": 215,
   "id": "adaptive-group",
   "metadata": {},
   "outputs": [
    {
     "data": {
      "image/png": "[encoded data removed]",
      "text/plain": [
       "<Figure size 432x288 with 1 Axes>"
      ]
     },
     "metadata": {
      "needs_background": "light"
     },
     "output_type": "display_data"
    }
   ],
   "source": [
    "# Plot the data and the model\n",
    "plt.scatter(x_train, y_train, alpha=0.4, label='data')\n",
    "plt.plot(x_train, model.predict(x_train), color='red', alpha=0.8, label='model')\n",
    "plt.legend()\n",
    "plt.show()"
   ]
  },
  {
   "cell_type": "markdown",
   "id": "abdf6f91",
   "metadata": {},
   "source": [
    "The deterministic linear regression fails to capture the aleatoric uncertainty (uncertainty on the process generation of the data). We can see this by the output above, where we get the y_value (our prediction) but we don't get any reference to the uncertainty of that prediction (there is significant uncertainty as we can see from the distance between the blue points and the red line)."
   ]
  },
  {
   "cell_type": "markdown",
   "id": "2bdea21b",
   "metadata": {},
   "source": [
    "#### Probabilistic linear regression to model the aleatoric uncertainty"
   ]
  },
  {
   "cell_type": "markdown",
   "id": "subject-hartford",
   "metadata": {},
   "source": [
    "To build our probabilistic model, we add a final layer which is a `DistributionLambda` layer. This layer includes the normal distribution. Notice that the output of the previous layer is what defines the mean of the normal distribution and we are assuming that the standard deviation is fixed (in our case 0.6). The constructor of the `DistributionLambda` has one required argument which is a function. This function takes the output of the previous layer as an input and returns a distribution object. In this case we are using a lambda function to instantiate the `DistributionLambda` layer. The lambda function receives an input t, which is the output tensor of the previous `Dense` layer and returns a normal distribution with mean defined by the tensor t.\n",
    "\n",
    "With this setup the model returns a distribution object when it is called."
   ]
  },
  {
   "cell_type": "code",
   "execution_count": 216,
   "id": "de14dbfc",
   "metadata": {},
   "outputs": [
    {
     "data": {
      "text/plain": [
       "<tfp.distributions.Normal 'sequential_29_distribution_lambda_18_Normal' batch_shape=[100, 1] event_shape=[] dtype=float32>"
      ]
     },
     "execution_count": 216,
     "metadata": {},
     "output_type": "execute_result"
    }
   ],
   "source": [
    "# Create probabilistic regression with normal distribution as final layer\n",
    "\n",
    "model = Sequential([\n",
    "    Dense(units=1, input_shape=(1,)),\n",
    "    tfpl.DistributionLambda(lambda t: tfd.Normal(loc=t, scale=0.6))\n",
    "])\n",
    "model(x_train)"
   ]
  },
  {
   "cell_type": "markdown",
   "id": "compliant-fishing",
   "metadata": {},
   "source": [
    "Notice that the output of the model is a distribution object with `batch_shape` equal to batch of the data (we did not create batches) by the number of units in the `Dense` layer (or number of ouput variables)."
   ]
  },
  {
   "cell_type": "code",
   "execution_count": 217,
   "id": "invisible-external",
   "metadata": {},
   "outputs": [
    {
     "name": "stdout",
     "output_type": "stream",
     "text": [
      "Model: \"sequential_29\"\n",
      "_________________________________________________________________\n",
      "Layer (type)                 Output Shape              Param #   \n",
      "=================================================================\n",
      "dense_34 (Dense)             (None, 1)                 2         \n",
      "_________________________________________________________________\n",
      "distribution_lambda_18 (Dist multiple                  0         \n",
      "=================================================================\n",
      "Total params: 2\n",
      "Trainable params: 2\n",
      "Non-trainable params: 0\n",
      "_________________________________________________________________\n"
     ]
    }
   ],
   "source": [
    "# Print model summary\n",
    "\n",
    "model.summary()"
   ]
  },
  {
   "cell_type": "markdown",
   "id": "usual-converter",
   "metadata": {},
   "source": [
    "It is time to define our loss function. The loss function in `Keras` receives the true labels and predictions as inputs. To compute the negative loglikelihood we just need to bear in mind that our model outputs a distribution object, so `y_pred` is the normal distribution. Using the `log_prob` method, we can easily compute the log probability of the data."
   ]
  },
  {
   "cell_type": "code",
   "execution_count": 218,
   "id": "b321db47",
   "metadata": {},
   "outputs": [],
   "source": [
    "# Train model using the negative loglikelihood\n",
    "\n",
    "def nll(y_true, y_pred):\n",
    "    return -y_pred.log_prob(y_true)"
   ]
  },
  {
   "cell_type": "code",
   "execution_count": 219,
   "id": "83e44853",
   "metadata": {},
   "outputs": [
    {
     "data": {
      "text/plain": [
       "<tensorflow.python.keras.callbacks.History at 0x7f1f2f6a0b50>"
      ]
     },
     "execution_count": 219,
     "metadata": {},
     "output_type": "execute_result"
    }
   ],
   "source": [
    "model.compile(loss=nll, optimizer=RMSprop(learning_rate=0.005))\n",
    "model.fit(x_train, y_train, epochs=200, verbose=False)"
   ]
  },
  {
   "cell_type": "code",
   "execution_count": 220,
   "id": "f13cc0c9",
   "metadata": {},
   "outputs": [
    {
     "data": {
      "image/png": "[encoded data removed]",
      "text/plain": [
       "<Figure size 1080x360 with 2 Axes>"
      ]
     },
     "metadata": {
      "needs_background": "light"
     },
     "output_type": "display_data"
    }
   ],
   "source": [
    "# Plot the data and a sample from the model\n",
    "\n",
    "y_model = model(x_train)\n",
    "y_sample = y_model.sample()\n",
    "y_hat = y_model.mean()\n",
    "y_sd = y_model.stddev()\n",
    "y_hat_m2sd = y_hat -2 * y_sd\n",
    "y_hat_p2sd = y_hat + 2*y_sd\n",
    "\n",
    "fig, (ax1, ax2) =plt.subplots(1, 2, figsize=(15, 5), sharey=True)\n",
    "ax1.scatter(x_train, y_train, alpha=0.4, label='data')\n",
    "ax1.scatter(x_train, y_sample, alpha=0.4, color='red', label='model sample')\n",
    "ax1.legend()\n",
    "ax2.scatter(x_train, y_train, alpha=0.4, label='data')\n",
    "ax2.plot(x_train, y_hat, color='red', alpha=0.8, label='model $\\mu$')\n",
    "ax2.plot(x_train, y_hat_m2sd, color='green', alpha=0.8, label='model $\\mu \\pm 2 \\sigma$')\n",
    "ax2.plot(x_train, y_hat_p2sd, color='green', alpha=0.8)\n",
    "ax2.legend()\n",
    "plt.show()"
   ]
  },
  {
   "cell_type": "markdown",
   "id": "caa5ca1c",
   "metadata": {},
   "source": [
    "As we can see we capture the mean correctly but as we did not infer the standard deviation (it was manually chosen) we see that its value is far from correct. Let's add the standard deviation as a parameter of the model.\n",
    "\n",
    "We need to constraint the standard deviation to be positive. We use a SoftPlus function, which is a smooth approximation to the ReLU function and can indeed constrain the output of a model to always be positive."
   ]
  },
  {
   "cell_type": "code",
   "execution_count": 221,
   "id": "17a6f9ea",
   "metadata": {},
   "outputs": [
    {
     "data": {
      "text/plain": [
       "<tfp.distributions.Normal 'sequential_30_distribution_lambda_19_Normal' batch_shape=[100, 1] event_shape=[] dtype=float32>"
      ]
     },
     "execution_count": 221,
     "metadata": {},
     "output_type": "execute_result"
    }
   ],
   "source": [
    "# Create probabilistic regression with normal distribution as final layer\n",
    "\n",
    "event_shape = 1\n",
    "\n",
    "model = Sequential([\n",
    "    Dense(units=2, input_shape=(1,)),\n",
    "    tfpl.DistributionLambda(lambda t:tfd.Normal(loc=t[...,:1], scale=tf.math.softplus(t[...,1:])))\n",
    "])\n",
    "model(x_train)"
   ]
  },
  {
   "cell_type": "code",
   "execution_count": 222,
   "id": "norwegian-hygiene",
   "metadata": {},
   "outputs": [
    {
     "name": "stdout",
     "output_type": "stream",
     "text": [
      "Model: \"sequential_30\"\n",
      "_________________________________________________________________\n",
      "Layer (type)                 Output Shape              Param #   \n",
      "=================================================================\n",
      "dense_35 (Dense)             (None, 2)                 4         \n",
      "_________________________________________________________________\n",
      "distribution_lambda_19 (Dist multiple                  0         \n",
      "=================================================================\n",
      "Total params: 4\n",
      "Trainable params: 4\n",
      "Non-trainable params: 0\n",
      "_________________________________________________________________\n"
     ]
    }
   ],
   "source": [
    "model.summary()"
   ]
  },
  {
   "cell_type": "code",
   "execution_count": 223,
   "id": "904272d9",
   "metadata": {},
   "outputs": [],
   "source": [
    "# Train model using the negative loglikelihood\n",
    "\n",
    "def nll(y_true, y_pred):\n",
    "    return -y_pred.log_prob(y_true)"
   ]
  },
  {
   "cell_type": "code",
   "execution_count": 224,
   "id": "46143efd",
   "metadata": {},
   "outputs": [
    {
     "data": {
      "text/plain": [
       "<tensorflow.python.keras.callbacks.History at 0x7f1f2c17c550>"
      ]
     },
     "execution_count": 224,
     "metadata": {},
     "output_type": "execute_result"
    }
   ],
   "source": [
    "model.compile(loss=nll, optimizer=RMSprop(learning_rate=0.005))\n",
    "model.fit(x_train, y_train, epochs=200, verbose=False)"
   ]
  },
  {
   "cell_type": "code",
   "execution_count": 225,
   "id": "8302031e",
   "metadata": {},
   "outputs": [
    {
     "data": {
      "text/plain": [
       "<tfp.distributions.Normal 'sequential_30_distribution_lambda_19_Normal' batch_shape=[100, 1] event_shape=[] dtype=float32>"
      ]
     },
     "execution_count": 225,
     "metadata": {},
     "output_type": "execute_result"
    }
   ],
   "source": [
    "# Examine the distribution created as a feedforward value\n",
    "\n",
    "y_model = model(x_train)\n",
    "y_model"
   ]
  },
  {
   "cell_type": "code",
   "execution_count": 226,
   "id": "73583c06",
   "metadata": {},
   "outputs": [
    {
     "data": {
      "image/png": "[encoded data removed]",
      "text/plain": [
       "<Figure size 1080x360 with 2 Axes>"
      ]
     },
     "metadata": {
      "needs_background": "light"
     },
     "output_type": "display_data"
    }
   ],
   "source": [
    "# Plot the data and a sample from the model\n",
    "\n",
    "y_model = model(x_train)\n",
    "y_sample = y_model.sample()\n",
    "y_hat = y_model.mean()\n",
    "y_sd = y_model.stddev()\n",
    "y_hat_m2sd = y_hat -2 * y_sd\n",
    "y_hat_p2sd = y_hat + 2*y_sd\n",
    "\n",
    "fig, (ax1, ax2) =plt.subplots(1, 2, figsize=(15, 5), sharey=True)\n",
    "ax1.scatter(x_train, y_train, alpha=0.4, label='data')\n",
    "ax1.scatter(x_train, y_sample, alpha=0.4, color='red', label='model sample')\n",
    "ax1.legend()\n",
    "ax2.scatter(x_train, y_train, alpha=0.4, label='data')\n",
    "ax2.plot(x_train, y_hat, color='red', alpha=0.8, label='model $\\mu$')\n",
    "ax2.plot(x_train, y_hat_m2sd, color='green', alpha=0.8, label='model $\\mu \\pm 2 \\sigma$')\n",
    "ax2.plot(x_train, y_hat_p2sd, color='green', alpha=0.8)\n",
    "ax2.legend()\n",
    "plt.show()"
   ]
  },
  {
   "cell_type": "markdown",
   "id": "stone-potter",
   "metadata": {},
   "source": [
    "# 3. Non-Linear Regression"
   ]
  },
  {
   "cell_type": "markdown",
   "id": "61ad6b36",
   "metadata": {},
   "source": [
    "#### Probabilitistic linear regression with nonlinear learned mean & variance\n",
    "\n",
    "Let's change the data to being nonlinear:\n",
    "\n",
    "$$y_i = x_i^3+\\frac{2}{5}(1+x_i)\\epsilon_i$$\n",
    "\n",
    "where $\\epsilon_i \\sim \\mathcal{N}(0,1)$ are independent and identically distributed."
   ]
  },
  {
   "cell_type": "code",
   "execution_count": 227,
   "id": "3790a266",
   "metadata": {},
   "outputs": [
    {
     "data": {
      "image/png": "[encoded data removed]",
      "text/plain": [
       "<Figure size 432x288 with 1 Axes>"
      ]
     },
     "metadata": {
      "needs_background": "light"
     },
     "output_type": "display_data"
    }
   ],
   "source": [
    "# Create and plot 10000 data points\n",
    "\n",
    "x_train = np.linspace(-1, 1, 1000)[:, np.newaxis]\n",
    "y_train = np.power(x_train, 3) + (2/5)*(1+x_train)*np.random.randn(1000)[:, np.newaxis]\n",
    "\n",
    "plt.scatter(x_train, y_train, alpha=0.1)\n",
    "plt.show()"
   ]
  },
  {
   "cell_type": "markdown",
   "id": "cross-candidate",
   "metadata": {},
   "source": [
    "To simplify the implementation of our last layer we can use a wrapper that TensorFlow Probability provides to build a similar distribution that we built with `DistributionLambda` - it is called `IndependentNormal`. At the same time we can use a static method that outputs the number of parameters that are required to the probabilistic layer and use it to define the number of units in the previous `Dense` layer: `tfpl.IndependentNormal.params_size(event_shape=1)`.\n",
    "\n",
    "The real difference between the linear and non-linear models is that we added a new Dense layer as the first layer of the model."
   ]
  },
  {
   "cell_type": "code",
   "execution_count": 228,
   "id": "1c3cccc0",
   "metadata": {},
   "outputs": [
    {
     "name": "stdout",
     "output_type": "stream",
     "text": [
      "Model: \"sequential_31\"\n",
      "_________________________________________________________________\n",
      "Layer (type)                 Output Shape              Param #   \n",
      "=================================================================\n",
      "dense_36 (Dense)             (None, 8)                 16        \n",
      "_________________________________________________________________\n",
      "dense_37 (Dense)             (None, 2)                 18        \n",
      "_________________________________________________________________\n",
      "independent_normal_5 (Indepe multiple                  0         \n",
      "=================================================================\n",
      "Total params: 34\n",
      "Trainable params: 34\n",
      "Non-trainable params: 0\n",
      "_________________________________________________________________\n"
     ]
    }
   ],
   "source": [
    "# Create probabilistic regression: normal distribution with fixed variance\n",
    "\n",
    "model = Sequential([\n",
    "    Dense(input_shape=(1,), units=8, activation='sigmoid'),\n",
    "    Dense(tfpl.IndependentNormal.params_size(event_shape=1)),\n",
    "    tfpl.IndependentNormal(event_shape=1)\n",
    "    # Dense(2),\n",
    "    # tfpl.DistributionLambda(lambda t:tfd.Normal(loc=t[...,:1], scale=tf.math.softplus(t[...,1:])))\n",
    "])\n",
    "\n",
    "model.compile(loss=nll, optimizer=RMSprop(learning_rate=0.01))\n",
    "model.summary()"
   ]
  },
  {
   "cell_type": "code",
   "execution_count": 229,
   "id": "ce4a7870",
   "metadata": {},
   "outputs": [
    {
     "name": "stdout",
     "output_type": "stream",
     "text": [
      "32/32 [==============================] - 0s 534us/step - loss: 0.4136\n"
     ]
    },
    {
     "data": {
      "text/plain": [
       "0.4135710895061493"
      ]
     },
     "execution_count": 229,
     "metadata": {},
     "output_type": "execute_result"
    }
   ],
   "source": [
    "# Train model\n",
    "\n",
    "model.fit(x_train, y_train, epochs=500, verbose=False)\n",
    "model.evaluate(x_train, y_train)"
   ]
  },
  {
   "cell_type": "code",
   "execution_count": 230,
   "id": "7138bd1b",
   "metadata": {},
   "outputs": [
    {
     "data": {
      "image/png": "[encoded data removed]",
      "text/plain": [
       "<Figure size 1080x360 with 2 Axes>"
      ]
     },
     "metadata": {
      "needs_background": "light"
     },
     "output_type": "display_data"
    }
   ],
   "source": [
    "# Plot the data and a sample from the model\n",
    "\n",
    "y_model = model(x_train)\n",
    "y_sample = y_model.sample()\n",
    "y_hat = y_model.mean()\n",
    "y_sd = y_model.stddev()\n",
    "y_hat_m2sd = y_hat -2 * y_sd\n",
    "y_hat_p2sd = y_hat + 2*y_sd\n",
    "\n",
    "fig, (ax1, ax2) =plt.subplots(1, 2, figsize=(15, 5), sharey=True)\n",
    "ax1.scatter(x_train, y_train, alpha=0.4, label='data')\n",
    "ax1.scatter(x_train, y_sample, alpha=0.4, color='red', label='model sample')\n",
    "ax1.legend()\n",
    "ax2.scatter(x_train, y_train, alpha=0.4, label='data')\n",
    "ax2.plot(x_train, y_hat, color='red', alpha=0.8, label='model $\\mu$')\n",
    "ax2.plot(x_train, y_hat_m2sd, color='green', alpha=0.8, label='model $\\mu \\pm 2 \\sigma$')\n",
    "ax2.plot(x_train, y_hat_p2sd, color='green', alpha=0.8)\n",
    "ax2.legend()\n",
    "plt.show()"
   ]
  },
  {
   "cell_type": "markdown",
   "id": "virtual-actor",
   "metadata": {},
   "source": [
    "# 4. Deterministic Deep Learning Model"
   ]
  },
  {
   "cell_type": "markdown",
   "id": "directed-default",
   "metadata": {},
   "source": [
    "### 4.1 The MNIST and MNIST-C datasets\n",
    "\n",
    "In this article we use the MNIST dataset and its corrupted version [MNIST](http://yann.lecun.com/exdb/mnist/). The corrupted version have grey spatters on top of the numbers, make it harder to classify the numbers. Our goal is to build a Convolutional Neural Network (CNN) that classifies the images of the handwritten digits to 10 different classes."
   ]
  },
  {
   "cell_type": "code",
   "execution_count": 231,
   "id": "cloudy-representation",
   "metadata": {},
   "outputs": [],
   "source": [
    "def load_data(name):\n",
    "    data_dir = os.path.join('data', name)\n",
    "    x_train = 1 - np.load(os.path.join(data_dir, 'x_train.npy')) / 255.\n",
    "    x_train = x_train.astype(np.float32)\n",
    "    y_train = np.load(os.path.join(data_dir, 'y_train.npy'))\n",
    "    y_train_oh = tf.keras.utils.to_categorical(y_train)\n",
    "    x_test  = 1 - np.load(os.path.join(data_dir, 'x_test.npy')) / 255.\n",
    "    x_test = x_test.astype(np.float32)\n",
    "    y_test  = np.load(os.path.join(data_dir, 'y_test.npy'))\n",
    "    y_test_oh = tf.keras.utils.to_categorical(y_test)\n",
    "    \n",
    "    return (x_train, y_train, y_train_oh), (x_test, y_test, y_test_oh)"
   ]
  },
  {
   "cell_type": "code",
   "execution_count": 232,
   "id": "controlling-dodge",
   "metadata": {},
   "outputs": [],
   "source": [
    "# Function to inspect dataset digits\n",
    "\n",
    "def inspect_images(data, num_images):\n",
    "    fig, ax = plt.subplots(nrows=1, ncols=num_images, figsize=(2*num_images, 2))\n",
    "    for i in range(num_images):\n",
    "        ax[i].imshow(data[i, :, :], cmap='gray')\n",
    "        ax[i].axis('off')\n",
    "    plt.show()"
   ]
  },
  {
   "cell_type": "code",
   "execution_count": 233,
   "id": "amended-replacement",
   "metadata": {},
   "outputs": [
    {
     "data": {
      "image/png": "[encoded data removed]",
      "text/plain": [
       "<Figure size 1152x144 with 8 Axes>"
      ]
     },
     "metadata": {
      "needs_background": "light"
     },
     "output_type": "display_data"
    }
   ],
   "source": [
    "# Load and inspect the MNIST dataset\n",
    "\n",
    "(x_train, y_train), (x_test, y_test) = tf.keras.datasets.mnist.load_data()\n",
    "\n",
    "inspect_images(data=x_train, num_images=8)"
   ]
  },
  {
   "cell_type": "code",
   "execution_count": 234,
   "id": "maritime-toyota",
   "metadata": {},
   "outputs": [],
   "source": [
    "x_train = np.expand_dims(x_train, axis=-1)\n",
    "y_train = np.expand_dims(y_train, axis=-1)\n",
    "x_test = np.expand_dims(x_test, axis=-1)\n",
    "y_test = np.expand_dims(y_test, axis=-1)"
   ]
  },
  {
   "cell_type": "code",
   "execution_count": 235,
   "id": "descending-contamination",
   "metadata": {},
   "outputs": [],
   "source": [
    "# Load and inspect the MNIST-C dataset\n",
    "\n",
    "(xy_c_train, xy_c_test) = tfds.load('mnist_corrupted/spatter',\n",
    "                               split=['train', 'test'],\n",
    "                               as_supervised=True)"
   ]
  },
  {
   "cell_type": "code",
   "execution_count": 236,
   "id": "careful-enhancement",
   "metadata": {},
   "outputs": [
    {
     "data": {
      "image/png": "[encoded data removed]",
      "text/plain": [
       "<Figure size 1152x144 with 8 Axes>"
      ]
     },
     "metadata": {
      "needs_background": "light"
     },
     "output_type": "display_data"
    }
   ],
   "source": [
    "i = 0\n",
    "fig, ax = plt.subplots(nrows=1, ncols=8, figsize=(2*8, 2))\n",
    "\n",
    "for x, y in xy_c_train:\n",
    "    if i < 8:\n",
    "        ax[i].imshow(np.squeeze(x), cmap='gray')\n",
    "    else:\n",
    "        break\n",
    "    i+=1"
   ]
  },
  {
   "cell_type": "code",
   "execution_count": 237,
   "id": "trained-briefing",
   "metadata": {},
   "outputs": [],
   "source": [
    "# not good practice (doing it here to simplify visualizations essencially)\n",
    "\n",
    "x_c_train = []\n",
    "y_c_train = []\n",
    "for x, y in xy_c_train:\n",
    "    x_c_train.append(x)\n",
    "    y_c_train.append(y)\n",
    "x_c_train = np.asarray(x_c_train)\n",
    "y_c_train = np.asarray(y_c_train)\n",
    "\n",
    "\n",
    "x_c_test = []\n",
    "y_c_test = []\n",
    "for x, y in xy_c_test:\n",
    "    x_c_test.append(x)\n",
    "    y_c_test.append(y)\n",
    "x_c_test = np.asarray(x_c_test)\n",
    "y_c_test = np.asarray(y_c_test)"
   ]
  },
  {
   "cell_type": "markdown",
   "id": "developing-humidity",
   "metadata": {},
   "source": [
    "### 4.2 Deterministic CNN\n",
    "\n",
    "We need to build a classifier model that can output predictions to 10 different classes. In our deterministic model, the final layer has to be defined with a `Dense` layer with 10 units and a softmax activation function.\n",
    "\n",
    "We first define the deterministic model. It is a CNN classifier model with: \n",
    "* a Conv2D layer with 8 filters, 5x5 kernel size, ReLU activation and `'VALID'` padding.\n",
    "* a MaxPooling2D layer with a 6x6 window size.\n",
    "* a Flatten layer\n",
    "* a Dense layer with 10 units and softmax activation"
   ]
  },
  {
   "cell_type": "code",
   "execution_count": 238,
   "id": "affiliated-zealand",
   "metadata": {},
   "outputs": [],
   "source": [
    "# define a function that returns the deterministic model defined above\n",
    "\n",
    "def get_deterministic_model(input_shape, loss, optimizer, metrics):\n",
    "    model = Sequential([\n",
    "        Conv2D(input_shape=input_shape, \n",
    "               padding='valid', \n",
    "               filters=8, \n",
    "               kernel_size=(5, 5), \n",
    "               activation='relu'),\n",
    "        MaxPooling2D(pool_size=(6,6)),\n",
    "        Flatten(),\n",
    "        Dense(10, activation='softmax')\n",
    "    ])\n",
    "    \n",
    "    model.compile(loss=loss, optimizer=optimizer, metrics=metrics)\n",
    "    return model"
   ]
  },
  {
   "cell_type": "code",
   "execution_count": 239,
   "id": "opponent-kazakhstan",
   "metadata": {},
   "outputs": [],
   "source": [
    "# Run your function to get the benchmark model\n",
    "\n",
    "tf.random.set_seed(0)\n",
    "deterministic_model = get_deterministic_model(\n",
    "    input_shape=(28, 28, 1), \n",
    "    loss=SparseCategoricalCrossentropy(), \n",
    "    optimizer=RMSprop(), \n",
    "    metrics=['accuracy']\n",
    ")"
   ]
  },
  {
   "cell_type": "code",
   "execution_count": 240,
   "id": "increased-helena",
   "metadata": {},
   "outputs": [
    {
     "name": "stdout",
     "output_type": "stream",
     "text": [
      "Model: \"sequential_32\"\n",
      "_________________________________________________________________\n",
      "Layer (type)                 Output Shape              Param #   \n",
      "=================================================================\n",
      "conv2d_2 (Conv2D)            (None, 24, 24, 8)         208       \n",
      "_________________________________________________________________\n",
      "max_pooling2d_2 (MaxPooling2 (None, 4, 4, 8)           0         \n",
      "_________________________________________________________________\n",
      "flatten_2 (Flatten)          (None, 128)               0         \n",
      "_________________________________________________________________\n",
      "dense_38 (Dense)             (None, 10)                1290      \n",
      "=================================================================\n",
      "Total params: 1,498\n",
      "Trainable params: 1,498\n",
      "Non-trainable params: 0\n",
      "_________________________________________________________________\n"
     ]
    }
   ],
   "source": [
    "# Print the model summary\n",
    "\n",
    "deterministic_model.summary()"
   ]
  },
  {
   "cell_type": "code",
   "execution_count": 241,
   "id": "moderate-dublin",
   "metadata": {},
   "outputs": [
    {
     "name": "stdout",
     "output_type": "stream",
     "text": [
      "Epoch 1/5\n",
      "1875/1875 [==============================] - 6s 3ms/step - loss: 6.2778 - accuracy: 0.7035\n",
      "Epoch 2/5\n",
      "1875/1875 [==============================] - 6s 3ms/step - loss: 0.2266 - accuracy: 0.9440\n",
      "Epoch 3/5\n",
      "1875/1875 [==============================] - 6s 3ms/step - loss: 0.1596 - accuracy: 0.9567\n",
      "Epoch 4/5\n",
      "1875/1875 [==============================] - 6s 3ms/step - loss: 0.1344 - accuracy: 0.9635\n",
      "Epoch 5/5\n",
      "1875/1875 [==============================] - 6s 3ms/step - loss: 0.1239 - accuracy: 0.9669\n"
     ]
    },
    {
     "data": {
      "text/plain": [
       "<tensorflow.python.keras.callbacks.History at 0x7f1f2f430250>"
      ]
     },
     "execution_count": 241,
     "metadata": {},
     "output_type": "execute_result"
    }
   ],
   "source": [
    "# Train the model\n",
    "\n",
    "deterministic_model.fit(x_train, y_train, epochs=5)"
   ]
  },
  {
   "cell_type": "code",
   "execution_count": 242,
   "id": "great-globe",
   "metadata": {},
   "outputs": [
    {
     "name": "stdout",
     "output_type": "stream",
     "text": [
      "Accuracy on MNIST test set:  0.9629999995231628\n",
      "Accuracy on corrupted MNIST test set:  0.8743000030517578\n"
     ]
    }
   ],
   "source": [
    "# Evaluate the model\n",
    "\n",
    "print('Accuracy on MNIST test set: ',\n",
    "      str(deterministic_model.evaluate(x_test, y_test, verbose=False)[1]))\n",
    "print('Accuracy on corrupted MNIST test set: ',\n",
    "      str(deterministic_model.evaluate(x_c_test, y_c_test, verbose=False)[1]))"
   ]
  },
  {
   "cell_type": "markdown",
   "id": "fitting-liberty",
   "metadata": {},
   "source": [
    "The pointwise performance on the corrupted MNIST set is worse as we would expect. The dataset is noisier, which makes it hard to the model to differentiate the classes."
   ]
  },
  {
   "cell_type": "markdown",
   "id": "recreational-commonwealth",
   "metadata": {},
   "source": [
    "# 5. Probabilistic Deep Learning Model\n"
   ]
  },
  {
   "cell_type": "code",
   "execution_count": 243,
   "id": "liquid-adaptation",
   "metadata": {},
   "outputs": [],
   "source": [
    "# Define the negative loglikelihood function\n",
    "\n",
    "def nll(y_true, y_pred):\n",
    "    return -y_pred.log_prob(y_true)"
   ]
  },
  {
   "cell_type": "markdown",
   "id": "guided-sudan",
   "metadata": {},
   "source": [
    "For our probabilistic model, the final layer is different from what we defined in the deterministic model. As we saw previously, we want our model to output a distribution object. In this case, the model outputs a One-Hot Categorical distribution object. With this approach we are able to model the aleatoric uncertainty on the image labels.\n",
    "\n",
    "OneHotCategorical is a discrete distribution over one-hot bit vectors whereas Categorical is a discrete distribution over positive integers. OneHotCategorical is equivalent to Categorical except Categorical has event_dim=() while OneHotCategorical has event_dim=K, where K is the number of classes.\n",
    "\n",
    "Our probabilistic CNN consists of: \n",
    "* a Conv2D layer with 8 filters, 5x5 kernel size, ReLU activation and `'VALID'` padding.\n",
    "* a MaxPooling2D layer with a 6x6 window size.\n",
    "* a Flatten layer\n",
    "* a Dense layer with the number of units required to parameterize the probabilistic layer that follows\n",
    "* a OneHotCategorical distribution with event shape equal to 10, corresponding to the 10 classes"
   ]
  },
  {
   "cell_type": "code",
   "execution_count": 244,
   "id": "inclusive-while",
   "metadata": {},
   "outputs": [],
   "source": [
    "# Define the probabilistic CNN\n",
    "\n",
    "def get_probabilistic_model(input_shape, loss, optimizer, metrics):\n",
    "    model = Sequential([\n",
    "        Conv2D(input_shape=input_shape, \n",
    "               padding='valid', \n",
    "               filters=8, \n",
    "               kernel_size=(5, 5), \n",
    "               activation='relu'),\n",
    "        MaxPooling2D(pool_size=(6,6)),\n",
    "        Flatten(),\n",
    "        Dense(units=tfpl.OneHotCategorical.params_size(10)),\n",
    "        tfpl.OneHotCategorical(event_size=10,\n",
    "                               convert_to_tensor_fn=tfd.Distribution.mode)\n",
    "    ])\n",
    "    model.compile(loss = loss,\n",
    "                 optimizer=optimizer,\n",
    "                 metrics=metrics,\n",
    "                 experimental_run_tf_function=False)\n",
    "    return model\n",
    "    "
   ]
  },
  {
   "cell_type": "code",
   "execution_count": 245,
   "id": "laughing-november",
   "metadata": {},
   "outputs": [],
   "source": [
    "# Run your function to get the probabilistic model\n",
    "\n",
    "tf.random.set_seed(0)\n",
    "probabilistic_model = get_probabilistic_model(\n",
    "    input_shape=(28, 28, 1), \n",
    "    loss=nll, \n",
    "    optimizer=RMSprop(), \n",
    "    metrics=['accuracy'])"
   ]
  },
  {
   "cell_type": "code",
   "execution_count": 246,
   "id": "lovely-amsterdam",
   "metadata": {},
   "outputs": [
    {
     "name": "stdout",
     "output_type": "stream",
     "text": [
      "Model: \"sequential_33\"\n",
      "_________________________________________________________________\n",
      "Layer (type)                 Output Shape              Param #   \n",
      "=================================================================\n",
      "conv2d_3 (Conv2D)            (None, 24, 24, 8)         208       \n",
      "_________________________________________________________________\n",
      "max_pooling2d_3 (MaxPooling2 (None, 4, 4, 8)           0         \n",
      "_________________________________________________________________\n",
      "flatten_3 (Flatten)          (None, 128)               0         \n",
      "_________________________________________________________________\n",
      "dense_39 (Dense)             (None, 10)                1290      \n",
      "_________________________________________________________________\n",
      "one_hot_categorical_1 (OneHo multiple                  0         \n",
      "=================================================================\n",
      "Total params: 1,498\n",
      "Trainable params: 1,498\n",
      "Non-trainable params: 0\n",
      "_________________________________________________________________\n"
     ]
    }
   ],
   "source": [
    "# Print the model summary\n",
    "\n",
    "probabilistic_model.summary()"
   ]
  },
  {
   "cell_type": "code",
   "execution_count": 247,
   "id": "proud-median",
   "metadata": {},
   "outputs": [
    {
     "name": "stdout",
     "output_type": "stream",
     "text": [
      "Epoch 1/5\n",
      "1875/1875 [==============================] - 6s 3ms/step - loss: 6.2778 - accuracy: 0.7035\n",
      "Epoch 2/5\n",
      "1875/1875 [==============================] - 6s 3ms/step - loss: 0.2266 - accuracy: 0.9440\n",
      "Epoch 3/5\n",
      "1875/1875 [==============================] - 6s 3ms/step - loss: 0.1596 - accuracy: 0.9567\n",
      "Epoch 4/5\n",
      "1875/1875 [==============================] - 6s 3ms/step - loss: 0.1344 - accuracy: 0.9635\n",
      "Epoch 5/5\n",
      "1875/1875 [==============================] - 6s 3ms/step - loss: 0.1239 - accuracy: 0.9669\n"
     ]
    },
    {
     "data": {
      "text/plain": [
       "<tensorflow.python.keras.callbacks.History at 0x7f1ee83051f0>"
      ]
     },
     "execution_count": 247,
     "metadata": {},
     "output_type": "execute_result"
    }
   ],
   "source": [
    "# Train the model\n",
    "\n",
    "probabilistic_model.fit(x_train, tf.keras.utils.to_categorical(y_train), epochs=5)"
   ]
  },
  {
   "cell_type": "code",
   "execution_count": 248,
   "id": "young-allah",
   "metadata": {},
   "outputs": [
    {
     "name": "stdout",
     "output_type": "stream",
     "text": [
      "Accuracy on MNIST test set:  0.9629999995231628\n",
      "Accuracy on corrupted MNIST test set:  0.8743000030517578\n"
     ]
    }
   ],
   "source": [
    "# Evaluate the model\n",
    "\n",
    "print('Accuracy on MNIST test set: ',\n",
    "      str(probabilistic_model.evaluate(x_test, tf.keras.utils.to_categorical(y_test), verbose=False)[1]))\n",
    "print('Accuracy on corrupted MNIST test set: ',\n",
    "      str(probabilistic_model.evaluate(x_c_test, tf.keras.utils.to_categorical(y_c_test), verbose=False)[1]))"
   ]
  },
  {
   "cell_type": "markdown",
   "id": "suitable-center",
   "metadata": {},
   "source": [
    "Note that the test accuracy of the probabilistic model is identical to the deterministic model. This is because the model architectures for both are equivalent; the only difference being that the probabilistic model returns a distribution object."
   ]
  },
  {
   "cell_type": "code",
   "execution_count": 249,
   "id": "republican-schema",
   "metadata": {},
   "outputs": [
    {
     "name": "stdout",
     "output_type": "stream",
     "text": [
      "True\n",
      "True\n",
      "True\n",
      "True\n"
     ]
    }
   ],
   "source": [
    "# Check all the weights of the deterministic and probabilistic \n",
    "# models are identical\n",
    "\n",
    "for deterministic_variable, probabilistic_variable in zip(deterministic_model.weights, probabilistic_model.weights):\n",
    "    print(np.allclose(deterministic_variable.numpy(), probabilistic_variable.numpy()))"
   ]
  },
  {
   "cell_type": "markdown",
   "id": "still-treaty",
   "metadata": {},
   "source": [
    "# 6. Results"
   ]
  },
  {
   "cell_type": "code",
   "execution_count": 250,
   "id": "random-manor",
   "metadata": {},
   "outputs": [],
   "source": [
    "# Function to make plots of the probabilities that the model estimates for an image\n",
    "\n",
    "def analyse_model_prediction(data, true_labels, model, run_ensemble=False):\n",
    "    if run_ensemble:\n",
    "        ensemble_size = 200\n",
    "    else:\n",
    "        ensemble_size = 1\n",
    "    image = data\n",
    "    try:\n",
    "        if len(true_labels)>0:\n",
    "            true_labels = np.argmax(true_labels)\n",
    "    except:\n",
    "        pass\n",
    "    true_label = true_labels\n",
    "    predicted_probabilities = np.empty(shape=(ensemble_size, 10))\n",
    "    for i in range(ensemble_size):\n",
    "        predicted_probabilities[i] = model(image[np.newaxis, :]).mean().numpy()[0]\n",
    "    model_prediction = model(image[np.newaxis, :])\n",
    "    fig, (ax1, ax2) = plt.subplots(nrows=1, ncols=2, figsize=(10, 2),\n",
    "                                   gridspec_kw={'width_ratios': [2, 4]})\n",
    "    \n",
    "    # Show the image and the true label\n",
    "    ax1.imshow(image[..., 0], cmap='gray')\n",
    "    ax1.axis('off')\n",
    "    ax1.set_title('True label: {}'.format(str(true_label)))\n",
    "    \n",
    "    # Show a 95% prediction interval of model predicted probabilities\n",
    "    pct_2p5 = np.array([np.percentile(predicted_probabilities[:, i], 2.5) for i in range(10)])\n",
    "    pct_97p5 = np.array([np.percentile(predicted_probabilities[:, i], 97.5) for i in range(10)])    \n",
    "    bar = ax2.bar(np.arange(10), pct_97p5, color='red')\n",
    "    bar[int(true_label)].set_color('green')\n",
    "    ax2.bar(np.arange(10), pct_2p5-0.02, color='white', linewidth=1, edgecolor='white')\n",
    "    ax2.set_xticks(np.arange(10))\n",
    "    ax2.set_ylim([0, 1])\n",
    "    ax2.set_ylabel('Probability')\n",
    "    ax2.set_title('Model estimated probabilities')\n",
    "    plt.show()"
   ]
  },
  {
   "cell_type": "code",
   "execution_count": 266,
   "id": "compressed-sapphire",
   "metadata": {
    "scrolled": false
   },
   "outputs": [
    {
     "data": {
      "image/png": "[encoded data removed]",
      "text/plain": [
       "<Figure size 720x144 with 2 Axes>"
      ]
     },
     "metadata": {
      "needs_background": "light"
     },
     "output_type": "display_data"
    },
    {
     "data": {
      "image/png": "[encoded data removed]",
      "text/plain": [
       "<Figure size 720x144 with 2 Axes>"
      ]
     },
     "metadata": {
      "needs_background": "light"
     },
     "output_type": "display_data"
    }
   ],
   "source": [
    "# Prediction examples on MNIST\n",
    "\n",
    "for i in [0, 18]:\n",
    "    analyse_model_prediction(x_test[i], np.squeeze(y_test[i]), probabilistic_model)"
   ]
  },
  {
   "cell_type": "markdown",
   "id": "intelligent-wales",
   "metadata": {},
   "source": [
    "The model is very confident that the first image is a 7, which is correct. For the second image, the model struggles, assigning nonzero probabilities to many different classes."
   ]
  },
  {
   "cell_type": "code",
   "execution_count": 265,
   "id": "deadly-valentine",
   "metadata": {
    "scrolled": false
   },
   "outputs": [
    {
     "data": {
      "image/png": "[encoded data removed]",
      "text/plain": [
       "<Figure size 720x144 with 2 Axes>"
      ]
     },
     "metadata": {
      "needs_background": "light"
     },
     "output_type": "display_data"
    },
    {
     "data": {
      "image/png": "[encoded data removed]",
      "text/plain": [
       "<Figure size 720x144 with 2 Axes>"
      ]
     },
     "metadata": {
      "needs_background": "light"
     },
     "output_type": "display_data"
    }
   ],
   "source": [
    "# Prediction examples on MNIST-C\n",
    "\n",
    "for i in [0, 17]:\n",
    "    analyse_model_prediction(x_c_test[i], np.squeeze(y_c_test[i]), probabilistic_model)"
   ]
  },
  {
   "cell_type": "markdown",
   "id": "duplicate-cookie",
   "metadata": {},
   "source": [
    "Once again the model is confident about its prediction of the first image. Despite the spatters, the number is still easy to identify. The second number is significantly harder to identify. The model still does a good job by predicting the right number, but also by showing uncertainty about that choice."
   ]
  },
  {
   "cell_type": "markdown",
   "id": "younger-accountability",
   "metadata": {},
   "source": [
    "We can also make some analysis of the model's uncertainty across the full test set, instead of for individual values. One way to do this is to calculate the entropy of the distribution. The entropy is the expected information of a random variable, and is a measure of the uncertainty of the random variable. The entropy of the estimated probabilities for sample  𝑖  is defined as\n",
    "\n",
    "$$\n",
    "H_i = -\\sum_{j=1}^{10} p_{ij} \\text{log}_{2}(p_{ij})\n",
    "$$\n",
    " \n",
    "where  𝑝𝑖𝑗  is the probability that the model assigns to sample  𝑖  corresponding to label  𝑗. The higher the value, the more unsure the model is."
   ]
  },
  {
   "cell_type": "code",
   "execution_count": 253,
   "id": "dirty-briefs",
   "metadata": {},
   "outputs": [],
   "source": [
    "# Functions to plot the distribution of the information entropy across samples,\n",
    "# split into whether the model prediction is correct or incorrect\n",
    "\n",
    "def get_correct_indices(model, x, labels):\n",
    "    y_model = model(x)\n",
    "    correct = np.argmax(y_model.mean(), axis=1) == np.squeeze(labels)\n",
    "    correct_indices = [i for i in range(x.shape[0]) if correct[i]]\n",
    "    incorrect_indices = [i for i in range(x.shape[0]) if not correct[i]]\n",
    "    return correct_indices, incorrect_indices\n",
    "\n",
    "\n",
    "def plot_entropy_distribution(model, x, labels):\n",
    "    probs = model(x).mean().numpy()\n",
    "    entropy = -np.sum(probs * np.log2(probs), axis=1)\n",
    "    fig, axes = plt.subplots(1, 2, figsize=(10, 4))\n",
    "    for i, category in zip(range(2), ['Correct', 'Incorrect']):\n",
    "        entropy_category = entropy[get_correct_indices(model, x, labels)[i]]\n",
    "        mean_entropy = np.mean(entropy_category)\n",
    "        num_samples = entropy_category.shape[0]\n",
    "        title = category + 'ly labelled ({:.1f}% of total)'.format(num_samples / x.shape[0] * 100)\n",
    "        axes[i].hist(entropy_category, weights=(1/num_samples)*np.ones(num_samples))\n",
    "        axes[i].annotate('Mean: {:.3f} bits'.format(mean_entropy), (0.4, 0.9), ha='center')\n",
    "        axes[i].set_xlabel('Entropy (bits)')\n",
    "        axes[i].set_ylim([0, 1])\n",
    "        axes[i].set_ylabel('Probability')\n",
    "        axes[i].set_title(title)\n",
    "    plt.show()"
   ]
  },
  {
   "cell_type": "code",
   "execution_count": 254,
   "id": "german-interval",
   "metadata": {},
   "outputs": [
    {
     "name": "stdout",
     "output_type": "stream",
     "text": [
      "MNIST test set:\n"
     ]
    },
    {
     "data": {
      "image/png": "[encoded data removed]",
      "text/plain": [
       "<Figure size 720x288 with 2 Axes>"
      ]
     },
     "metadata": {
      "needs_background": "light"
     },
     "output_type": "display_data"
    }
   ],
   "source": [
    "# Entropy plots for the MNIST dataset\n",
    "\n",
    "print('MNIST test set:')\n",
    "plot_entropy_distribution(probabilistic_model, x_test, y_test)"
   ]
  },
  {
   "cell_type": "code",
   "execution_count": 255,
   "id": "planned-composition",
   "metadata": {},
   "outputs": [
    {
     "name": "stdout",
     "output_type": "stream",
     "text": [
      "Corrupted MNIST test set:\n"
     ]
    },
    {
     "data": {
      "image/png": "[encoded data removed]",
      "text/plain": [
       "<Figure size 720x288 with 2 Axes>"
      ]
     },
     "metadata": {
      "needs_background": "light"
     },
     "output_type": "display_data"
    }
   ],
   "source": [
    "# Entropy plots for the MNIST-C dataset\n",
    "\n",
    "print('Corrupted MNIST test set:')\n",
    "plot_entropy_distribution(probabilistic_model, x_c_test, y_c_test)"
   ]
  },
  {
   "cell_type": "markdown",
   "id": "automated-richmond",
   "metadata": {},
   "source": [
    "# 7. Conclusions"
   ]
  },
  {
   "cell_type": "markdown",
   "id": "premier-notebook",
   "metadata": {},
   "source": [
    "From the results above we can see that the model is more unsure on the predictions it got wrong this means it knows when the prediction may be wrong. These are great properties to have in a machine learning model, and is one of the advantages of probabilistic modelling."
   ]
  },
  {
   "cell_type": "markdown",
   "id": "medical-russia",
   "metadata": {},
   "source": [
    "# 8. References and Materials\n",
    "\n",
    "[1] - [Coursera: TensorFlow 2 for Deep Learning Specialization](https://www.coursera.org/specializations/tensorflow2-deeplearning)\n",
    "\n",
    "[2] - [Coursera: Deep Learning Specialization](https://www.coursera.org/specializations/deep-learning)\n",
    "\n",
    "[3] - [TensorFlow Probability Guides and Tutorials](https://www.tensorflow.org/probability/overview)\n",
    "\n",
    "[4] - [TensorFlow Probability Posts in TensorFlow Blog](https://blog.tensorflow.org/search?label=TensorFlow+Probability&max-results=20)"
   ]
  }
 ],
 "metadata": {
  "kernelspec": {
   "display_name": "Python 3",
   "language": "python",
   "name": "python3"
  },
  "language_info": {
   "codemirror_mode": {
    "name": "ipython",
    "version": 3
   },
   "file_extension": ".py",
   "mimetype": "text/x-python",
   "name": "python",
   "nbconvert_exporter": "python",
   "pygments_lexer": "ipython3",
   "version": "3.8.5"
  }
 },
 "nbformat": 4,
 "nbformat_minor": 5
}
